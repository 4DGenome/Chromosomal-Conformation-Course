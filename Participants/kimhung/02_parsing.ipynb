{
 "cells": [
  {
   "cell_type": "code",
   "execution_count": 1,
   "metadata": {
    "collapsed": true
   },
   "outputs": [],
   "source": [
    "from pytadbit.parsers.genome_parser import parse_fasta"
   ]
  },
  {
   "cell_type": "code",
   "execution_count": 2,
   "metadata": {
    "collapsed": false
   },
   "outputs": [
    {
     "name": "stdout",
     "output_type": "stream",
     "text": [
      "Parsing chr1\n",
      "Parsing chr2\n",
      "Parsing chr3\n",
      "Parsing chr4\n",
      "Parsing chr5\n",
      "Parsing chr6\n",
      "Parsing chr7\n",
      "Parsing chr8\n",
      "Parsing chr9\n",
      "Parsing chr10\n",
      "Parsing chr11\n",
      "Parsing chr12\n",
      "Parsing chr13\n",
      "Parsing chr14\n",
      "Parsing chr15\n",
      "Parsing chr16\n",
      "Parsing chr17\n",
      "Parsing chr18\n",
      "Parsing chr19\n",
      "Parsing chr20\n",
      "Parsing chr21\n",
      "Parsing chr22\n",
      "Parsing chrX\n",
      "Parsing chrY\n",
      "Parsing chrM\n"
     ]
    }
   ],
   "source": [
    "genome_seq = parse_fasta(\n",
    "    '/media/storage/db/reference_genome/Homo_sapiens/hg38/hg38.fa')"
   ]
  },
  {
   "cell_type": "code",
   "execution_count": 11,
   "metadata": {
    "collapsed": true
   },
   "outputs": [],
   "source": [
    "maps1 = [\n",
    "    'results/HindIII/01_mapping/mapHindIII_r1/K562_HindIII_1_full_1-end.map',\n",
    "    'results/HindIII/01_mapping/mapHindIII_r1/K562_HindIII_1_frag_1-end.map']"
   ]
  },
  {
   "cell_type": "code",
   "execution_count": 12,
   "metadata": {
    "collapsed": true
   },
   "outputs": [],
   "source": [
    "maps2 = [\n",
    "    'results/HindIII/01_mapping/mapHindIII_r1/K562_HindIII_2_full_1-end.map',\n",
    "    'results/HindIII/01_mapping/mapHindIII_r1/K562_HindIII_2_frag_1-end.map']"
   ]
  },
  {
   "cell_type": "code",
   "execution_count": 13,
   "metadata": {
    "collapsed": true
   },
   "outputs": [],
   "source": [
    "! mkdir -p results/HindIII/02_parsing"
   ]
  },
  {
   "cell_type": "code",
   "execution_count": 14,
   "metadata": {
    "collapsed": true
   },
   "outputs": [],
   "source": [
    "from pytadbit.parsers.map_parser import parse_map"
   ]
  },
  {
   "cell_type": "code",
   "execution_count": 15,
   "metadata": {
    "collapsed": false
   },
   "outputs": [
    {
     "name": "stdout",
     "output_type": "stream",
     "text": [
      "Searching and mapping RE sites to the reference genome\n",
      "Found 860368 RE sites\n",
      "Loading read1\n",
      "loading file: results/HindIII/01_mapping/mapHindIII_r1/K562_HindIII_1_full_1-end.map\n",
      "loading file: results/HindIII/01_mapping/mapHindIII_r1/K562_HindIII_1_frag_1-end.map\n",
      "Merge sort...........\n",
      "Getting Multiple contacts\n",
      "Loading read2\n",
      "Merge sort\n"
     ]
    },
    {
     "ename": "IndexError",
     "evalue": "list index out of range",
     "output_type": "error",
     "traceback": [
      "\u001b[0;31m---------------------------------------------------------------------------\u001b[0m",
      "\u001b[0;31mIndexError\u001b[0m                                Traceback (most recent call last)",
      "\u001b[0;32m<ipython-input-15-e49ea05fb9ad>\u001b[0m in \u001b[0;36m<module>\u001b[0;34m()\u001b[0m\n\u001b[1;32m      4\u001b[0m          \u001b[0;34m'results/HindIII/02_parsing/reads2.tvs'\u001b[0m\u001b[0;34m,\u001b[0m\u001b[0;34m\u001b[0m\u001b[0m\n\u001b[1;32m      5\u001b[0m          \u001b[0mgenome_seq\u001b[0m\u001b[0;34m=\u001b[0m\u001b[0mgenome_seq\u001b[0m\u001b[0;34m,\u001b[0m \u001b[0mre_name\u001b[0m\u001b[0;34m=\u001b[0m\u001b[0;34m'HindIII'\u001b[0m\u001b[0;34m,\u001b[0m\u001b[0;34m\u001b[0m\u001b[0m\n\u001b[0;32m----> 6\u001b[0;31m          verbose=True)\n\u001b[0m",
      "\u001b[0;32m/home/student/.miniconda2/lib/python2.7/site-packages/pytadbit/parsers/map_parser.pyc\u001b[0m in \u001b[0;36mparse_map\u001b[0;34m(f_names1, f_names2, out_file1, out_file2, genome_seq, re_name, verbose, clean, **kwargs)\u001b[0m\n\u001b[1;32m    141\u001b[0m         \u001b[0;32mif\u001b[0m \u001b[0mverbose\u001b[0m\u001b[0;34m:\u001b[0m\u001b[0;34m\u001b[0m\u001b[0m\n\u001b[1;32m    142\u001b[0m             \u001b[0mstdout\u001b[0m\u001b[0;34m.\u001b[0m\u001b[0mwrite\u001b[0m\u001b[0;34m(\u001b[0m\u001b[0;34m'\\n'\u001b[0m\u001b[0;34m)\u001b[0m\u001b[0;34m\u001b[0m\u001b[0m\n\u001b[0;32m--> 143\u001b[0;31m         \u001b[0mtmp_name\u001b[0m \u001b[0;34m=\u001b[0m \u001b[0mtmp_files\u001b[0m\u001b[0;34m[\u001b[0m\u001b[0;36m0\u001b[0m\u001b[0;34m]\u001b[0m\u001b[0;34m\u001b[0m\u001b[0m\n\u001b[0m\u001b[1;32m    144\u001b[0m \u001b[0;34m\u001b[0m\u001b[0m\n\u001b[1;32m    145\u001b[0m         \u001b[0;32mif\u001b[0m \u001b[0mverbose\u001b[0m\u001b[0;34m:\u001b[0m\u001b[0;34m\u001b[0m\u001b[0m\n",
      "\u001b[0;31mIndexError\u001b[0m: list index out of range"
     ]
    }
   ],
   "source": [
    "parse_map(maps1,\n",
    "         maps2,\n",
    "         'results/HindIII/02_parsing/reads1.tvs',\n",
    "         'results/HindIII/02_parsing/reads2.tvs',\n",
    "         genome_seq=genome_seq, re_name='HindIII',\n",
    "         verbose=True)"
   ]
  },
  {
   "cell_type": "code",
   "execution_count": 9,
   "metadata": {
    "collapsed": false
   },
   "outputs": [
    {
     "ename": "NameError",
     "evalue": "name 'maps1' is not defined",
     "output_type": "error",
     "traceback": [
      "\u001b[0;31m---------------------------------------------------------------------------\u001b[0m",
      "\u001b[0;31mNameError\u001b[0m                                 Traceback (most recent call last)",
      "\u001b[0;32m<ipython-input-9-e49ea05fb9ad>\u001b[0m in \u001b[0;36m<module>\u001b[0;34m()\u001b[0m\n\u001b[0;32m----> 1\u001b[0;31m parse_map(maps1,\n\u001b[0m\u001b[1;32m      2\u001b[0m          \u001b[0mmaps2\u001b[0m\u001b[0;34m,\u001b[0m\u001b[0;34m\u001b[0m\u001b[0m\n\u001b[1;32m      3\u001b[0m          \u001b[0;34m'results/HindIII/02_parsing/reads1.tvs'\u001b[0m\u001b[0;34m,\u001b[0m\u001b[0;34m\u001b[0m\u001b[0m\n\u001b[1;32m      4\u001b[0m          \u001b[0;34m'results/HindIII/02_parsing/reads2.tvs'\u001b[0m\u001b[0;34m,\u001b[0m\u001b[0;34m\u001b[0m\u001b[0m\n\u001b[1;32m      5\u001b[0m          \u001b[0mgenome_seq\u001b[0m\u001b[0;34m=\u001b[0m\u001b[0mgenome_seq\u001b[0m\u001b[0;34m,\u001b[0m \u001b[0mre_name\u001b[0m\u001b[0;34m=\u001b[0m\u001b[0;34m'HindIII'\u001b[0m\u001b[0;34m,\u001b[0m\u001b[0;34m\u001b[0m\u001b[0m\n",
      "\u001b[0;31mNameError\u001b[0m: name 'maps1' is not defined"
     ]
    }
   ],
   "source": [
    "parse_map(maps1,\n",
    "         maps2,\n",
    "         'results/HindIII/02_parsing/reads1.tvs',\n",
    "         'results/HindIII/02_parsing/reads2.tvs',\n",
    "         genome_seq=genome_seq, re_name='HindIII',\n",
    "         verbose=True)"
   ]
  },
  {
   "cell_type": "code",
   "execution_count": 10,
   "metadata": {
    "collapsed": false
   },
   "outputs": [
    {
     "name": "stdout",
     "output_type": "stream",
     "text": [
      "Searching and mapping RE sites to the reference genome\n",
      "Found 860368 RE sites\n",
      "Loading read1\n",
      "loading file: results/HindIII/01_mapping/mapHindIII_r1/K562_HindIII_1_full_1-end.map\n",
      "loading file: results/HindIII/01_mapping/mapHindIII_r1/K562_HindIII_1_frag_1-end.map\n",
      "Merge sort...........\n",
      "Getting Multiple contacts\n",
      "Loading read2\n",
      "Merge sort\n"
     ]
    },
    {
     "name": "stderr",
     "output_type": "stream",
     "text": [
      "/home/student/.miniconda2/lib/python2.7/site-packages/pytadbit/parsers/map_parser.py:90: UserWarning: WARNING: file \"results/HindIII/01_mapping/mapHindIII_r1/K562_HindIII_2_full_1-end.map\" not found\n",
      "\n",
      "  warn('WARNING: file \"%s\" not found\\n' % fnam)\n",
      "/home/student/.miniconda2/lib/python2.7/site-packages/pytadbit/parsers/map_parser.py:90: UserWarning: WARNING: file \"results/HindIII/01_mapping/mapHindIII_r1/K562_HindIII_2_frag_1-end.map\" not found\n",
      "\n",
      "  warn('WARNING: file \"%s\" not found\\n' % fnam)\n"
     ]
    },
    {
     "ename": "IndexError",
     "evalue": "list index out of range",
     "output_type": "error",
     "traceback": [
      "\u001b[0;31m---------------------------------------------------------------------------\u001b[0m",
      "\u001b[0;31mIndexError\u001b[0m                                Traceback (most recent call last)",
      "\u001b[0;32m<ipython-input-10-8afbd0ac6374>\u001b[0m in \u001b[0;36m<module>\u001b[0;34m()\u001b[0m\n\u001b[1;32m      4\u001b[0m          \u001b[0;34m'results/HindIII/02_parsing/reads2.tvs'\u001b[0m\u001b[0;34m,\u001b[0m\u001b[0;34m\u001b[0m\u001b[0m\n\u001b[1;32m      5\u001b[0m          \u001b[0mgenome_seq\u001b[0m\u001b[0;34m=\u001b[0m\u001b[0mgenome_seq\u001b[0m\u001b[0;34m,\u001b[0m \u001b[0mre_name\u001b[0m\u001b[0;34m=\u001b[0m\u001b[0;34m'HindIII'\u001b[0m\u001b[0;34m,\u001b[0m\u001b[0;34m\u001b[0m\u001b[0m\n\u001b[0;32m----> 6\u001b[0;31m          verbose=True)\n\u001b[0m",
      "\u001b[0;32m/home/student/.miniconda2/lib/python2.7/site-packages/pytadbit/parsers/map_parser.pyc\u001b[0m in \u001b[0;36mparse_map\u001b[0;34m(f_names1, f_names2, out_file1, out_file2, genome_seq, re_name, verbose, clean, **kwargs)\u001b[0m\n\u001b[1;32m    141\u001b[0m         \u001b[0;32mif\u001b[0m \u001b[0mverbose\u001b[0m\u001b[0;34m:\u001b[0m\u001b[0;34m\u001b[0m\u001b[0m\n\u001b[1;32m    142\u001b[0m             \u001b[0mstdout\u001b[0m\u001b[0;34m.\u001b[0m\u001b[0mwrite\u001b[0m\u001b[0;34m(\u001b[0m\u001b[0;34m'\\n'\u001b[0m\u001b[0;34m)\u001b[0m\u001b[0;34m\u001b[0m\u001b[0m\n\u001b[0;32m--> 143\u001b[0;31m         \u001b[0mtmp_name\u001b[0m \u001b[0;34m=\u001b[0m \u001b[0mtmp_files\u001b[0m\u001b[0;34m[\u001b[0m\u001b[0;36m0\u001b[0m\u001b[0;34m]\u001b[0m\u001b[0;34m\u001b[0m\u001b[0m\n\u001b[0m\u001b[1;32m    144\u001b[0m \u001b[0;34m\u001b[0m\u001b[0m\n\u001b[1;32m    145\u001b[0m         \u001b[0;32mif\u001b[0m \u001b[0mverbose\u001b[0m\u001b[0;34m:\u001b[0m\u001b[0;34m\u001b[0m\u001b[0m\n",
      "\u001b[0;31mIndexError\u001b[0m: list index out of range"
     ]
    }
   ],
   "source": [
    "parse_map(map1,\n",
    "         map2,\n",
    "         'results/HindIII/02_parsing/reads1.tvs',\n",
    "         'results/HindIII/02_parsing/reads2.tvs',\n",
    "         genome_seq=genome_seq, re_name='HindIII',\n",
    "         verbose=True)"
   ]
  },
  {
   "cell_type": "code",
   "execution_count": null,
   "metadata": {
    "collapsed": true
   },
   "outputs": [],
   "source": []
  }
 ],
 "metadata": {
  "kernelspec": {
   "display_name": "Python 2",
   "language": "python",
   "name": "python2"
  },
  "language_info": {
   "codemirror_mode": {
    "name": "ipython",
    "version": 2
   },
   "file_extension": ".py",
   "mimetype": "text/x-python",
   "name": "python",
   "nbconvert_exporter": "python",
   "pygments_lexer": "ipython2",
   "version": "2.7.13"
  }
 },
 "nbformat": 4,
 "nbformat_minor": 2
}
