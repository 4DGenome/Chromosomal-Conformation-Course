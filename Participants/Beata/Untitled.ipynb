{
 "cells": [
  {
   "cell_type": "code",
   "execution_count": 1,
   "metadata": {
    "collapsed": true
   },
   "outputs": [],
   "source": [
    "from pytadbit.parsers.genome_parser import parse_fasta"
   ]
  },
  {
   "cell_type": "code",
   "execution_count": 2,
   "metadata": {
    "collapsed": false
   },
   "outputs": [
    {
     "name": "stdout",
     "output_type": "stream",
     "text": [
      "Parsing chr1\n",
      "Parsing chr2\n",
      "Parsing chr3\n",
      "Parsing chr4\n",
      "Parsing chr5\n",
      "Parsing chr6\n",
      "Parsing chr7\n",
      "Parsing chr8\n",
      "Parsing chr9\n",
      "Parsing chr10\n",
      "Parsing chr11\n",
      "Parsing chr12\n",
      "Parsing chr13\n",
      "Parsing chr14\n",
      "Parsing chr15\n",
      "Parsing chr16\n",
      "Parsing chr17\n",
      "Parsing chr18\n",
      "Parsing chr19\n",
      "Parsing chr20\n",
      "Parsing chr21\n",
      "Parsing chr22\n",
      "Parsing chrX\n",
      "Parsing chrY\n",
      "Parsing chrM\n"
     ]
    }
   ],
   "source": [
    "genome_seq = parse_fasta(\n",
    "'/media/storage/db/reference_genome/Homo_sapiens/hg38/hg38.fa')"
   ]
  },
  {
   "cell_type": "code",
   "execution_count": 9,
   "metadata": {
    "collapsed": true
   },
   "outputs": [],
   "source": [
    "maps1 = ['results/HindIII/01_mapping/mapHindIII_r1/K562_HindIII_1_full_1-end'\n",
    "        'results/HindIII/01_mapping/mapHindIII_r1/K562_HindIII_1_frag_1-end']"
   ]
  },
  {
   "cell_type": "code",
   "execution_count": 4,
   "metadata": {
    "collapsed": true
   },
   "outputs": [],
   "source": [
    "maps2 = ['results/HindIII/01_mapping/mapHindIII_r2/K562_HindIII_2_full_1-end'\n",
    "        'results/HindIII/01_mapping/mapHindIII_r2/K562_HindIII_2_frag_1-end']"
   ]
  },
  {
   "cell_type": "code",
   "execution_count": 5,
   "metadata": {
    "collapsed": true
   },
   "outputs": [],
   "source": [
    "! mkdir -p results/HindIII/02_parsing"
   ]
  },
  {
   "cell_type": "code",
   "execution_count": 6,
   "metadata": {
    "collapsed": true
   },
   "outputs": [],
   "source": [
    "from pytadbit.parsers.map_parser import parse_map"
   ]
  },
  {
   "cell_type": "code",
   "execution_count": 10,
   "metadata": {
    "collapsed": false
   },
   "outputs": [
    {
     "ename": "SyntaxError",
     "evalue": "invalid syntax (<ipython-input-10-e7ed468b68c7>, line 3)",
     "output_type": "error",
     "traceback": [
      "\u001b[0;36m  File \u001b[0;32m\"<ipython-input-10-e7ed468b68c7>\"\u001b[0;36m, line \u001b[0;32m3\u001b[0m\n\u001b[0;31m    'results/HindIII/02_parsing/reads1.tsv',\u001b[0m\n\u001b[0m                                          ^\u001b[0m\n\u001b[0;31mSyntaxError\u001b[0m\u001b[0;31m:\u001b[0m invalid syntax\n"
     ]
    }
   ],
   "source": [
    "parse_map(maps1,\n",
    "          maps2\n",
    "         'results/HindIII/02_parsing/reads1.tsv',\n",
    "         'results/HindIII/02_parsing/reads2.tsv',\n",
    "         genome_seq=genome_seq, re_name='HindIII',\n",
    "         verbose=True)"
   ]
  },
  {
   "cell_type": "code",
   "execution_count": null,
   "metadata": {
    "collapsed": true
   },
   "outputs": [],
   "source": []
  }
 ],
 "metadata": {
  "kernelspec": {
   "display_name": "Python 2",
   "language": "python",
   "name": "python2"
  },
  "language_info": {
   "codemirror_mode": {
    "name": "ipython",
    "version": 2
   },
   "file_extension": ".py",
   "mimetype": "text/x-python",
   "name": "python",
   "nbconvert_exporter": "python",
   "pygments_lexer": "ipython2",
   "version": "2.7.13"
  }
 },
 "nbformat": 4,
 "nbformat_minor": 2
}
