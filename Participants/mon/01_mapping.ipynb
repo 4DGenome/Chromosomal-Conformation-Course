{
 "cells": [
  {
   "cell_type": "markdown",
   "metadata": {},
   "source": [
    "# iterative mapping"
   ]
  },
  {
   "cell_type": "code",
   "execution_count": 28,
   "metadata": {
    "collapsed": true
   },
   "outputs": [],
   "source": [
    "r_enz = 'HindIII'"
   ]
  },
  {
   "cell_type": "code",
   "execution_count": 29,
   "metadata": {
    "collapsed": true
   },
   "outputs": [],
   "source": [
    "from pytadbit.mapping.full_mapper import full_mapping"
   ]
  },
  {
   "cell_type": "code",
   "execution_count": 15,
   "metadata": {
    "collapsed": false
   },
   "outputs": [
    {
     "ename": "SyntaxError",
     "evalue": "invalid syntax (<ipython-input-15-8f525816f993>, line 1)",
     "output_type": "error",
     "traceback": [
      "\u001b[0;36m  File \u001b[0;32m\"<ipython-input-15-8f525816f993>\"\u001b[0;36m, line \u001b[0;32m1\u001b[0m\n\u001b[0;31m    full_mapping('media/storage/db/reference_genome/Homo_sapiens/hg38/hg38.gem'nthreads=2, clean=True, r_enz=r_enz, frag_map=False, out_map_dir='results/{0}/01_mapping/map{0}_r1.format(r_enz)',fastq_path='media/storage/FASTQs/K56_{0}_1.fastq'.format(r_enz),windows=((1,25),(1,30),(1,35),(1,40),(1,45),(1,50)))\u001b[0m\n\u001b[0m                                                                                      ^\u001b[0m\n\u001b[0;31mSyntaxError\u001b[0m\u001b[0;31m:\u001b[0m invalid syntax\n"
     ]
    }
   ],
   "source": [
    "full_mapping('media/storage/db/reference_genome/Homo_sapiens/hg38/hg38.gem'nthreads=2, clean=True, r_enz=r_enz, frag_map=False, out_map_dir='results/{0}/01_mapping/map{0}_r1.format(r_enz)',fastq_path='media/storage/FASTQs/K56_{0}_1.fastq'.format(r_enz),windows=((1,25),(1,30),(1,35),(1,40),(1,45),(1,50)))"
   ]
  },
  {
   "cell_type": "markdown",
   "metadata": {},
   "source": []
  },
  {
   "cell_type": "markdown",
   "metadata": {},
   "source": [
    "# fragment based mapping\n"
   ]
  },
  {
   "cell_type": "code",
   "execution_count": 21,
   "metadata": {
    "collapsed": false
   },
   "outputs": [],
   "source": [
    "! mkdir -p results"
   ]
  },
  {
   "cell_type": "code",
   "execution_count": 22,
   "metadata": {
    "collapsed": false
   },
   "outputs": [],
   "source": [
    "! mkdir -p results/HindIII"
   ]
  },
  {
   "cell_type": "code",
   "execution_count": 23,
   "metadata": {
    "collapsed": true
   },
   "outputs": [],
   "source": [
    "! mkdir -p results/HindIII/01_mapping"
   ]
  },
  {
   "cell_type": "code",
   "execution_count": 24,
   "metadata": {
    "collapsed": false
   },
   "outputs": [],
   "source": [
    "! mkdir -p results/MboI"
   ]
  },
  {
   "cell_type": "code",
   "execution_count": 26,
   "metadata": {
    "collapsed": false
   },
   "outputs": [],
   "source": [
    "! mkdir -p results/Mbo/01mapping"
   ]
  },
  {
   "cell_type": "code",
   "execution_count": null,
   "metadata": {
    "collapsed": false,
    "scrolled": true
   },
   "outputs": [
    {
     "name": "stderr",
     "output_type": "stream",
     "text": [
      "/home/student/.miniconda2/lib/python2.7/site-packages/pytadbit/mapping/full_mapper.py:390: UserWarning: WARNING: only 199 Gb left on tmp_dir: /home/student/tmp\n",
      "\n",
      "  warn('WARNING: only %d Gb left on tmp_dir: %s\\n' % (fspace, temp_dir))\n"
     ]
    },
    {
     "name": "stdout",
     "output_type": "stream",
     "text": [
      "Preparing FASTQ file\n",
      "  - conversion to MAP format\n",
      "Mapping reads in window 1-end...\n",
      "TO GEM /home/student/tmp/K562_HindIII_1_qjfa9v\n",
      "/usr/local/bin/gem-mapper -I /media/storage/db/reference_genome/Homo_sapiens/hg38/hg38.gem -q offset-33 -m 0.04 -s 0 --allow-incomplete-strata 0.00 --granularity 10000 --max-decoded-matches 1 --min-decoded-strata 0 --min-insert-size 0 --max-insert-size 0 --min-matched-bases 0.8 --gem-quality-threshold 26 --max-big-indel-length 15 --mismatch-alphabet ACGT -E 0.30 --max-extendable-matches 20 --max-extensions-per-match 1 -e 0.04 -T 2 -i /home/student/tmp/K562_HindIII_1_qjfa9v -o /home/student/tmp/K562_HindIII_1_qjfa9v_full_1-end\n",
      "Parsing result...\n",
      "   x removing GEM input /home/student/tmp/K562_HindIII_1_qjfa9v\n",
      "   x removing map /home/student/tmp/K562_HindIII_1_qjfa9v_full_1-end.map\n",
      "  - splitting into restriction enzyme (RE) fragments using ligation sites\n",
      "  - ligation sites are replaced by RE sites to match the reference genome\n",
      "    * enzyme: HindIII, ligation site: AAGCTAGCTT, RE site: AAGCTT\n",
      "Preparing MAP file\n",
      "   x removing pre-GEM input /home/student/tmp/K562_HindIII_1_qjfa9v_filt_1-end.map\n",
      "Mapping fragments of remaining reads...\n",
      "TO GEM /home/student/tmp/K562_HindIII_1_I8AOK_\n",
      "/usr/local/bin/gem-mapper -I /media/storage/db/reference_genome/Homo_sapiens/hg38/hg38.gem -q offset-33 -m 0.04 -s 0 --allow-incomplete-strata 0.00 --granularity 10000 --max-decoded-matches 1 --min-decoded-strata 0 --min-insert-size 0 --max-insert-size 0 --min-matched-bases 0.8 --gem-quality-threshold 26 --max-big-indel-length 15 --mismatch-alphabet ACGT -E 0.30 --max-extendable-matches 20 --max-extensions-per-match 1 -e 0.04 -T 2 -i /home/student/tmp/K562_HindIII_1_I8AOK_ -o /home/student/tmp/K562_HindIII_1_I8AOK__frag_1-end\n",
      "Parsing result...\n",
      "   x removing GEM input /home/student/tmp/K562_HindIII_1_I8AOK_\n",
      "   x removing failed to map /home/student/tmp/K562_HindIII_1_qjfa9v_fail.map\n",
      "   x removing tmp mapped /home/student/tmp/K562_HindIII_1_I8AOK__frag_1-end.map\n"
     ]
    },
    {
     "data": {
      "text/plain": [
       "['results/HindIII/01_mapping/mapHindIII_r1/K562_HindIII_1_full_1-end.map',\n",
       " 'results/HindIII/01_mapping/mapHindIII_r1/K562_HindIII_1_frag_1-end.map']"
      ]
     },
     "execution_count": 32,
     "metadata": {},
     "output_type": "execute_result"
    }
   ],
   "source": [
    "full_mapping('/media/storage/db/reference_genome/Homo_sapiens/hg38/hg38.gem', nthreads=2, clean=True, r_enz=r_enz, frag_map=True, out_map_dir='results/{0}/01_mapping/map{0}_r1'.format(r_enz),fastq_path='/media/storage/FASTQs/K562_{0}_1.fastq'.format(r_enz))"
   ]
  },
  {
   "cell_type": "code",
   "execution_count": 35,
   "metadata": {
    "collapsed": false
   },
   "outputs": [
    {
     "name": "stderr",
     "output_type": "stream",
     "text": [
      "/home/student/.miniconda2/lib/python2.7/site-packages/pytadbit/mapping/full_mapper.py:390: UserWarning: WARNING: only 57 Gb left on tmp_dir: /home/student/tmp\n",
      "\n",
      "  warn('WARNING: only %d Gb left on tmp_dir: %s\\n' % (fspace, temp_dir))\n"
     ]
    },
    {
     "name": "stdout",
     "output_type": "stream",
     "text": [
      "Preparing FASTQ file\n",
      "  - conversion to MAP format\n",
      "Mapping reads in window 1-end...\n",
      "TO GEM /home/student/tmp/K562_HindIII_2_iCDZjg\n",
      "/usr/local/bin/gem-mapper -I /media/storage/db/reference_genome/Homo_sapiens/hg38/hg38.gem -q offset-33 -m 0.04 -s 0 --allow-incomplete-strata 0.00 --granularity 10000 --max-decoded-matches 1 --min-decoded-strata 0 --min-insert-size 0 --max-insert-size 0 --min-matched-bases 0.8 --gem-quality-threshold 26 --max-big-indel-length 15 --mismatch-alphabet ACGT -E 0.30 --max-extendable-matches 20 --max-extensions-per-match 1 -e 0.04 -T 2 -i /home/student/tmp/K562_HindIII_2_iCDZjg -o /home/student/tmp/K562_HindIII_2_iCDZjg_full_1-end\n"
     ]
    },
    {
     "ename": "KeyboardInterrupt",
     "evalue": "",
     "output_type": "error",
     "traceback": [
      "\u001b[0;31m---------------------------------------------------------------------------\u001b[0m",
      "\u001b[0;31mKeyboardInterrupt\u001b[0m                         Traceback (most recent call last)",
      "\u001b[0;32m<ipython-input-35-7c72cc2eebff>\u001b[0m in \u001b[0;36m<module>\u001b[0;34m()\u001b[0m\n\u001b[0;32m----> 1\u001b[0;31m \u001b[0mfull_mapping\u001b[0m\u001b[0;34m(\u001b[0m\u001b[0;34m'/media/storage/db/reference_genome/Homo_sapiens/hg38/hg38.gem'\u001b[0m\u001b[0;34m,\u001b[0m \u001b[0mnthreads\u001b[0m\u001b[0;34m=\u001b[0m\u001b[0;36m2\u001b[0m\u001b[0;34m,\u001b[0m \u001b[0mclean\u001b[0m\u001b[0;34m=\u001b[0m\u001b[0mTrue\u001b[0m\u001b[0;34m,\u001b[0m \u001b[0mr_enz\u001b[0m\u001b[0;34m=\u001b[0m\u001b[0mr_enz\u001b[0m\u001b[0;34m,\u001b[0m \u001b[0mfrag_map\u001b[0m\u001b[0;34m=\u001b[0m\u001b[0mTrue\u001b[0m\u001b[0;34m,\u001b[0m \u001b[0mout_map_dir\u001b[0m\u001b[0;34m=\u001b[0m\u001b[0;34m'results/{0}/01_mapping/map{0}_r2'\u001b[0m\u001b[0;34m.\u001b[0m\u001b[0mformat\u001b[0m\u001b[0;34m(\u001b[0m\u001b[0mr_enz\u001b[0m\u001b[0;34m)\u001b[0m\u001b[0;34m,\u001b[0m\u001b[0mfastq_path\u001b[0m\u001b[0;34m=\u001b[0m\u001b[0;34m'/media/storage/FASTQs/K562_{0}_2.fastq'\u001b[0m\u001b[0;34m.\u001b[0m\u001b[0mformat\u001b[0m\u001b[0;34m(\u001b[0m\u001b[0mr_enz\u001b[0m\u001b[0;34m)\u001b[0m\u001b[0;34m)\u001b[0m\u001b[0;34m\u001b[0m\u001b[0m\n\u001b[0m",
      "\u001b[0;32m/home/student/.miniconda2/lib/python2.7/site-packages/pytadbit/mapping/full_mapper.pyc\u001b[0m in \u001b[0;36mfull_mapping\u001b[0;34m(gem_index_path, fastq_path, out_map_dir, r_enz, frag_map, min_seq_len, windows, add_site, clean, get_nread, **kwargs)\u001b[0m\n\u001b[1;32m    435\u001b[0m \u001b[0;34m\u001b[0m\u001b[0m\n\u001b[1;32m    436\u001b[0m         \u001b[0;32mif\u001b[0m \u001b[0;32mnot\u001b[0m \u001b[0mskip\u001b[0m\u001b[0;34m:\u001b[0m\u001b[0;34m\u001b[0m\u001b[0m\n\u001b[0;32m--> 437\u001b[0;31m             \u001b[0mgem_mapping\u001b[0m\u001b[0;34m(\u001b[0m\u001b[0mgem_index_path\u001b[0m\u001b[0;34m,\u001b[0m \u001b[0mcurr_map\u001b[0m\u001b[0;34m,\u001b[0m \u001b[0mout_map_path\u001b[0m\u001b[0;34m,\u001b[0m \u001b[0;34m**\u001b[0m\u001b[0mkwargs\u001b[0m\u001b[0;34m)\u001b[0m\u001b[0;34m\u001b[0m\u001b[0m\n\u001b[0m\u001b[1;32m    438\u001b[0m             \u001b[0;31m# parse map file to extract not uniquely mapped reads\u001b[0m\u001b[0;34m\u001b[0m\u001b[0;34m\u001b[0m\u001b[0m\n\u001b[1;32m    439\u001b[0m             \u001b[0;32mprint\u001b[0m \u001b[0;34m'Parsing result...'\u001b[0m\u001b[0;34m\u001b[0m\u001b[0m\n",
      "\u001b[0;32m/home/student/.miniconda2/lib/python2.7/site-packages/pytadbit/mapping/full_mapper.pyc\u001b[0m in \u001b[0;36mgem_mapping\u001b[0;34m(gem_index_path, fastq_path, out_map_path, gem_binary, **kwargs)\u001b[0m\n\u001b[1;32m    328\u001b[0m     \u001b[0;32mtry\u001b[0m\u001b[0;34m:\u001b[0m\u001b[0;34m\u001b[0m\u001b[0m\n\u001b[1;32m    329\u001b[0m         \u001b[0;31m# check_call(gem_cmd, stdout=PIPE, stderr=PIPE)\u001b[0m\u001b[0;34m\u001b[0m\u001b[0;34m\u001b[0m\u001b[0m\n\u001b[0;32m--> 330\u001b[0;31m         \u001b[0mout\u001b[0m\u001b[0;34m,\u001b[0m \u001b[0merr\u001b[0m \u001b[0;34m=\u001b[0m \u001b[0mPopen\u001b[0m\u001b[0;34m(\u001b[0m\u001b[0mgem_cmd\u001b[0m\u001b[0;34m,\u001b[0m \u001b[0mstdout\u001b[0m\u001b[0;34m=\u001b[0m\u001b[0mPIPE\u001b[0m\u001b[0;34m,\u001b[0m \u001b[0mstderr\u001b[0m\u001b[0;34m=\u001b[0m\u001b[0mPIPE\u001b[0m\u001b[0;34m)\u001b[0m\u001b[0;34m.\u001b[0m\u001b[0mcommunicate\u001b[0m\u001b[0;34m(\u001b[0m\u001b[0;34m)\u001b[0m\u001b[0;34m\u001b[0m\u001b[0m\n\u001b[0m\u001b[1;32m    331\u001b[0m     \u001b[0;32mexcept\u001b[0m \u001b[0mCalledProcessError\u001b[0m \u001b[0;32mas\u001b[0m \u001b[0me\u001b[0m\u001b[0;34m:\u001b[0m\u001b[0;34m\u001b[0m\u001b[0m\n\u001b[1;32m    332\u001b[0m         \u001b[0;32mprint\u001b[0m \u001b[0mout\u001b[0m\u001b[0;34m\u001b[0m\u001b[0m\n",
      "\u001b[0;32m/home/student/.miniconda2/lib/python2.7/subprocess.pyc\u001b[0m in \u001b[0;36mcommunicate\u001b[0;34m(self, input)\u001b[0m\n\u001b[1;32m    477\u001b[0m             \u001b[0;32mreturn\u001b[0m \u001b[0;34m(\u001b[0m\u001b[0mstdout\u001b[0m\u001b[0;34m,\u001b[0m \u001b[0mstderr\u001b[0m\u001b[0;34m)\u001b[0m\u001b[0;34m\u001b[0m\u001b[0m\n\u001b[1;32m    478\u001b[0m \u001b[0;34m\u001b[0m\u001b[0m\n\u001b[0;32m--> 479\u001b[0;31m         \u001b[0;32mreturn\u001b[0m \u001b[0mself\u001b[0m\u001b[0;34m.\u001b[0m\u001b[0m_communicate\u001b[0m\u001b[0;34m(\u001b[0m\u001b[0minput\u001b[0m\u001b[0;34m)\u001b[0m\u001b[0;34m\u001b[0m\u001b[0m\n\u001b[0m\u001b[1;32m    480\u001b[0m \u001b[0;34m\u001b[0m\u001b[0m\n\u001b[1;32m    481\u001b[0m \u001b[0;34m\u001b[0m\u001b[0m\n",
      "\u001b[0;32m/home/student/.miniconda2/lib/python2.7/subprocess.pyc\u001b[0m in \u001b[0;36m_communicate\u001b[0;34m(self, input)\u001b[0m\n\u001b[1;32m   1096\u001b[0m \u001b[0;34m\u001b[0m\u001b[0m\n\u001b[1;32m   1097\u001b[0m             \u001b[0;32mif\u001b[0m \u001b[0m_has_poll\u001b[0m\u001b[0;34m:\u001b[0m\u001b[0;34m\u001b[0m\u001b[0m\n\u001b[0;32m-> 1098\u001b[0;31m                 \u001b[0mstdout\u001b[0m\u001b[0;34m,\u001b[0m \u001b[0mstderr\u001b[0m \u001b[0;34m=\u001b[0m \u001b[0mself\u001b[0m\u001b[0;34m.\u001b[0m\u001b[0m_communicate_with_poll\u001b[0m\u001b[0;34m(\u001b[0m\u001b[0minput\u001b[0m\u001b[0;34m)\u001b[0m\u001b[0;34m\u001b[0m\u001b[0m\n\u001b[0m\u001b[1;32m   1099\u001b[0m             \u001b[0;32melse\u001b[0m\u001b[0;34m:\u001b[0m\u001b[0;34m\u001b[0m\u001b[0m\n\u001b[1;32m   1100\u001b[0m                 \u001b[0mstdout\u001b[0m\u001b[0;34m,\u001b[0m \u001b[0mstderr\u001b[0m \u001b[0;34m=\u001b[0m \u001b[0mself\u001b[0m\u001b[0;34m.\u001b[0m\u001b[0m_communicate_with_select\u001b[0m\u001b[0;34m(\u001b[0m\u001b[0minput\u001b[0m\u001b[0;34m)\u001b[0m\u001b[0;34m\u001b[0m\u001b[0m\n",
      "\u001b[0;32m/home/student/.miniconda2/lib/python2.7/subprocess.pyc\u001b[0m in \u001b[0;36m_communicate_with_poll\u001b[0;34m(self, input)\u001b[0m\n\u001b[1;32m   1150\u001b[0m             \u001b[0;32mwhile\u001b[0m \u001b[0mfd2file\u001b[0m\u001b[0;34m:\u001b[0m\u001b[0;34m\u001b[0m\u001b[0m\n\u001b[1;32m   1151\u001b[0m                 \u001b[0;32mtry\u001b[0m\u001b[0;34m:\u001b[0m\u001b[0;34m\u001b[0m\u001b[0m\n\u001b[0;32m-> 1152\u001b[0;31m                     \u001b[0mready\u001b[0m \u001b[0;34m=\u001b[0m \u001b[0mpoller\u001b[0m\u001b[0;34m.\u001b[0m\u001b[0mpoll\u001b[0m\u001b[0;34m(\u001b[0m\u001b[0;34m)\u001b[0m\u001b[0;34m\u001b[0m\u001b[0m\n\u001b[0m\u001b[1;32m   1153\u001b[0m                 \u001b[0;32mexcept\u001b[0m \u001b[0mselect\u001b[0m\u001b[0;34m.\u001b[0m\u001b[0merror\u001b[0m\u001b[0;34m,\u001b[0m \u001b[0me\u001b[0m\u001b[0;34m:\u001b[0m\u001b[0;34m\u001b[0m\u001b[0m\n\u001b[1;32m   1154\u001b[0m                     \u001b[0;32mif\u001b[0m \u001b[0me\u001b[0m\u001b[0;34m.\u001b[0m\u001b[0margs\u001b[0m\u001b[0;34m[\u001b[0m\u001b[0;36m0\u001b[0m\u001b[0;34m]\u001b[0m \u001b[0;34m==\u001b[0m \u001b[0merrno\u001b[0m\u001b[0;34m.\u001b[0m\u001b[0mEINTR\u001b[0m\u001b[0;34m:\u001b[0m\u001b[0;34m\u001b[0m\u001b[0m\n",
      "\u001b[0;31mKeyboardInterrupt\u001b[0m: "
     ]
    }
   ],
   "source": [
    "full_mapping('/media/storage/db/reference_genome/Homo_sapiens/hg38/hg38.gem', nthreads=2, clean=True, r_enz=r_enz, frag_map=True, out_map_dir='results/{0}/01_mapping/map{0}_r2'.format(r_enz),fastq_path='/media/storage/FASTQs/K562_{0}_2.fastq'.format(r_enz))"
   ]
  },
  {
   "cell_type": "code",
   "execution_count": 36,
   "metadata": {
    "collapsed": false
   },
   "outputs": [
    {
     "ename": "SyntaxError",
     "evalue": "invalid syntax (<ipython-input-36-d0298a47dd9d>, line 2)",
     "output_type": "error",
     "traceback": [
      "\u001b[0;36m  File \u001b[0;32m\"<ipython-input-36-d0298a47dd9d>\"\u001b[0;36m, line \u001b[0;32m2\u001b[0m\n\u001b[0;31m    head results/HindIII/01_mapping/mapHindIII_r1/K562_HindIII_1_full_1-end.map\u001b[0m\n\u001b[0m               ^\u001b[0m\n\u001b[0;31mSyntaxError\u001b[0m\u001b[0;31m:\u001b[0m invalid syntax\n"
     ]
    }
   ],
   "source": [
    "! \n",
    "head results/HindIII/01_mapping/mapHindIII_r1/K562_HindIII_1_full_1-end.map"
   ]
  },
  {
   "cell_type": "code",
   "execution_count": 37,
   "metadata": {
    "collapsed": false
   },
   "outputs": [
    {
     "name": "stdout",
     "output_type": "stream",
     "text": [
      "NS500645:59:HCL32BGXY:1:11101:10953:1055\tCTGACNTACAGGACAGTTATTTTCCAGACTGAAAATTCTCAAACCCAGTCGTGCAAATGATTCTTCCTGCAGTTG\tAAAAA#EEEEEAEEEEEEEEEEEEEEEEEEEEEEEEEEEEEEEEEEEAEEEEEEAEEEEEEEEEEEEEEEEEEEE\t0:1:0\tchr10:-:2688535:5G69\r\n",
      "NS500645:59:HCL32BGXY:1:11101:24830:1055\tCTTTTNTTTGCTAGTCAAAGGCCTAGGCCTTTATCTTCCTTTTTGCTACAACCCTAAAGGCAAAGAAAGAAAGGG\tAAAAA#EEEEEEEEEEEEEEEEEEEEEEEEEEEEEEEEEEEEEEEEEEEAEEEEEEEEEEEEEEEEEEEEEEEEE\t0:1:0\tchr1:-:50841578:5C69\r\n",
      "NS500645:59:HCL32BGXY:1:11101:6039:1056\tAGGGTNACATAGGTGACATAGCACGTAAGAGCTTGGGTCCTGAAGTTAGATGGGGCTGGGTTTCAAATCTATCCT\tAAAAA#EEEEEEEEEEEEEEEEEEEEEEEEEEEEEEEEEEEEEEEEEEEEEEEEEEEEEEEEEEEEEEEEEEEEE\t0:0:1:0\tchr7:+:129557395:5G65C3\r\n",
      "NS500645:59:HCL32BGXY:1:11101:21852:1056\tCTCTGNTTTGTTTCTTTGTTTGTTATGGTTGTTTTTCAGATAGATATAGTTTCATTACAAAAGAAAATTTGTTAT\tAAAAA#EEEEEEEEEEEEEEEEEEEEEEEEEEEEEEEEEEEEEEEEEEEEEEAEEEEEEEEEEEEEEEEEEEEEE\t0:0:1:0\tchr6:-:23446287:5T68G\r\n",
      "NS500645:59:HCL32BGXY:1:11101:19311:1056\tATTTTNTACCTTTTGAGAAACACTGAACTAATAATATTTCTGAGACCTCTTCAAGCTCTGACATGCTGTGTTTAG\tAAAAA#EEEEEEEEEEEEEEEEEEEEEEEEEEEEEEEEEEEEEEEEEEEEEEEEEEEEEEEEEEEEEEEEEEEEE\t0:1:0\tchr19:-:41066219:5A69\r\n",
      "NS500645:59:HCL32BGXY:1:11101:17157:1056\tATAATNTATTTGCTCTCTTCAGCCTTTTTCCAGTTAGTACTCTCATCAGTAAGGCACATGAAGTGTGAAATTTTG\tAAAAA#EEEEEEEEEEEEEEEEEEEEEEEEAEEEEEEEEEEEEEEEEEEEEEEEEEEEEEEEEEEEEEEEEEEEE\t0:1:0\tchr9:+:114790228:5A69\r\n",
      "NS500645:59:HCL32BGXY:1:11101:26187:1057\tAAACTNATTTTTTTTTTTGCTTTTTTTTCCTTTTAAAAATATGAGCAGTAATCACATTGACTAAACAAACAGCCT\tAAAAA#EEEEEEEEEEEEEEEEEEEEEEE/EEEEEEEEEEEEAEEEEEEEEEEEE6EEEEEEEAEEAEEE/EEEE\t0:1:0\tchr10:+:63481424:5G69\r\n",
      "NS500645:59:HCL32BGXY:1:11101:8600:1058\tAGAGANCCAAAGCTGGATAAATTTTCTACCTGAGAGCTGGAGTTTCCAAGAATGACAGACAGCCATGGGAAGAAG\tAAAAA#EEEEEEEEEEEEAEEEEEEEEEEEEEEEEEEEEEEEEEEEEEEEEEEEEAEEEEEEEEEEEEEEAEEEE\t0:1:0\tchr5:+:53943740:5A69\r\n",
      "NS500645:59:HCL32BGXY:1:11101:8731:1058\tATGAANCTACTACAAGAAAACATTAGGGAAACTCTTCAGGATATTGGTCTGGGCAAAAATTTCTTGAGTAATACC\tAAAAA#EEEEEEEEEEEEEEEEEEEEEEEEEEEEEEEEEEEEEEEEEEEEEEEEEEEEEEEEEEEEEEEEEEEEE\t0:1:0\tchr3:+:17104208:5A69\r\n",
      "NS500645:59:HCL32BGXY:1:11101:23591:1059\tCTATTNGTCTTAATAGTCTGAGTTCCCAAGATAAACAGAACATATACATATATTTATATTATAAGGAATTGGCTC\tAAAAA#EEE/EEEEEEEEEEEE6E<EEEEE/EEEAEEEEEEEEEEEEEEEEAEEEEEEEEEEEEEEE/EAAEEEE\t0:1:0\tchr18:+:41009204:5A69\r\n"
     ]
    }
   ],
   "source": [
    "! head results/HindIII/01_mapping/mapHindIII_r1/K562_HindIII_1_full_1-end.map"
   ]
  },
  {
   "cell_type": "code",
   "execution_count": 38,
   "metadata": {
    "collapsed": false
   },
   "outputs": [
    {
     "name": "stdout",
     "output_type": "stream",
     "text": [
      "NS500645:59:HCL32BGXY:1:11101:14163:1054~2~\tAAGCTTCAAGGAAATACATTT\tHHHHHHEEEEEEAAEE</EEE\t1\tchr2:+:62077808:21\r\n",
      "NS500645:59:HCL32BGXY:1:11101:4416:1054~2~\tAAGCTTCCATTCNTTTGCTTCTGTTGTGTGTTTTTTCTTTTGTTTTTTTTTTGTTTTGGTT\tHHHHHHAEEEE/#EEEEEEEEEEEEEEEEEAEEEEEEEEEEEEEEEEEEEEE/<EEEEEAE\t0:0:1:0\tchr16:+:81452828:12T45T2\r\n",
      "NS500645:59:HCL32BGXY:1:11101:16360:1056\tCGCCTNTCTCCGAGGCCCTGTATTCTGGAATCTTGTGGCTCTCTCTTGGATCCTAAGCTT\tAAAAA#EEEEEEEEEEEEEEEEEEEEEEEEEEEEEEEEEEEEEEEEEEEEEEEEHHHHHH\t0:1:0\tchr2:-:6811943:5C54\r\n",
      "NS500645:59:HCL32BGXY:1:11101:17064:1056\tCATCANTAACTGTATCCAAAAGGAGACGCTGCTTGGGGTGTACCCAGAGAAAACACCAAGCTT\tAAAAA#EEEEEEEEEEEEEEEEEEEEE<EEEAEEEEEEEEEEEEAEEEEEEEEEEEEHHHHHH\t0:1:0\tchr4:-:40244040:5A57\r\n",
      "NS500645:59:HCL32BGXY:1:11101:15358:1057\tAGAAANTTCTACAGACTCCAGAGTGAAGCTT\tAAAAA#EEEEEEEEEEEEEEEEEEEHHHHHH\t0:1\tchr2:-:89284133:5C25\r\n",
      "NS500645:59:HCL32BGXY:1:11101:15358:1057~2~\tAAGCTTAAAAGATTCACCAATTACTTGAAAATGTTTGTGCATGTGT\tHHHHHHEEEEEEEEEEEEEEEEEEEEEEEEEEEEEEEEEEEEEEEE\t1\tchr2:-:58688377:46\r\n",
      "NS500645:59:HCL32BGXY:1:11101:22546:1059\tAGCTTNATCATTTCTAGCTTTTGAGGAAAACTGGGAGACATGCGACTGCTCCTTTCACTTGAAAGCTT\tAAAAA#EEEEEEEEEEEEEEEEEEEEEEEEEEEEEEEAEEEEEEEEEEEEEEEEEEEEEEEEHHHHHH\t0:1:0\tchr14:-:54128571:5A62\r\n",
      "NS500645:59:HCL32BGXY:1:11101:6478:1064~2~\tAAGCTTCCATTTTATTGAAGTAGTGCACAAAGCTTTCCCTCTTATTGAGGGATTTCTTCA\tHHHHHHEEEEEEEEEEEEEEEEEEEEEEEEEEEEEEEEAEEEEEEEEE<EEEEEEEEEEE\t1\tchr1:-:118273696:60\r\n",
      "NS500645:59:HCL32BGXY:1:11101:25274:1064~2~\tAAGCTTTTCAAAACAAAATTAGCTCTTTCAGAATTAAGGCCTTGTTCTCTACAGAGTT\tHHHHHHEEEEEEEEAEEEEEEEEEEEEEEEEEEEEEEEAEEEEEEEEEEEEEAEEEEE\t1\tchrX:-:81223467:58\r\n",
      "NS500645:59:HCL32BGXY:1:11101:18285:1064\tCCCTGNGTTCCTCTGCCTTTCCGGGACAGGGGGGAAGATAAGATTTCATCATGAGAAAGCTT\tAAAAA#EEEAEEEEEAEEEEE<EEEEEEEEEEEEEEEEEEEEEEEEEEEEEEEEEEHHHHHH\t0:1:0\tchr16:+:23130111:5T56\r\n"
     ]
    }
   ],
   "source": [
    "! head results/HindIII/01_mapping/mapHindIII_r1/K562_HindIII_1_frag_1-end.map"
   ]
  },
  {
   "cell_type": "code",
   "execution_count": null,
   "metadata": {
    "collapsed": true
   },
   "outputs": [],
   "source": []
  }
 ],
 "metadata": {
  "kernelspec": {
   "display_name": "Python 2",
   "language": "python",
   "name": "python2"
  },
  "language_info": {
   "codemirror_mode": {
    "name": "ipython",
    "version": 2
   },
   "file_extension": ".py",
   "mimetype": "text/x-python",
   "name": "python",
   "nbconvert_exporter": "python",
   "pygments_lexer": "ipython2",
   "version": "2.7.13"
  }
 },
 "nbformat": 4,
 "nbformat_minor": 2
}
