{
 "cells": [
  {
   "cell_type": "code",
   "execution_count": 5,
   "metadata": {
    "collapsed": true
   },
   "outputs": [],
   "source": [
    "from pytadbit.mapping.analyze import correlate_matrices\n",
    "from pytadbit.mapping.analyze import eig_correlate_matrices\n",
    "from pytadbit import load_hic_data_from_reads\n",
    "from cPickle import load"
   ]
  },
  {
   "cell_type": "code",
   "execution_count": 3,
   "metadata": {
    "collapsed": true
   },
   "outputs": [],
   "source": [
    "reso = 1000000"
   ]
  },
  {
   "cell_type": "code",
   "execution_count": 11,
   "metadata": {
    "collapsed": false
   },
   "outputs": [],
   "source": [
    "hic_data1 = load_hic_data_from_reads(\n",
    "'results/HindIII/03_filtering/valid_reads12_HindIII.tsv',\n",
    "resolution= reso)"
   ]
  },
  {
   "cell_type": "code",
   "execution_count": 12,
   "metadata": {
    "collapsed": true
   },
   "outputs": [],
   "source": [
    "hic_data1.bias = load(open(\n",
    "    'results/HindIII/04_normalizing/biases_1000000_HindIII.pick'))"
   ]
  },
  {
   "cell_type": "code",
   "execution_count": 13,
   "metadata": {
    "collapsed": true
   },
   "outputs": [],
   "source": [
    "hic_data1.bads = load(open(\n",
    "    'results/HindIII/04_normalizing/bad_columns_1000000_HindIII.pick'))"
   ]
  },
  {
   "cell_type": "code",
   "execution_count": 14,
   "metadata": {
    "collapsed": false,
    "deletable": true,
    "editable": true
   },
   "outputs": [],
   "source": [
    "hic_data2 = load_hic_data_from_reads(\n",
    "'results/MboI/03_filtering/valid_reads12_MboI.tsv',\n",
    "resolution= reso)"
   ]
  },
  {
   "cell_type": "code",
   "execution_count": 15,
   "metadata": {
    "collapsed": true,
    "deletable": true,
    "editable": true
   },
   "outputs": [],
   "source": [
    "hic_data2.bias = load(open(\n",
    "    'results/MboI/04_normalizing/biases_1000000_MboI.pick'))"
   ]
  },
  {
   "cell_type": "code",
   "execution_count": 16,
   "metadata": {
    "collapsed": true,
    "deletable": true,
    "editable": true
   },
   "outputs": [],
   "source": [
    "hic_data2.bads = load(open(\n",
    "    'results/MboI/04_normalizing/bad_columns_1000000_MboI.pick'))"
   ]
  },
  {
   "cell_type": "code",
   "execution_count": 21,
   "metadata": {
    "collapsed": true
   },
   "outputs": [],
   "source": [
    "%matplotlib inline"
   ]
  },
  {
   "cell_type": "code",
   "execution_count": 22,
   "metadata": {
    "collapsed": false
   },
   "outputs": [
    {
     "data": {
      "image/png": "[encoded data removed]",
      "text/plain": [
       "<matplotlib.figure.Figure at 0x7f5cf942bb10>"
      ]
     },
     "metadata": {},
     "output_type": "display_data"
    },
    {
     "data": {
      "text/plain": [
       "([0.74569401385371981,\n",
       "  0.84090915711344227,\n",
       "  0.79464652060677199,\n",
       "  0.71383422394495566,\n",
       "  0.65616165558955986,\n",
       "  0.60898868711253118,\n",
       "  0.58164517847634756,\n",
       "  0.56403420383568115,\n",
       "  0.53006468158654696,\n",
       "  0.46170984267229226,\n",
       "  0.49718966624172006,\n",
       "  0.48420690565841779,\n",
       "  0.46382499063599342,\n",
       "  0.45266593737942851,\n",
       "  0.46276312918844048,\n",
       "  0.49817640083480819,\n",
       "  0.4727820605161886,\n",
       "  0.47454402250653877,\n",
       "  0.459816323070873,\n",
       "  0.47583033113923523,\n",
       "  0.46258307096989887,\n",
       "  0.50924852763420914,\n",
       "  0.46715127282005792,\n",
       "  0.48135810010466523,\n",
       "  0.48223980084590296,\n",
       "  0.47551364787005068,\n",
       "  0.47939071635513975,\n",
       "  0.45939228706623791,\n",
       "  0.47675931748330702,\n",
       "  0.45647535528179284,\n",
       "  0.47838943347581114,\n",
       "  0.46474108274156467,\n",
       "  0.4811772186847551,\n",
       "  0.47177777949554917,\n",
       "  0.47864677691006019,\n",
       "  0.42981553694726793,\n",
       "  0.47977587797663274,\n",
       "  0.43072351932459596,\n",
       "  0.42786552780914106,\n",
       "  0.41636394466405474,\n",
       "  0.42808740170880627,\n",
       "  0.3918314056911712,\n",
       "  0.44333533415470228,\n",
       "  0.43238111559564352,\n",
       "  0.37964361005056912,\n",
       "  0.39630538083421951,\n",
       "  0.39817859126157606,\n",
       "  0.38914572137210024,\n",
       "  0.39605753459291665,\n",
       "  0.37898352582441425,\n",
       "  0.34292921826092165,\n",
       "  0.35698231891345983,\n",
       "  0.3636872697591309,\n",
       "  0.35440331306160744,\n",
       "  0.37335452321077522,\n",
       "  0.31512118958082314,\n",
       "  0.33765936240169547,\n",
       "  0.34041660266885676,\n",
       "  0.36625885162059579,\n",
       "  0.3646903581878389,\n",
       "  0.32888626887966466,\n",
       "  0.30807135061733865,\n",
       "  0.32612229977563711,\n",
       "  0.32005807555290205,\n",
       "  0.32761438306252116,\n",
       "  0.31114533795065724,\n",
       "  0.33423908924822576,\n",
       "  0.28976522354951545,\n",
       "  0.25690506223277843,\n",
       "  0.26965107457759518,\n",
       "  0.24872417896018006,\n",
       "  0.29107890005747949,\n",
       "  0.26995010782434248,\n",
       "  0.28369239634833959,\n",
       "  0.27821575317902619,\n",
       "  0.24921821672464095,\n",
       "  0.25693359362138929,\n",
       "  0.22868367056063776,\n",
       "  0.21259378253995539,\n",
       "  0.2044199503240004,\n",
       "  0.2142126320171226,\n",
       "  0.2155910555846017,\n",
       "  0.1922947258091289,\n",
       "  0.20911327572457819,\n",
       "  0.21831359685212937,\n",
       "  0.20281046865331515,\n",
       "  0.20800034946310694,\n",
       "  0.18772427469836359,\n",
       "  0.18686868605257459,\n",
       "  0.1585098258368012,\n",
       "  0.15167328573960676,\n",
       "  0.22588120240045062,\n",
       "  0.15661883513940256,\n",
       "  0.18883785781630605,\n",
       "  0.21410382222972107,\n",
       "  0.19986969244463884,\n",
       "  0.15099579451381157,\n",
       "  0.18302707716339947,\n",
       "  0.17357236093972539,\n",
       "  0.18648729612641157],\n",
       " [1,\n",
       "  2,\n",
       "  3,\n",
       "  4,\n",
       "  5,\n",
       "  6,\n",
       "  7,\n",
       "  8,\n",
       "  9,\n",
       "  10,\n",
       "  11,\n",
       "  12,\n",
       "  13,\n",
       "  14,\n",
       "  15,\n",
       "  16,\n",
       "  17,\n",
       "  18,\n",
       "  19,\n",
       "  20,\n",
       "  21,\n",
       "  22,\n",
       "  23,\n",
       "  24,\n",
       "  25,\n",
       "  26,\n",
       "  27,\n",
       "  28,\n",
       "  29,\n",
       "  30,\n",
       "  31,\n",
       "  32,\n",
       "  33,\n",
       "  34,\n",
       "  35,\n",
       "  36,\n",
       "  37,\n",
       "  38,\n",
       "  39,\n",
       "  40,\n",
       "  41,\n",
       "  42,\n",
       "  43,\n",
       "  44,\n",
       "  45,\n",
       "  46,\n",
       "  47,\n",
       "  48,\n",
       "  49,\n",
       "  50,\n",
       "  51,\n",
       "  52,\n",
       "  53,\n",
       "  54,\n",
       "  55,\n",
       "  56,\n",
       "  57,\n",
       "  58,\n",
       "  59,\n",
       "  60,\n",
       "  61,\n",
       "  62,\n",
       "  63,\n",
       "  64,\n",
       "  65,\n",
       "  66,\n",
       "  67,\n",
       "  68,\n",
       "  69,\n",
       "  70,\n",
       "  71,\n",
       "  72,\n",
       "  73,\n",
       "  74,\n",
       "  75,\n",
       "  76,\n",
       "  77,\n",
       "  78,\n",
       "  79,\n",
       "  80,\n",
       "  81,\n",
       "  82,\n",
       "  83,\n",
       "  84,\n",
       "  85,\n",
       "  86,\n",
       "  87,\n",
       "  88,\n",
       "  89,\n",
       "  90,\n",
       "  91,\n",
       "  92,\n",
       "  93,\n",
       "  94,\n",
       "  95,\n",
       "  96,\n",
       "  97,\n",
       "  98,\n",
       "  99,\n",
       "  100])"
      ]
     },
     "execution_count": 22,
     "metadata": {},
     "output_type": "execute_result"
    }
   ],
   "source": [
    "correlate_matrices(hic_data1,hic_data2,max_dist=100,resolution= reso, show=True, normalized=True)"
   ]
  },
  {
   "cell_type": "code",
   "execution_count": 23,
   "metadata": {
    "collapsed": false
   },
   "outputs": [
    {
     "data": {
      "image/png": "[encoded data removed]",
      "text/plain": [
       "<matplotlib.figure.Figure at 0x7f5cf8ca2690>"
      ]
     },
     "metadata": {},
     "output_type": "display_data"
    },
    {
     "data": {
      "text/plain": [
       "[[0.81667807046133234,\n",
       "  0.49748877653400586,\n",
       "  0.0048590767932388838,\n",
       "  0.065289352746532858,\n",
       "  0.048604242246137581,\n",
       "  0.010026527830634548],\n",
       " [0.18947382172361266,\n",
       "  0.35527611514992918,\n",
       "  0.0053530604854015416,\n",
       "  0.70565525196431955,\n",
       "  0.15666616915450235,\n",
       "  0.16225864271534263],\n",
       " [0.34782737361856086,\n",
       "  0.30796135314852541,\n",
       "  0.024290630470542078,\n",
       "  0.099285258657763498,\n",
       "  0.1646061174884873,\n",
       "  0.090860378818298712],\n",
       " [0.069753866176019863,\n",
       "  0.13276878877888995,\n",
       "  0.93998012888817428,\n",
       "  0.12112921861558698,\n",
       "  0.039562861317189481,\n",
       "  0.096089169049164244],\n",
       " [0.28298395087704087,\n",
       "  0.61470700809859735,\n",
       "  0.25088089992223001,\n",
       "  0.43314287927587491,\n",
       "  0.15847573856346558,\n",
       "  0.21407720381312431],\n",
       " [0.17535864716400626,\n",
       "  0.25753032804790738,\n",
       "  0.046218167719057165,\n",
       "  0.078531824146848839,\n",
       "  0.096162745208613662,\n",
       "  0.45992779071935358]]"
      ]
     },
     "execution_count": 23,
     "metadata": {},
     "output_type": "execute_result"
    }
   ],
   "source": [
    "eig_correlate_matrices(hic_data1,hic_data2,show=True)"
   ]
  },
  {
   "cell_type": "raw",
   "metadata": {},
   "source": [
    "from pytadbit.mapping import merge_2d_beds"
   ]
  },
  {
   "cell_type": "code",
   "execution_count": 25,
   "metadata": {
    "collapsed": true
   },
   "outputs": [],
   "source": [
    "! mkdir -p results/both/03_filtering"
   ]
  },
  {
   "cell_type": "code",
   "execution_count": 26,
   "metadata": {
    "collapsed": false
   },
   "outputs": [
    {
     "data": {
      "text/plain": [
       "9751233"
      ]
     },
     "execution_count": 26,
     "metadata": {},
     "output_type": "execute_result"
    }
   ],
   "source": [
    "merge_2d_beds(\n",
    "'results/HindIII/03_filtering/valid_reads12_HindIII.tsv',\n",
    "'results/MboI/03_filtering/valid_reads12_MboI.tsv',\n",
    "'results/both/03_filtering/valid_reads12.tsv')"
   ]
  },
  {
   "cell_type": "code",
   "execution_count": null,
   "metadata": {
    "collapsed": true
   },
   "outputs": [],
   "source": []
  }
 ],
 "metadata": {
  "kernelspec": {
   "display_name": "Python 2",
   "language": "python",
   "name": "python2"
  },
  "language_info": {
   "codemirror_mode": {
    "name": "ipython",
    "version": 2
   },
   "file_extension": ".py",
   "mimetype": "text/x-python",
   "name": "python",
   "nbconvert_exporter": "python",
   "pygments_lexer": "ipython2",
   "version": "2.7.13"
  }
 },
 "nbformat": 4,
 "nbformat_minor": 2
}
