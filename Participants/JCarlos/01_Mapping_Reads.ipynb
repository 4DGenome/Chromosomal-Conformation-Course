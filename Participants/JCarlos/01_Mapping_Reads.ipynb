{
 "cells": [
  {
   "cell_type": "markdown",
   "metadata": {
    "deletable": true,
    "editable": true
   },
   "source": [
    "# Iterative mapping"
   ]
  },
  {
   "cell_type": "markdown",
   "metadata": {
    "deletable": true,
    "editable": true
   },
   "source": [
    "Iterative mapping is used when no restriction enzyme is used"
   ]
  },
  {
   "cell_type": "code",
   "execution_count": 1,
   "metadata": {
    "collapsed": true,
    "deletable": true,
    "editable": true
   },
   "outputs": [],
   "source": [
    "r_enz = 'HindIII'"
   ]
  },
  {
   "cell_type": "code",
   "execution_count": 2,
   "metadata": {
    "collapsed": true,
    "deletable": true,
    "editable": true
   },
   "outputs": [],
   "source": [
    "from pytadbit.mapping.full_mapper import full_mapping"
   ]
  },
  {
   "cell_type": "code",
   "execution_count": null,
   "metadata": {
    "collapsed": true,
    "deletable": true,
    "editable": true
   },
   "outputs": [],
   "source": [
    "full_mapping('/media/storage/db/reference_genome/Homo_sapiens/hg38/hg38.gem',\n",
    "            nthreads=2, clean=True, r_enz=r_enz,\n",
    "            frag_map=False, \n",
    "            out_map_dir='results/{0}/01_mapping/map{0}_r1'.format(r_enz),\n",
    "            fastq_path='/media/storage/FASTQs/K562_{0}_1.fastq'.format(r_enz),\n",
    "            windows=((1,25),(1,30),(1,40),(1,75)))"
   ]
  },
  {
   "cell_type": "markdown",
   "metadata": {
    "deletable": true,
    "editable": true
   },
   "source": [
    "# Fragment based mapping"
   ]
  },
  {
   "cell_type": "markdown",
   "metadata": {
    "deletable": true,
    "editable": true
   },
   "source": [
    "Fragment based mapping is more precise, faster and with less background.\n",
    "It first look for the ligation site, then split the reads into the two frags and map each one individually.\n",
    "Then looks at the 75nt from the other side and if contiguous (short [<100ntdistance] from the right side of the first read) then combine it. If from other chr or location then adds an iteraction with that other fragment."
   ]
  },
  {
   "cell_type": "code",
   "execution_count": 3,
   "metadata": {
    "collapsed": true,
    "deletable": true,
    "editable": true
   },
   "outputs": [],
   "source": [
    "! mkdir -p results"
   ]
  },
  {
   "cell_type": "code",
   "execution_count": 4,
   "metadata": {
    "collapsed": true,
    "deletable": true,
    "editable": true
   },
   "outputs": [],
   "source": [
    "! mkdir -p results/HindIII"
   ]
  },
  {
   "cell_type": "code",
   "execution_count": 5,
   "metadata": {
    "collapsed": true,
    "deletable": true,
    "editable": true
   },
   "outputs": [],
   "source": [
    "! mkdir -p results/MboI"
   ]
  },
  {
   "cell_type": "code",
   "execution_count": 8,
   "metadata": {
    "collapsed": true,
    "deletable": true,
    "editable": true
   },
   "outputs": [],
   "source": [
    "! mkdir -p results/HindIII/01_mapping"
   ]
  },
  {
   "cell_type": "code",
   "execution_count": 9,
   "metadata": {
    "collapsed": true,
    "deletable": true,
    "editable": true
   },
   "outputs": [],
   "source": [
    "! mkdir -p results/MboI/01_mapping"
   ]
  },
  {
   "cell_type": "code",
   "execution_count": 6,
   "metadata": {
    "collapsed": false,
    "deletable": true,
    "editable": true
   },
   "outputs": [
    {
     "name": "stdout",
     "output_type": "stream",
     "text": [
      "00_fastq_QC.ipynb       learning_python2.ipynb  \u001b[0m\u001b[01;34mresults\u001b[0m/\r\n",
      "01_Mapping_Reads.ipynb  learning_python.ipynb\r\n"
     ]
    }
   ],
   "source": [
    "ls"
   ]
  },
  {
   "cell_type": "code",
   "execution_count": 7,
   "metadata": {
    "collapsed": false,
    "deletable": true,
    "editable": true
   },
   "outputs": [
    {
     "name": "stdout",
     "output_type": "stream",
     "text": [
      "00_fastq_QC.ipynb\tlearning_python2.ipynb\tresults\r\n",
      "01_Mapping_Reads.ipynb\tlearning_python.ipynb\r\n"
     ]
    }
   ],
   "source": [
    "! ls"
   ]
  },
  {
   "cell_type": "code",
   "execution_count": 13,
   "metadata": {
    "collapsed": false,
    "deletable": true,
    "editable": true
   },
   "outputs": [
    {
     "name": "stdout",
     "output_type": "stream",
     "text": [
      "00_fastq_QC.ipynb\tlearning_python2.ipynb\tresults\r\n",
      "01_Mapping_Reads.ipynb\tlearning_python.ipynb\r\n"
     ]
    }
   ],
   "source": [
    "! ls"
   ]
  },
  {
   "cell_type": "code",
   "execution_count": 10,
   "metadata": {
    "collapsed": false,
    "deletable": true,
    "editable": true
   },
   "outputs": [
    {
     "name": "stdout",
     "output_type": "stream",
     "text": [
      "Preparing FASTQ file\n",
      "  - conversion to MAP format\n",
      "Mapping reads in window 1-end...\n",
      "TO GEM /home/student/tmp/K562_HindIII_1_fu4k2a\n",
      "/usr/local/bin/gem-mapper -I /media/storage/db/reference_genome/Homo_sapiens/hg38/hg38.gem -q offset-33 -m 0.04 -s 0 --allow-incomplete-strata 0.00 --granularity 10000 --max-decoded-matches 1 --min-decoded-strata 0 --min-insert-size 0 --max-insert-size 0 --min-matched-bases 0.8 --gem-quality-threshold 26 --max-big-indel-length 15 --mismatch-alphabet ACGT -E 0.30 --max-extendable-matches 20 --max-extensions-per-match 1 -e 0.04 -T 2 -i /home/student/tmp/K562_HindIII_1_fu4k2a -o /home/student/tmp/K562_HindIII_1_fu4k2a_full_1-end\n",
      "Parsing result...\n",
      "   x removing GEM input /home/student/tmp/K562_HindIII_1_fu4k2a\n",
      "   x removing map /home/student/tmp/K562_HindIII_1_fu4k2a_full_1-end.map\n",
      "  - splitting into restriction enzyme (RE) fragments using ligation sites\n",
      "  - ligation sites are replaced by RE sites to match the reference genome\n",
      "    * enzyme: HindIII, ligation site: AAGCTAGCTT, RE site: AAGCTT\n",
      "Preparing MAP file\n",
      "   x removing pre-GEM input /home/student/tmp/K562_HindIII_1_fu4k2a_filt_1-end.map\n",
      "Mapping fragments of remaining reads...\n",
      "TO GEM /home/student/tmp/K562_HindIII_1_09JF3D\n",
      "/usr/local/bin/gem-mapper -I /media/storage/db/reference_genome/Homo_sapiens/hg38/hg38.gem -q offset-33 -m 0.04 -s 0 --allow-incomplete-strata 0.00 --granularity 10000 --max-decoded-matches 1 --min-decoded-strata 0 --min-insert-size 0 --max-insert-size 0 --min-matched-bases 0.8 --gem-quality-threshold 26 --max-big-indel-length 15 --mismatch-alphabet ACGT -E 0.30 --max-extendable-matches 20 --max-extensions-per-match 1 -e 0.04 -T 2 -i /home/student/tmp/K562_HindIII_1_09JF3D -o /home/student/tmp/K562_HindIII_1_09JF3D_frag_1-end\n",
      "Parsing result...\n",
      "   x removing GEM input /home/student/tmp/K562_HindIII_1_09JF3D\n",
      "   x removing failed to map /home/student/tmp/K562_HindIII_1_fu4k2a_fail.map\n",
      "   x removing tmp mapped /home/student/tmp/K562_HindIII_1_09JF3D_frag_1-end.map\n"
     ]
    },
    {
     "data": {
      "text/plain": [
       "['results/HindIII/01_mapping/mapHindIII_r1/K562_HindIII_1_full_1-end.map',\n",
       " 'results/HindIII/01_mapping/mapHindIII_r1/K562_HindIII_1_frag_1-end.map']"
      ]
     },
     "execution_count": 10,
     "metadata": {},
     "output_type": "execute_result"
    }
   ],
   "source": [
    "full_mapping('/media/storage/db/reference_genome/Homo_sapiens/hg38/hg38.gem',\n",
    "            nthreads=2, clean=True, r_enz=r_enz,\n",
    "            frag_map=True, \n",
    "            out_map_dir='results/{0}/01_mapping/map{0}_r1'.format(r_enz),\n",
    "            fastq_path='/media/storage/FASTQs/K562_{0}_1.fastq'.format(r_enz))"
   ]
  },
  {
   "cell_type": "code",
   "execution_count": 14,
   "metadata": {
    "collapsed": false,
    "deletable": true,
    "editable": true
   },
   "outputs": [
    {
     "name": "stderr",
     "output_type": "stream",
     "text": [
      "/home/student/.miniconda2/lib/python2.7/site-packages/pytadbit/mapping/full_mapper.py:390: UserWarning: WARNING: only 169 Gb left on tmp_dir: /home/student/tmp\n",
      "\n",
      "  warn('WARNING: only %d Gb left on tmp_dir: %s\\n' % (fspace, temp_dir))\n"
     ]
    },
    {
     "name": "stdout",
     "output_type": "stream",
     "text": [
      "Preparing FASTQ file\n",
      "  - conversion to MAP format\n",
      "Mapping reads in window 1-end...\n",
      "TO GEM /home/student/tmp/K562_HindIII_2_VPCLbv\n",
      "/usr/local/bin/gem-mapper -I /media/storage/db/reference_genome/Homo_sapiens/hg38/hg38.gem -q offset-33 -m 0.04 -s 0 --allow-incomplete-strata 0.00 --granularity 10000 --max-decoded-matches 1 --min-decoded-strata 0 --min-insert-size 0 --max-insert-size 0 --min-matched-bases 0.8 --gem-quality-threshold 26 --max-big-indel-length 15 --mismatch-alphabet ACGT -E 0.30 --max-extendable-matches 20 --max-extensions-per-match 1 -e 0.04 -T 2 -i /home/student/tmp/K562_HindIII_2_VPCLbv -o /home/student/tmp/K562_HindIII_2_VPCLbv_full_1-end\n",
      "Parsing result...\n",
      "   x removing GEM input /home/student/tmp/K562_HindIII_2_VPCLbv\n",
      "   x removing map /home/student/tmp/K562_HindIII_2_VPCLbv_full_1-end.map\n",
      "  - splitting into restriction enzyme (RE) fragments using ligation sites\n",
      "  - ligation sites are replaced by RE sites to match the reference genome\n",
      "    * enzyme: HindIII, ligation site: AAGCTAGCTT, RE site: AAGCTT\n",
      "Preparing MAP file\n",
      "   x removing pre-GEM input /home/student/tmp/K562_HindIII_2_VPCLbv_filt_1-end.map\n",
      "Mapping fragments of remaining reads...\n",
      "TO GEM /home/student/tmp/K562_HindIII_2_C3SDhB\n",
      "/usr/local/bin/gem-mapper -I /media/storage/db/reference_genome/Homo_sapiens/hg38/hg38.gem -q offset-33 -m 0.04 -s 0 --allow-incomplete-strata 0.00 --granularity 10000 --max-decoded-matches 1 --min-decoded-strata 0 --min-insert-size 0 --max-insert-size 0 --min-matched-bases 0.8 --gem-quality-threshold 26 --max-big-indel-length 15 --mismatch-alphabet ACGT -E 0.30 --max-extendable-matches 20 --max-extensions-per-match 1 -e 0.04 -T 2 -i /home/student/tmp/K562_HindIII_2_C3SDhB -o /home/student/tmp/K562_HindIII_2_C3SDhB_frag_1-end\n",
      "Parsing result...\n",
      "   x removing GEM input /home/student/tmp/K562_HindIII_2_C3SDhB\n",
      "   x removing failed to map /home/student/tmp/K562_HindIII_2_VPCLbv_fail.map\n",
      "   x removing tmp mapped /home/student/tmp/K562_HindIII_2_C3SDhB_frag_1-end.map\n"
     ]
    },
    {
     "data": {
      "text/plain": [
       "['results/HindIII/01_mapping/mapHindIII_r2/K562_HindIII_2_full_1-end.map',\n",
       " 'results/HindIII/01_mapping/mapHindIII_r2/K562_HindIII_2_frag_1-end.map']"
      ]
     },
     "execution_count": 14,
     "metadata": {},
     "output_type": "execute_result"
    }
   ],
   "source": [
    "full_mapping('/media/storage/db/reference_genome/Homo_sapiens/hg38/hg38.gem',\n",
    "            nthreads=2, clean=True, r_enz=r_enz,\n",
    "            frag_map=True, \n",
    "            out_map_dir='results/{0}/01_mapping/map{0}_r2'.format(r_enz),\n",
    "            fastq_path='/media/storage/FASTQs/K562_{0}_2.fastq'.format(r_enz))"
   ]
  },
  {
   "cell_type": "code",
   "execution_count": 15,
   "metadata": {
    "collapsed": false,
    "deletable": true,
    "editable": true
   },
   "outputs": [
    {
     "name": "stdout",
     "output_type": "stream",
     "text": [
      "00_fastq_QC.ipynb       learning_python2.ipynb  \u001b[0m\u001b[01;34mresults\u001b[0m/\r\n",
      "01_Mapping_Reads.ipynb  learning_python.ipynb\r\n"
     ]
    }
   ],
   "source": [
    "ls"
   ]
  },
  {
   "cell_type": "code",
   "execution_count": 16,
   "metadata": {
    "collapsed": false,
    "deletable": true,
    "editable": true
   },
   "outputs": [
    {
     "name": "stdout",
     "output_type": "stream",
     "text": [
      "/media/storage/Notebooks2/JCarlos/results\n"
     ]
    }
   ],
   "source": [
    "cd results/"
   ]
  },
  {
   "cell_type": "code",
   "execution_count": 17,
   "metadata": {
    "collapsed": false,
    "deletable": true,
    "editable": true
   },
   "outputs": [
    {
     "name": "stdout",
     "output_type": "stream",
     "text": [
      "\u001b[0m\u001b[01;34mHindIII\u001b[0m/  \u001b[01;34mMboI\u001b[0m/\r\n"
     ]
    }
   ],
   "source": [
    "ls"
   ]
  },
  {
   "cell_type": "code",
   "execution_count": 18,
   "metadata": {
    "collapsed": false,
    "deletable": true,
    "editable": true
   },
   "outputs": [
    {
     "name": "stdout",
     "output_type": "stream",
     "text": [
      "/media/storage/Notebooks2/JCarlos/results/HindIII\n"
     ]
    }
   ],
   "source": [
    "cd HindIII/"
   ]
  },
  {
   "cell_type": "code",
   "execution_count": 19,
   "metadata": {
    "collapsed": false,
    "deletable": true,
    "editable": true
   },
   "outputs": [
    {
     "name": "stdout",
     "output_type": "stream",
     "text": [
      "\u001b[0m\u001b[01;34m01_mapping\u001b[0m/\r\n"
     ]
    }
   ],
   "source": [
    "ls"
   ]
  },
  {
   "cell_type": "code",
   "execution_count": 20,
   "metadata": {
    "collapsed": false,
    "deletable": true,
    "editable": true
   },
   "outputs": [
    {
     "name": "stdout",
     "output_type": "stream",
     "text": [
      "/media/storage/Notebooks2/JCarlos/results/HindIII/01_mapping\n"
     ]
    }
   ],
   "source": [
    "cd 01_mapping/"
   ]
  },
  {
   "cell_type": "code",
   "execution_count": 21,
   "metadata": {
    "collapsed": false,
    "deletable": true,
    "editable": true
   },
   "outputs": [
    {
     "name": "stdout",
     "output_type": "stream",
     "text": [
      "\u001b[0m\u001b[01;34mmapHindIII_r1\u001b[0m/  \u001b[01;34mmapHindIII_r2\u001b[0m/\r\n"
     ]
    }
   ],
   "source": [
    "ls"
   ]
  },
  {
   "cell_type": "code",
   "execution_count": 22,
   "metadata": {
    "collapsed": false,
    "deletable": true,
    "editable": true
   },
   "outputs": [
    {
     "name": "stdout",
     "output_type": "stream",
     "text": [
      "/media/storage/Notebooks2/JCarlos/results/HindIII/01_mapping/mapHindIII_r1\n"
     ]
    }
   ],
   "source": [
    "cd mapHindIII_r1/"
   ]
  },
  {
   "cell_type": "code",
   "execution_count": 23,
   "metadata": {
    "collapsed": false,
    "deletable": true,
    "editable": true
   },
   "outputs": [
    {
     "name": "stdout",
     "output_type": "stream",
     "text": [
      "K562_HindIII_1_frag_1-end.map  K562_HindIII_1_full_1-end.map\r\n"
     ]
    }
   ],
   "source": [
    "ls"
   ]
  },
  {
   "cell_type": "code",
   "execution_count": 24,
   "metadata": {
    "collapsed": false,
    "deletable": true,
    "editable": true
   },
   "outputs": [
    {
     "name": "stdout",
     "output_type": "stream",
     "text": [
      "total 1967960\r\n",
      "-rw-rw-r-- 1 student  703591014 Apr  4 15:55 K562_HindIII_1_frag_1-end.map\r\n",
      "-rw-rw-r-- 1 student 1311588316 Apr  4 15:51 K562_HindIII_1_full_1-end.map\r\n"
     ]
    }
   ],
   "source": [
    "ll"
   ]
  },
  {
   "cell_type": "code",
   "execution_count": 25,
   "metadata": {
    "collapsed": false,
    "deletable": true,
    "editable": true
   },
   "outputs": [
    {
     "name": "stdout",
     "output_type": "stream",
     "text": [
      "total 1.9G\r\n",
      "-rw-rw-r-- 1 student student 671M Apr  4 15:55 K562_HindIII_1_frag_1-end.map\r\n",
      "-rw-rw-r-- 1 student student 1.3G Apr  4 15:51 K562_HindIII_1_full_1-end.map\r\n"
     ]
    }
   ],
   "source": [
    "! ls -lh"
   ]
  },
  {
   "cell_type": "code",
   "execution_count": 28,
   "metadata": {
    "collapsed": false,
    "deletable": true,
    "editable": true
   },
   "outputs": [
    {
     "name": "stdout",
     "output_type": "stream",
     "text": [
      "head: cannot open ‘results/HindIII/01_mapping/mapHindIII_r2/K562_HindIII_1_full_1-end.map’ for reading: No such file or directory\r\n"
     ]
    }
   ],
   "source": [
    "! head results/HindIII/01_mapping/mapHindIII_r2/K562_HindIII_1_full_1-end.map"
   ]
  },
  {
   "cell_type": "code",
   "execution_count": 29,
   "metadata": {
    "collapsed": false,
    "deletable": true,
    "editable": true
   },
   "outputs": [
    {
     "name": "stdout",
     "output_type": "stream",
     "text": [
      "NS500645:59:HCL32BGXY:1:11101:10953:1055\tCTGACNTACAGGACAGTTATTTTCCAGACTGAAAATTCTCAAACCCAGTCGTGCAAATGATTCTTCCTGCAGTTG\tAAAAA#EEEEEAEEEEEEEEEEEEEEEEEEEEEEEEEEEEEEEEEEEAEEEEEEAEEEEEEEEEEEEEEEEEEEE\t0:1:0\tchr10:-:2688535:5G69\r\n",
      "NS500645:59:HCL32BGXY:1:11101:24830:1055\tCTTTTNTTTGCTAGTCAAAGGCCTAGGCCTTTATCTTCCTTTTTGCTACAACCCTAAAGGCAAAGAAAGAAAGGG\tAAAAA#EEEEEEEEEEEEEEEEEEEEEEEEEEEEEEEEEEEEEEEEEEEAEEEEEEEEEEEEEEEEEEEEEEEEE\t0:1:0\tchr1:-:50841578:5C69\r\n",
      "NS500645:59:HCL32BGXY:1:11101:6039:1056\tAGGGTNACATAGGTGACATAGCACGTAAGAGCTTGGGTCCTGAAGTTAGATGGGGCTGGGTTTCAAATCTATCCT\tAAAAA#EEEEEEEEEEEEEEEEEEEEEEEEEEEEEEEEEEEEEEEEEEEEEEEEEEEEEEEEEEEEEEEEEEEEE\t0:0:1:0\tchr7:+:129557395:5G65C3\r\n",
      "NS500645:59:HCL32BGXY:1:11101:21852:1056\tCTCTGNTTTGTTTCTTTGTTTGTTATGGTTGTTTTTCAGATAGATATAGTTTCATTACAAAAGAAAATTTGTTAT\tAAAAA#EEEEEEEEEEEEEEEEEEEEEEEEEEEEEEEEEEEEEEEEEEEEEEAEEEEEEEEEEEEEEEEEEEEEE\t0:0:1:0\tchr6:-:23446287:5T68G\r\n",
      "NS500645:59:HCL32BGXY:1:11101:19311:1056\tATTTTNTACCTTTTGAGAAACACTGAACTAATAATATTTCTGAGACCTCTTCAAGCTCTGACATGCTGTGTTTAG\tAAAAA#EEEEEEEEEEEEEEEEEEEEEEEEEEEEEEEEEEEEEEEEEEEEEEEEEEEEEEEEEEEEEEEEEEEEE\t0:1:0\tchr19:-:41066219:5A69\r\n",
      "NS500645:59:HCL32BGXY:1:11101:17157:1056\tATAATNTATTTGCTCTCTTCAGCCTTTTTCCAGTTAGTACTCTCATCAGTAAGGCACATGAAGTGTGAAATTTTG\tAAAAA#EEEEEEEEEEEEEEEEEEEEEEEEAEEEEEEEEEEEEEEEEEEEEEEEEEEEEEEEEEEEEEEEEEEEE\t0:1:0\tchr9:+:114790228:5A69\r\n",
      "NS500645:59:HCL32BGXY:1:11101:26187:1057\tAAACTNATTTTTTTTTTTGCTTTTTTTTCCTTTTAAAAATATGAGCAGTAATCACATTGACTAAACAAACAGCCT\tAAAAA#EEEEEEEEEEEEEEEEEEEEEEE/EEEEEEEEEEEEAEEEEEEEEEEEE6EEEEEEEAEEAEEE/EEEE\t0:1:0\tchr10:+:63481424:5G69\r\n",
      "NS500645:59:HCL32BGXY:1:11101:8600:1058\tAGAGANCCAAAGCTGGATAAATTTTCTACCTGAGAGCTGGAGTTTCCAAGAATGACAGACAGCCATGGGAAGAAG\tAAAAA#EEEEEEEEEEEEAEEEEEEEEEEEEEEEEEEEEEEEEEEEEEEEEEEEEAEEEEEEEEEEEEEEAEEEE\t0:1:0\tchr5:+:53943740:5A69\r\n",
      "NS500645:59:HCL32BGXY:1:11101:8731:1058\tATGAANCTACTACAAGAAAACATTAGGGAAACTCTTCAGGATATTGGTCTGGGCAAAAATTTCTTGAGTAATACC\tAAAAA#EEEEEEEEEEEEEEEEEEEEEEEEEEEEEEEEEEEEEEEEEEEEEEEEEEEEEEEEEEEEEEEEEEEEE\t0:1:0\tchr3:+:17104208:5A69\r\n",
      "NS500645:59:HCL32BGXY:1:11101:23591:1059\tCTATTNGTCTTAATAGTCTGAGTTCCCAAGATAAACAGAACATATACATATATTTATATTATAAGGAATTGGCTC\tAAAAA#EEE/EEEEEEEEEEEE6E<EEEEE/EEEAEEEEEEEEEEEEEEEEAEEEEEEEEEEEEEEE/EAAEEEE\t0:1:0\tchr18:+:41009204:5A69\r\n"
     ]
    }
   ],
   "source": [
    "! head K562_HindIII_1_full_1-end.map"
   ]
  },
  {
   "cell_type": "code",
   "execution_count": 30,
   "metadata": {
    "collapsed": false,
    "deletable": true,
    "editable": true
   },
   "outputs": [
    {
     "name": "stdout",
     "output_type": "stream",
     "text": [
      "/media/storage/Notebooks2/JCarlos/results/HindIII/01_mapping\n"
     ]
    }
   ],
   "source": [
    "cd .."
   ]
  },
  {
   "cell_type": "code",
   "execution_count": 31,
   "metadata": {
    "collapsed": false,
    "deletable": true,
    "editable": true
   },
   "outputs": [
    {
     "name": "stdout",
     "output_type": "stream",
     "text": [
      "/media/storage/Notebooks2/JCarlos/results/HindIII\n"
     ]
    }
   ],
   "source": [
    "cd .."
   ]
  },
  {
   "cell_type": "code",
   "execution_count": 32,
   "metadata": {
    "collapsed": false,
    "deletable": true,
    "editable": true
   },
   "outputs": [
    {
     "name": "stdout",
     "output_type": "stream",
     "text": [
      "/media/storage/Notebooks2/JCarlos/results\n"
     ]
    }
   ],
   "source": [
    "cd .."
   ]
  },
  {
   "cell_type": "code",
   "execution_count": 33,
   "metadata": {
    "collapsed": false,
    "deletable": true,
    "editable": true
   },
   "outputs": [
    {
     "name": "stdout",
     "output_type": "stream",
     "text": [
      "/media/storage/Notebooks2/JCarlos\n"
     ]
    }
   ],
   "source": [
    "cd .."
   ]
  },
  {
   "cell_type": "code",
   "execution_count": 36,
   "metadata": {
    "collapsed": false,
    "deletable": true,
    "editable": true
   },
   "outputs": [
    {
     "name": "stdout",
     "output_type": "stream",
     "text": [
      "NS500645:59:HCL32BGXY:1:11101:24830:1055~2~\tAAGCTTTTTTTTCCCTTTCTTTCTTTGCCTTTAGGGTTGTAGCAAAAAGGAAGATAA\tHHHHHHEEEEEEEAEEEEEEEEEEEEEEEEEEAEEEEAEEEEE/EEE6EEEEEEEEE\t1\tchr1:+:50841566:57\r\n",
      "NS500645:59:HCL32BGXY:1:11101:6039:1056\tGGCTTCTTCTCTTTAAGGCAACATAGTATAAAGCTT\tAAAAAEEEEEEEEEEEEEEEEEEE/EEAE6HHHHHH\t1\tchr7:+:128976029:36\r\n",
      "NS500645:59:HCL32BGXY:1:11101:6039:1056~2~\tAAGCTTTCGAAGGCTAGCTAGGATAGATTTGAAACCCAGCC\tHHHHHHEEEEEEEEEEEEEEEEEEEEEEEEEEE/EEEAEEE\t0:1\tchr7:-:129557448:22G18\r\n",
      "NS500645:59:HCL32BGXY:1:11101:19311:1056\tACCTACTTCATAAAAAGCCAAGGATGTAATTTTTTCAGTTTAGTGTAAGCTT\t/AAAAEEEEEEEEEEEEEEEEEEEEEEEEEEEEEEEEEEEEEEEEEHHHHHH\t1\tchr19:+:41557056:52\r\n",
      "NS500645:59:HCL32BGXY:1:11101:19311:1056~2~\tAAGCTTAGGGTTCAAGTCTAAACAC\tHHHHHHEEEEEEAEEEEEEEEEEEE\t1\tchr19:+:41066202:25\r\n",
      "NS500645:59:HCL32BGXY:1:11101:17064:1056\tCAACAATCATATATTTCCTGCAAATGGAAAGGCAAATGGTACAGAGTCCCCAATGTACAAGCTT\tAAAAAEEEEEEEEEEEEEEAEEEEEEEEEEEEEEEEEEEEEEEEEEEEEEAEEEEEEAHHHHHH\t0:1\tchr4:+:33593268:40C23\r\n",
      "NS500645:59:HCL32BGXY:1:11101:26187:1057\tCCCACTTACCACTGAAGTTAAAGCTT\tAAAAAEEEA<<AEEEEEEEEHHHHHH\t1\tchr10:+:63502264:26\r\n",
      "NS500645:59:HCL32BGXY:1:11101:26187:1057~2~\tAAGCTTCTAAGTGAAGTCTCAAAGCCACAGAATTAAGAAAGGCTGTTTGTT\tHHHHHHAEA6EEAAEEE<E/<EA/6/A6A</EA<A/A/AA//<</AA<//E\t1\tchr10:-:63481487:51\r\n",
      "NS500645:59:HCL32BGXY:1:11101:8250:1059\tAGCCCGCTCAAGGTCTAAACTCGGCTCGTCCCTGGGCCTTCCACCTACAAGAAGCTT\tAAAAAE666EEEEEEEEEAAAEAEEEA/EEEEEAEEE6EEEE/EEEE6EAEHHHHHH\t0:1\tchr13:+:29695513:3A53\r\n",
      "NS500645:59:HCL32BGXY:1:11101:17211:1059\tAGTCATAGCAACAACAGATACTTAAGCTT\tAAAAAEEEEEEEEEEEEEEEEEEHHHHHH\t1\tchr2:+:25493831:29\r\n"
     ]
    }
   ],
   "source": [
    "! head results/HindIII/01_mapping/mapHindIII_r2/K562_HindIII_2_frag_1-end.map"
   ]
  },
  {
   "cell_type": "code",
   "execution_count": null,
   "metadata": {
    "collapsed": true,
    "deletable": true,
    "editable": true
   },
   "outputs": [],
   "source": []
  }
 ],
 "metadata": {
  "kernelspec": {
   "display_name": "Python 2",
   "language": "python",
   "name": "python2"
  },
  "language_info": {
   "codemirror_mode": {
    "name": "ipython",
    "version": 2
   },
   "file_extension": ".py",
   "mimetype": "text/x-python",
   "name": "python",
   "nbconvert_exporter": "python",
   "pygments_lexer": "ipython2",
   "version": "2.7.13"
  }
 },
 "nbformat": 4,
 "nbformat_minor": 2
}
