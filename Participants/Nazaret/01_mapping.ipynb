{
 "cells": [
  {
   "cell_type": "markdown",
   "metadata": {
    "deletable": true,
    "editable": true
   },
   "source": [
    "# Iterative mapping "
   ]
  },
  {
   "cell_type": "code",
   "execution_count": 12,
   "metadata": {
    "collapsed": true,
    "deletable": true,
    "editable": true
   },
   "outputs": [],
   "source": [
    "r_enz = \"HindIII\""
   ]
  },
  {
   "cell_type": "code",
   "execution_count": 4,
   "metadata": {
    "collapsed": false,
    "deletable": true,
    "editable": true
   },
   "outputs": [],
   "source": [
    "from pytadbit.mapping.full_mapper import full_mapping"
   ]
  },
  {
   "cell_type": "code",
   "execution_count": 7,
   "metadata": {
    "collapsed": true,
    "deletable": true,
    "editable": true
   },
   "outputs": [],
   "source": [
    "! mkdir -p results"
   ]
  },
  {
   "cell_type": "code",
   "execution_count": 8,
   "metadata": {
    "collapsed": true,
    "deletable": true,
    "editable": true
   },
   "outputs": [],
   "source": [
    "! mkdir -p results/HindIII"
   ]
  },
  {
   "cell_type": "code",
   "execution_count": 14,
   "metadata": {
    "collapsed": true,
    "deletable": true,
    "editable": true
   },
   "outputs": [],
   "source": [
    "! mkdir -p results/HindIII/01_mapping"
   ]
  },
  {
   "cell_type": "code",
   "execution_count": 9,
   "metadata": {
    "collapsed": true,
    "deletable": true,
    "editable": true
   },
   "outputs": [],
   "source": [
    "! mkdir -p results/MboI"
   ]
  },
  {
   "cell_type": "code",
   "execution_count": 15,
   "metadata": {
    "collapsed": true,
    "deletable": true,
    "editable": true
   },
   "outputs": [],
   "source": [
    "! mkdir -p results/MboI/01_mapping"
   ]
  },
  {
   "cell_type": "code",
   "execution_count": 10,
   "metadata": {
    "collapsed": false,
    "deletable": true,
    "editable": true
   },
   "outputs": [
    {
     "name": "stdout",
     "output_type": "stream",
     "text": [
      "00_fastq_QC.ipynb  01_mapping.ipynb  learning_phyton.ipynb  \u001b[0m\u001b[01;34mresults\u001b[0m/\r\n"
     ]
    }
   ],
   "source": [
    "ls"
   ]
  },
  {
   "cell_type": "raw",
   "metadata": {
    "deletable": true,
    "editable": true
   },
   "source": [
    "full_mapping(\"/media/storage/db/reference_genome/Homo_sapiens/hg38/hg38.gem\", \n",
    "             nthreads=2, clean=True, r_enz=r_enz, \n",
    "             frag_map=True, \n",
    "             out_map_dir=\"results/{0}/01_mapping/map{0}_r1\".format(r_enz),\n",
    "             fastq_path=\"/media/storage/FASTQs/K562_{0}_1.fastq\".format(r_enz),\n",
    "             windows((1, 25),(1,30),(1,40),(1,75),(25,75)))\n",
    "             This is for the iterative mapping"
   ]
  },
  {
   "cell_type": "code",
   "execution_count": 17,
   "metadata": {
    "collapsed": false,
    "deletable": true,
    "editable": true,
    "scrolled": true
   },
   "outputs": [
    {
     "name": "stdout",
     "output_type": "stream",
     "text": [
      "Preparing FASTQ file\n",
      "  - conversion to MAP format\n",
      "Mapping reads in window 1-end...\n",
      "TO GEM /home/student/tmp/K562_HindIII_1_Vyc9AH\n",
      "/usr/local/bin/gem-mapper -I /media/storage/db/reference_genome/Homo_sapiens/hg38/hg38.gem -q offset-33 -m 0.04 -s 0 --allow-incomplete-strata 0.00 --granularity 10000 --max-decoded-matches 1 --min-decoded-strata 0 --min-insert-size 0 --max-insert-size 0 --min-matched-bases 0.8 --gem-quality-threshold 26 --max-big-indel-length 15 --mismatch-alphabet ACGT -E 0.30 --max-extendable-matches 20 --max-extensions-per-match 1 -e 0.04 -T 2 -i /home/student/tmp/K562_HindIII_1_Vyc9AH -o /home/student/tmp/K562_HindIII_1_Vyc9AH_full_1-end\n",
      "Parsing result...\n",
      "   x removing GEM input /home/student/tmp/K562_HindIII_1_Vyc9AH\n",
      "   x removing map /home/student/tmp/K562_HindIII_1_Vyc9AH_full_1-end.map\n",
      "  - splitting into restriction enzyme (RE) fragments using ligation sites\n",
      "  - ligation sites are replaced by RE sites to match the reference genome\n",
      "    * enzyme: HindIII, ligation site: AAGCTAGCTT, RE site: AAGCTT\n",
      "Preparing MAP file\n",
      "   x removing pre-GEM input /home/student/tmp/K562_HindIII_1_Vyc9AH_filt_1-end.map\n",
      "Mapping fragments of remaining reads...\n",
      "TO GEM /home/student/tmp/K562_HindIII_1_NSIh1z\n",
      "/usr/local/bin/gem-mapper -I /media/storage/db/reference_genome/Homo_sapiens/hg38/hg38.gem -q offset-33 -m 0.04 -s 0 --allow-incomplete-strata 0.00 --granularity 10000 --max-decoded-matches 1 --min-decoded-strata 0 --min-insert-size 0 --max-insert-size 0 --min-matched-bases 0.8 --gem-quality-threshold 26 --max-big-indel-length 15 --mismatch-alphabet ACGT -E 0.30 --max-extendable-matches 20 --max-extensions-per-match 1 -e 0.04 -T 2 -i /home/student/tmp/K562_HindIII_1_NSIh1z -o /home/student/tmp/K562_HindIII_1_NSIh1z_frag_1-end\n",
      "Parsing result...\n",
      "   x removing GEM input /home/student/tmp/K562_HindIII_1_NSIh1z\n",
      "   x removing failed to map /home/student/tmp/K562_HindIII_1_Vyc9AH_fail.map\n",
      "   x removing tmp mapped /home/student/tmp/K562_HindIII_1_NSIh1z_frag_1-end.map\n"
     ]
    },
    {
     "data": {
      "text/plain": [
       "['results/HindIII/01_mapping/mapHindIII_r1/K562_HindIII_1_full_1-end.map',\n",
       " 'results/HindIII/01_mapping/mapHindIII_r1/K562_HindIII_1_frag_1-end.map']"
      ]
     },
     "execution_count": 17,
     "metadata": {},
     "output_type": "execute_result"
    }
   ],
   "source": [
    "full_mapping(\"/media/storage/db/reference_genome/Homo_sapiens/hg38/hg38.gem\", \n",
    "             nthreads=2, clean=True, r_enz=r_enz, \n",
    "             frag_map=True, \n",
    "             out_map_dir=\"results/{0}/01_mapping/map{0}_r1\".format(r_enz),\n",
    "             fastq_path=\"/media/storage/FASTQs/K562_{0}_1.fastq\".format(r_enz))"
   ]
  },
  {
   "cell_type": "code",
   "execution_count": 18,
   "metadata": {
    "collapsed": false,
    "deletable": true,
    "editable": true
   },
   "outputs": [
    {
     "name": "stderr",
     "output_type": "stream",
     "text": [
      "/home/student/.miniconda2/lib/python2.7/site-packages/pytadbit/mapping/full_mapper.py:390: UserWarning: WARNING: only 163 Gb left on tmp_dir: /home/student/tmp\n",
      "\n",
      "  warn('WARNING: only %d Gb left on tmp_dir: %s\\n' % (fspace, temp_dir))\n"
     ]
    },
    {
     "name": "stdout",
     "output_type": "stream",
     "text": [
      "Preparing FASTQ file\n",
      "  - conversion to MAP format\n",
      "Mapping reads in window 1-end...\n",
      "TO GEM /home/student/tmp/K562_HindIII_2_DcTYV4\n",
      "/usr/local/bin/gem-mapper -I /media/storage/db/reference_genome/Homo_sapiens/hg38/hg38.gem -q offset-33 -m 0.04 -s 0 --allow-incomplete-strata 0.00 --granularity 10000 --max-decoded-matches 1 --min-decoded-strata 0 --min-insert-size 0 --max-insert-size 0 --min-matched-bases 0.8 --gem-quality-threshold 26 --max-big-indel-length 15 --mismatch-alphabet ACGT -E 0.30 --max-extendable-matches 20 --max-extensions-per-match 1 -e 0.04 -T 2 -i /home/student/tmp/K562_HindIII_2_DcTYV4 -o /home/student/tmp/K562_HindIII_2_DcTYV4_full_1-end\n",
      "Parsing result...\n",
      "   x removing GEM input /home/student/tmp/K562_HindIII_2_DcTYV4\n",
      "   x removing map /home/student/tmp/K562_HindIII_2_DcTYV4_full_1-end.map\n",
      "  - splitting into restriction enzyme (RE) fragments using ligation sites\n",
      "  - ligation sites are replaced by RE sites to match the reference genome\n",
      "    * enzyme: HindIII, ligation site: AAGCTAGCTT, RE site: AAGCTT\n",
      "Preparing MAP file\n",
      "   x removing pre-GEM input /home/student/tmp/K562_HindIII_2_DcTYV4_filt_1-end.map\n",
      "Mapping fragments of remaining reads...\n",
      "TO GEM /home/student/tmp/K562_HindIII_2_2vd54o\n",
      "/usr/local/bin/gem-mapper -I /media/storage/db/reference_genome/Homo_sapiens/hg38/hg38.gem -q offset-33 -m 0.04 -s 0 --allow-incomplete-strata 0.00 --granularity 10000 --max-decoded-matches 1 --min-decoded-strata 0 --min-insert-size 0 --max-insert-size 0 --min-matched-bases 0.8 --gem-quality-threshold 26 --max-big-indel-length 15 --mismatch-alphabet ACGT -E 0.30 --max-extendable-matches 20 --max-extensions-per-match 1 -e 0.04 -T 2 -i /home/student/tmp/K562_HindIII_2_2vd54o -o /home/student/tmp/K562_HindIII_2_2vd54o_frag_1-end\n",
      "Parsing result...\n",
      "   x removing GEM input /home/student/tmp/K562_HindIII_2_2vd54o\n",
      "   x removing failed to map /home/student/tmp/K562_HindIII_2_DcTYV4_fail.map\n",
      "   x removing tmp mapped /home/student/tmp/K562_HindIII_2_2vd54o_frag_1-end.map\n"
     ]
    },
    {
     "data": {
      "text/plain": [
       "['results/HindIII/01_mapping/mapHindIII_r2/K562_HindIII_2_full_1-end.map',\n",
       " 'results/HindIII/01_mapping/mapHindIII_r2/K562_HindIII_2_frag_1-end.map']"
      ]
     },
     "execution_count": 18,
     "metadata": {},
     "output_type": "execute_result"
    }
   ],
   "source": [
    "full_mapping(\"/media/storage/db/reference_genome/Homo_sapiens/hg38/hg38.gem\", \n",
    "             nthreads=2, clean=True, r_enz=r_enz, \n",
    "             frag_map=True, \n",
    "             out_map_dir=\"results/{0}/01_mapping/map{0}_r2\".format(r_enz),\n",
    "             fastq_path=\"/media/storage/FASTQs/K562_{0}_2.fastq\".format(r_enz))"
   ]
  },
  {
   "cell_type": "code",
   "execution_count": null,
   "metadata": {
    "collapsed": true,
    "deletable": true,
    "editable": true
   },
   "outputs": [],
   "source": []
  }
 ],
 "metadata": {
  "kernelspec": {
   "display_name": "Python 2",
   "language": "python",
   "name": "python2"
  },
  "language_info": {
   "codemirror_mode": {
    "name": "ipython",
    "version": 2
   },
   "file_extension": ".py",
   "mimetype": "text/x-python",
   "name": "python",
   "nbconvert_exporter": "python",
   "pygments_lexer": "ipython2",
   "version": "2.7.13"
  }
 },
 "nbformat": 4,
 "nbformat_minor": 2
}
