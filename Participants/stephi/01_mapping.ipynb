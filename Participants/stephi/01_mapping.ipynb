{
 "cells": [
  {
   "cell_type": "markdown",
   "metadata": {
    "deletable": true,
    "editable": true
   },
   "source": [
    "# Iterative mapping"
   ]
  },
  {
   "cell_type": "code",
   "execution_count": 1,
   "metadata": {
    "collapsed": true,
    "deletable": true,
    "editable": true
   },
   "outputs": [],
   "source": [
    "r_enz = \"HindIII\""
   ]
  },
  {
   "cell_type": "code",
   "execution_count": 3,
   "metadata": {
    "collapsed": true,
    "deletable": true,
    "editable": true
   },
   "outputs": [],
   "source": [
    "from pytadbit.mapping.full_mapper import full_mapping"
   ]
  },
  {
   "cell_type": "code",
   "execution_count": 6,
   "metadata": {
    "collapsed": false,
    "deletable": true,
    "editable": true
   },
   "outputs": [
    {
     "ename": "SyntaxError",
     "evalue": "invalid syntax (<ipython-input-6-f82fab32a68a>, line 1)",
     "output_type": "error",
     "traceback": [
      "\u001b[0;36m  File \u001b[0;32m\"<ipython-input-6-f82fab32a68a>\"\u001b[0;36m, line \u001b[0;32m1\u001b[0m\n\u001b[0;31m    full_mapping(\"/media/storage/db/reference_genome/Homo_sapiens/hg38/hg38.gem\", nthreads=2 r_enz =r_enz\u001b[0m\n\u001b[0m                                                                                                 ^\u001b[0m\n\u001b[0;31mSyntaxError\u001b[0m\u001b[0;31m:\u001b[0m invalid syntax\n"
     ]
    }
   ],
   "source": [
    "full_mapping(\"/media/storage/db/reference_genome/Homo_sapiens/hg38/hg38.gem\", nthreads=2, r_enz =r_enz\n",
    "            frag_map=False,\n",
    "            out_map_dir=\"results/{0}/01_mapping/map{0}_r1\" .format(r_enz),\n",
    "            fastq_path=\"/media/storage/FASTQs/K562_{0}_1.fastq\" .format(r_enz),\n",
    "            windows=((1, 25),(1, 30),(1, 40),(1, 75), (25, 75)))"
   ]
  },
  {
   "cell_type": "code",
   "execution_count": null,
   "metadata": {
    "collapsed": true,
    "deletable": true,
    "editable": true
   },
   "outputs": [],
   "source": [
    "full_mapping(\"/media/storage/db/reference_genome/Homo_sapiens/hg38/hg38.gem\", nthreads=2, r_enz =r_enz\n",
    "            frag_map=False,\n",
    "            out_map_dir=\"results/{0}/01_mapping/map{0}_r2\" .format(r_enz),\n",
    "            fastq_path=\"/media/storage/FASTQs/K562_{0}_2.fastq\" .format(r_enz),\n",
    "            windows=((1, 25),(1, 30),(1, 40),(1, 75), (25, 75)))"
   ]
  },
  {
   "cell_type": "code",
   "execution_count": 10,
   "metadata": {
    "collapsed": true,
    "deletable": true,
    "editable": true
   },
   "outputs": [],
   "source": [
    "! mkdir -p results"
   ]
  },
  {
   "cell_type": "code",
   "execution_count": 12,
   "metadata": {
    "collapsed": false,
    "deletable": true,
    "editable": true
   },
   "outputs": [],
   "source": [
    "!mkdir -p results/HindIII"
   ]
  },
  {
   "cell_type": "code",
   "execution_count": 17,
   "metadata": {
    "collapsed": true,
    "deletable": true,
    "editable": true
   },
   "outputs": [],
   "source": [
    "!mkdir -p results/HindIII/01_mapping"
   ]
  },
  {
   "cell_type": "code",
   "execution_count": 14,
   "metadata": {
    "collapsed": false,
    "deletable": true,
    "editable": true
   },
   "outputs": [],
   "source": [
    "!mkdir -p results/MboI"
   ]
  },
  {
   "cell_type": "code",
   "execution_count": 16,
   "metadata": {
    "collapsed": true,
    "deletable": true,
    "editable": true
   },
   "outputs": [],
   "source": [
    "!mkdir results/MboI/01_mapping"
   ]
  },
  {
   "cell_type": "code",
   "execution_count": 15,
   "metadata": {
    "collapsed": false,
    "deletable": true,
    "editable": true
   },
   "outputs": [
    {
     "name": "stdout",
     "output_type": "stream",
     "text": [
      "00_fastq_qc.ipynb  01_mapping.ipynb  learning_python.ipynb  results\r\n"
     ]
    }
   ],
   "source": [
    "! ls"
   ]
  },
  {
   "cell_type": "markdown",
   "metadata": {
    "deletable": true,
    "editable": true
   },
   "source": [
    "# fragment based mapping"
   ]
  },
  {
   "cell_type": "code",
   "execution_count": 22,
   "metadata": {
    "collapsed": false,
    "deletable": true,
    "editable": true
   },
   "outputs": [
    {
     "name": "stderr",
     "output_type": "stream",
     "text": [
      "/home/student/.miniconda2/lib/python2.7/site-packages/pytadbit/mapping/full_mapper.py:390: UserWarning: WARNING: only 121 Gb left on tmp_dir: /home/student/tmp\n",
      "\n",
      "  warn('WARNING: only %d Gb left on tmp_dir: %s\\n' % (fspace, temp_dir))\n"
     ]
    },
    {
     "name": "stdout",
     "output_type": "stream",
     "text": [
      "Preparing FASTQ file\n",
      "  - conversion to MAP format\n",
      "Mapping reads in window 1-end...\n",
      "TO GEM /home/student/tmp/K562_HindIII_1_zgZRit\n",
      "/usr/local/bin/gem-mapper -I /media/storage/db/reference_genome/Homo_sapiens/hg38/hg38.gem -q offset-33 -m 0.04 -s 0 --allow-incomplete-strata 0.00 --granularity 10000 --max-decoded-matches 1 --min-decoded-strata 0 --min-insert-size 0 --max-insert-size 0 --min-matched-bases 0.8 --gem-quality-threshold 26 --max-big-indel-length 15 --mismatch-alphabet ACGT -E 0.30 --max-extendable-matches 20 --max-extensions-per-match 1 -e 0.04 -T 2 -i /home/student/tmp/K562_HindIII_1_zgZRit -o /home/student/tmp/K562_HindIII_1_zgZRit_full_1-end\n",
      "Parsing result...\n",
      "  - splitting into restriction enzyme (RE) fragments using ligation sites\n",
      "  - ligation sites are replaced by RE sites to match the reference genome\n",
      "    * enzyme: HindIII, ligation site: AAGCTAGCTT, RE site: AAGCTT\n",
      "Preparing MAP file\n",
      "Mapping fragments of remaining reads...\n",
      "TO GEM /home/student/tmp/K562_HindIII_1_ozqhZ8\n",
      "/usr/local/bin/gem-mapper -I /media/storage/db/reference_genome/Homo_sapiens/hg38/hg38.gem -q offset-33 -m 0.04 -s 0 --allow-incomplete-strata 0.00 --granularity 10000 --max-decoded-matches 1 --min-decoded-strata 0 --min-insert-size 0 --max-insert-size 0 --min-matched-bases 0.8 --gem-quality-threshold 26 --max-big-indel-length 15 --mismatch-alphabet ACGT -E 0.30 --max-extendable-matches 20 --max-extensions-per-match 1 -e 0.04 -T 2 -i /home/student/tmp/K562_HindIII_1_ozqhZ8 -o /home/student/tmp/K562_HindIII_1_ozqhZ8_frag_1-end\n",
      "Parsing result...\n"
     ]
    },
    {
     "data": {
      "text/plain": [
       "['results/HindIII/01_mapping/mapHindIII_r1/K562_HindIII_1_full_1-end.map',\n",
       " 'results/HindIII/01_mapping/mapHindIII_r1/K562_HindIII_1_frag_1-end.map']"
      ]
     },
     "execution_count": 22,
     "metadata": {},
     "output_type": "execute_result"
    }
   ],
   "source": [
    "full_mapping(\"/media/storage/db/reference_genome/Homo_sapiens/hg38/hg38.gem\", nthreads=2, r_enz =r_enz,\n",
    "            frag_map = True,\n",
    "            out_map_dir = \"results/{0}/01_mapping/map{0}_r1\" .format(r_enz),\n",
    "            fastq_path = \"/media/storage/FASTQs/K562_{0}_1.fastq\" .format(r_enz))"
   ]
  },
  {
   "cell_type": "code",
   "execution_count": 20,
   "metadata": {
    "collapsed": false,
    "deletable": true,
    "editable": true
   },
   "outputs": [
    {
     "name": "stderr",
     "output_type": "stream",
     "text": [
      "/home/student/.miniconda2/lib/python2.7/site-packages/pytadbit/mapping/full_mapper.py:390: UserWarning: WARNING: only 194 Gb left on tmp_dir: /home/student/tmp\n",
      "\n",
      "  warn('WARNING: only %d Gb left on tmp_dir: %s\\n' % (fspace, temp_dir))\n"
     ]
    },
    {
     "name": "stdout",
     "output_type": "stream",
     "text": [
      "Preparing FASTQ file\n",
      "  - conversion to MAP format\n",
      "Mapping reads in window 1-end...\n",
      "TO GEM /home/student/tmp/K562_HindIII_2_QupIf1\n",
      "/usr/local/bin/gem-mapper -I /media/storage/db/reference_genome/Homo_sapiens/hg38/hg38.gem -q offset-33 -m 0.04 -s 0 --allow-incomplete-strata 0.00 --granularity 10000 --max-decoded-matches 1 --min-decoded-strata 0 --min-insert-size 0 --max-insert-size 0 --min-matched-bases 0.8 --gem-quality-threshold 26 --max-big-indel-length 15 --mismatch-alphabet ACGT -E 0.30 --max-extendable-matches 20 --max-extensions-per-match 1 -e 0.04 -T 2 -i /home/student/tmp/K562_HindIII_2_QupIf1 -o /home/student/tmp/K562_HindIII_2_QupIf1_full_1-end\n",
      "Parsing result...\n",
      "  - splitting into restriction enzyme (RE) fragments using ligation sites\n",
      "  - ligation sites are replaced by RE sites to match the reference genome\n",
      "    * enzyme: HindIII, ligation site: AAGCTAGCTT, RE site: AAGCTT\n",
      "Preparing MAP file\n",
      "Mapping fragments of remaining reads...\n",
      "TO GEM /home/student/tmp/K562_HindIII_2_JDtDOS\n",
      "/usr/local/bin/gem-mapper -I /media/storage/db/reference_genome/Homo_sapiens/hg38/hg38.gem -q offset-33 -m 0.04 -s 0 --allow-incomplete-strata 0.00 --granularity 10000 --max-decoded-matches 1 --min-decoded-strata 0 --min-insert-size 0 --max-insert-size 0 --min-matched-bases 0.8 --gem-quality-threshold 26 --max-big-indel-length 15 --mismatch-alphabet ACGT -E 0.30 --max-extendable-matches 20 --max-extensions-per-match 1 -e 0.04 -T 2 -i /home/student/tmp/K562_HindIII_2_JDtDOS -o /home/student/tmp/K562_HindIII_2_JDtDOS_frag_1-end\n",
      "Parsing result...\n"
     ]
    },
    {
     "data": {
      "text/plain": [
       "['results/HindIII/01_mapping/mapHindIII_r2/K562_HindIII_2_full_1-end.map',\n",
       " 'results/HindIII/01_mapping/mapHindIII_r2/K562_HindIII_2_frag_1-end.map']"
      ]
     },
     "execution_count": 20,
     "metadata": {},
     "output_type": "execute_result"
    }
   ],
   "source": [
    "full_mapping(\"/media/storage/db/reference_genome/Homo_sapiens/hg38/hg38.gem\", nthreads=2, r_enz =r_enz,\n",
    "            frag_map=True,\n",
    "            out_map_dir=\"results/{0}/01_mapping/map{0}_r2\" .format(r_enz),\n",
    "            fastq_path=\"/media/storage/FASTQs/K562_{0}_2.fastq\" .format(r_enz),\n",
    "            )"
   ]
  },
  {
   "cell_type": "code",
   "execution_count": 23,
   "metadata": {
    "collapsed": false,
    "deletable": true,
    "editable": true
   },
   "outputs": [
    {
     "name": "stdout",
     "output_type": "stream",
     "text": [
      "NS500645:59:HCL32BGXY:1:11101:14163:1054~2~\tAAGCTTCAAGGAAATACATTT\tHHHHHHEEEEEEAAEE</EEE\t1\tchr2:+:62077808:21\r\n",
      "NS500645:59:HCL32BGXY:1:11101:4416:1054~2~\tAAGCTTCCATTCNTTTGCTTCTGTTGTGTGTTTTTTCTTTTGTTTTTTTTTTGTTTTGGTT\tHHHHHHAEEEE/#EEEEEEEEEEEEEEEEEAEEEEEEEEEEEEEEEEEEEEE/<EEEEEAE\t0:0:1:0\tchr16:+:81452828:12T45T2\r\n",
      "NS500645:59:HCL32BGXY:1:11101:16360:1056\tCGCCTNTCTCCGAGGCCCTGTATTCTGGAATCTTGTGGCTCTCTCTTGGATCCTAAGCTT\tAAAAA#EEEEEEEEEEEEEEEEEEEEEEEEEEEEEEEEEEEEEEEEEEEEEEEEHHHHHH\t0:1:0\tchr2:-:6811943:5C54\r\n",
      "NS500645:59:HCL32BGXY:1:11101:17064:1056\tCATCANTAACTGTATCCAAAAGGAGACGCTGCTTGGGGTGTACCCAGAGAAAACACCAAGCTT\tAAAAA#EEEEEEEEEEEEEEEEEEEEE<EEEAEEEEEEEEEEEEAEEEEEEEEEEEEHHHHHH\t0:1:0\tchr4:-:40244040:5A57\r\n",
      "NS500645:59:HCL32BGXY:1:11101:15358:1057\tAGAAANTTCTACAGACTCCAGAGTGAAGCTT\tAAAAA#EEEEEEEEEEEEEEEEEEEHHHHHH\t0:1\tchr2:-:89284133:5C25\r\n",
      "NS500645:59:HCL32BGXY:1:11101:15358:1057~2~\tAAGCTTAAAAGATTCACCAATTACTTGAAAATGTTTGTGCATGTGT\tHHHHHHEEEEEEEEEEEEEEEEEEEEEEEEEEEEEEEEEEEEEEEE\t1\tchr2:-:58688377:46\r\n",
      "NS500645:59:HCL32BGXY:1:11101:22546:1059\tAGCTTNATCATTTCTAGCTTTTGAGGAAAACTGGGAGACATGCGACTGCTCCTTTCACTTGAAAGCTT\tAAAAA#EEEEEEEEEEEEEEEEEEEEEEEEEEEEEEEAEEEEEEEEEEEEEEEEEEEEEEEEHHHHHH\t0:1:0\tchr14:-:54128571:5A62\r\n",
      "NS500645:59:HCL32BGXY:1:11101:6478:1064~2~\tAAGCTTCCATTTTATTGAAGTAGTGCACAAAGCTTTCCCTCTTATTGAGGGATTTCTTCA\tHHHHHHEEEEEEEEEEEEEEEEEEEEEEEEEEEEEEEEAEEEEEEEEE<EEEEEEEEEEE\t1\tchr1:-:118273696:60\r\n",
      "NS500645:59:HCL32BGXY:1:11101:25274:1064~2~\tAAGCTTTTCAAAACAAAATTAGCTCTTTCAGAATTAAGGCCTTGTTCTCTACAGAGTT\tHHHHHHEEEEEEEEAEEEEEEEEEEEEEEEEEEEEEEEAEEEEEEEEEEEEEAEEEEE\t1\tchrX:-:81223467:58\r\n",
      "NS500645:59:HCL32BGXY:1:11101:18285:1064\tCCCTGNGTTCCTCTGCCTTTCCGGGACAGGGGGGAAGATAAGATTTCATCATGAGAAAGCTT\tAAAAA#EEEAEEEEEAEEEEE<EEEEEEEEEEEEEEEEEEEEEEEEEEEEEEEEEEHHHHHH\t0:1:0\tchr16:+:23130111:5T56\r\n"
     ]
    }
   ],
   "source": [
    "! head results/HindIII/01_mapping/mapHindIII_r1/K562_HindIII_1_frag_1-end.map"
   ]
  },
  {
   "cell_type": "code",
   "execution_count": 24,
   "metadata": {
    "collapsed": false,
    "deletable": true,
    "editable": true
   },
   "outputs": [
    {
     "name": "stdout",
     "output_type": "stream",
     "text": [
      "NS500645:59:HCL32BGXY:1:11101:10953:1055\tCTGACNTACAGGACAGTTATTTTCCAGACTGAAAATTCTCAAACCCAGTCGTGCAAATGATTCTTCCTGCAGTTG\tAAAAA#EEEEEAEEEEEEEEEEEEEEEEEEEEEEEEEEEEEEEEEEEAEEEEEEAEEEEEEEEEEEEEEEEEEEE\t0:1:0\tchr10:-:2688535:5G69\r\n",
      "NS500645:59:HCL32BGXY:1:11101:24830:1055\tCTTTTNTTTGCTAGTCAAAGGCCTAGGCCTTTATCTTCCTTTTTGCTACAACCCTAAAGGCAAAGAAAGAAAGGG\tAAAAA#EEEEEEEEEEEEEEEEEEEEEEEEEEEEEEEEEEEEEEEEEEEAEEEEEEEEEEEEEEEEEEEEEEEEE\t0:1:0\tchr1:-:50841578:5C69\r\n",
      "NS500645:59:HCL32BGXY:1:11101:6039:1056\tAGGGTNACATAGGTGACATAGCACGTAAGAGCTTGGGTCCTGAAGTTAGATGGGGCTGGGTTTCAAATCTATCCT\tAAAAA#EEEEEEEEEEEEEEEEEEEEEEEEEEEEEEEEEEEEEEEEEEEEEEEEEEEEEEEEEEEEEEEEEEEEE\t0:0:1:0\tchr7:+:129557395:5G65C3\r\n",
      "NS500645:59:HCL32BGXY:1:11101:21852:1056\tCTCTGNTTTGTTTCTTTGTTTGTTATGGTTGTTTTTCAGATAGATATAGTTTCATTACAAAAGAAAATTTGTTAT\tAAAAA#EEEEEEEEEEEEEEEEEEEEEEEEEEEEEEEEEEEEEEEEEEEEEEAEEEEEEEEEEEEEEEEEEEEEE\t0:0:1:0\tchr6:-:23446287:5T68G\r\n",
      "NS500645:59:HCL32BGXY:1:11101:19311:1056\tATTTTNTACCTTTTGAGAAACACTGAACTAATAATATTTCTGAGACCTCTTCAAGCTCTGACATGCTGTGTTTAG\tAAAAA#EEEEEEEEEEEEEEEEEEEEEEEEEEEEEEEEEEEEEEEEEEEEEEEEEEEEEEEEEEEEEEEEEEEEE\t0:1:0\tchr19:-:41066219:5A69\r\n",
      "NS500645:59:HCL32BGXY:1:11101:17157:1056\tATAATNTATTTGCTCTCTTCAGCCTTTTTCCAGTTAGTACTCTCATCAGTAAGGCACATGAAGTGTGAAATTTTG\tAAAAA#EEEEEEEEEEEEEEEEEEEEEEEEAEEEEEEEEEEEEEEEEEEEEEEEEEEEEEEEEEEEEEEEEEEEE\t0:1:0\tchr9:+:114790228:5A69\r\n",
      "NS500645:59:HCL32BGXY:1:11101:26187:1057\tAAACTNATTTTTTTTTTTGCTTTTTTTTCCTTTTAAAAATATGAGCAGTAATCACATTGACTAAACAAACAGCCT\tAAAAA#EEEEEEEEEEEEEEEEEEEEEEE/EEEEEEEEEEEEAEEEEEEEEEEEE6EEEEEEEAEEAEEE/EEEE\t0:1:0\tchr10:+:63481424:5G69\r\n",
      "NS500645:59:HCL32BGXY:1:11101:8600:1058\tAGAGANCCAAAGCTGGATAAATTTTCTACCTGAGAGCTGGAGTTTCCAAGAATGACAGACAGCCATGGGAAGAAG\tAAAAA#EEEEEEEEEEEEAEEEEEEEEEEEEEEEEEEEEEEEEEEEEEEEEEEEEAEEEEEEEEEEEEEEAEEEE\t0:1:0\tchr5:+:53943740:5A69\r\n",
      "NS500645:59:HCL32BGXY:1:11101:8731:1058\tATGAANCTACTACAAGAAAACATTAGGGAAACTCTTCAGGATATTGGTCTGGGCAAAAATTTCTTGAGTAATACC\tAAAAA#EEEEEEEEEEEEEEEEEEEEEEEEEEEEEEEEEEEEEEEEEEEEEEEEEEEEEEEEEEEEEEEEEEEEE\t0:1:0\tchr3:+:17104208:5A69\r\n",
      "NS500645:59:HCL32BGXY:1:11101:23591:1059\tCTATTNGTCTTAATAGTCTGAGTTCCCAAGATAAACAGAACATATACATATATTTATATTATAAGGAATTGGCTC\tAAAAA#EEE/EEEEEEEEEEEE6E<EEEEE/EEEAEEEEEEEEEEEEEEEEAEEEEEEEEEEEEEEE/EAAEEEE\t0:1:0\tchr18:+:41009204:5A69\r\n"
     ]
    }
   ],
   "source": [
    "! head results/HindIII/01_mapping/mapHindIII_r1/K562_HindIII_1_full_1-end.map"
   ]
  },
  {
   "cell_type": "code",
   "execution_count": null,
   "metadata": {
    "collapsed": true,
    "deletable": true,
    "editable": true
   },
   "outputs": [],
   "source": []
  }
 ],
 "metadata": {
  "kernelspec": {
   "display_name": "Python 2",
   "language": "python",
   "name": "python2"
  },
  "language_info": {
   "codemirror_mode": {
    "name": "ipython",
    "version": 2
   },
   "file_extension": ".py",
   "mimetype": "text/x-python",
   "name": "python",
   "nbconvert_exporter": "python",
   "pygments_lexer": "ipython2",
   "version": "2.7.13"
  }
 },
 "nbformat": 4,
 "nbformat_minor": 2
}
