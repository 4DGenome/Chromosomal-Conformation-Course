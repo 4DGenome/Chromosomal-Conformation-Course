{
 "cells": [
  {
   "cell_type": "code",
   "execution_count": 1,
   "metadata": {
    "collapsed": true
   },
   "outputs": [],
   "source": [
    "r_enz= 'HindIII'"
   ]
  },
  {
   "cell_type": "code",
   "execution_count": 3,
   "metadata": {
    "collapsed": true
   },
   "outputs": [],
   "source": [
    "from pytadbit.mapping.full_mapper import full_mapping"
   ]
  },
  {
   "cell_type": "code",
   "execution_count": null,
   "metadata": {
    "collapsed": false
   },
   "outputs": [],
   "source": [
    "full_mapping('/media/storage/db/reference_genome/Homo_sapiens/hg38/hg38.gem',\n",
    "            nthreads=2, clean=True, r_enz=r_enz\n",
    "            frag_map=False,\n",
    "            out_map_dir='results/{0}/01_mapping/map{0}_r1'.format(r_enz),\n",
    "            fastq_path='/media/storage/FASTQs/K562_{0}_1.fastq'.format(r_enz),\n",
    "            windows=((1, 25),(1, 30),(1,50),(1,75)))"
   ]
  },
  {
   "cell_type": "code",
   "execution_count": null,
   "metadata": {
    "collapsed": false
   },
   "outputs": [],
   "source": [
    "full_mapping('/media/storage/db/reference_genome/Homo_sapiens/hg38/hg38.gem',\n",
    "            nthreads=2, clean=True, r_enz=r_enz,\n",
    "            frag_map=False,\n",
    "            out_map_dir='results/{0}/01_mapping/map{0}_r2'.format(r_enz),\n",
    "            fastq_path='/media/storage/FASTQs/K562_{0}_2.fastq'.format(r_enz),\n",
    "            windows=((1, 25),(1, 30),(1,50),(1,75)))"
   ]
  },
  {
   "cell_type": "raw",
   "metadata": {},
   "source": [
    "!mkdir -p results"
   ]
  },
  {
   "cell_type": "markdown",
   "metadata": {},
   "source": [
    "\n"
   ]
  },
  {
   "cell_type": "code",
   "execution_count": 24,
   "metadata": {
    "collapsed": false
   },
   "outputs": [],
   "source": [
    "!rm -rf results/HindIII/02_mapping"
   ]
  },
  {
   "cell_type": "code",
   "execution_count": 25,
   "metadata": {
    "collapsed": true
   },
   "outputs": [],
   "source": [
    "!rm -rf results/MboI/02_mapping"
   ]
  },
  {
   "cell_type": "code",
   "execution_count": 26,
   "metadata": {
    "collapsed": false
   },
   "outputs": [
    {
     "name": "stdout",
     "output_type": "stream",
     "text": [
      "/media/storage/Notebooks2/deo\r\n"
     ]
    }
   ],
   "source": [
    "!pwd"
   ]
  },
  {
   "cell_type": "code",
   "execution_count": 28,
   "metadata": {
    "collapsed": false
   },
   "outputs": [
    {
     "name": "stdout",
     "output_type": "stream",
     "text": [
      "NS500645:59:HCL32BGXY:1:11101:14163:1054~2~\tAAGCTTCAAGGAAATACATTT\tHHHHHHEEEEEEAAEE</EEE\t1\tchr2:+:62077808:21\r\n",
      "NS500645:59:HCL32BGXY:1:11101:4416:1054~2~\tAAGCTTCCATTCNTTTGCTTCTGTTGTGTGTTTTTTCTTTTGTTTTTTTTTTGTTTTGGTT\tHHHHHHAEEEE/#EEEEEEEEEEEEEEEEEAEEEEEEEEEEEEEEEEEEEEE/<EEEEEAE\t0:0:1:0\tchr16:+:81452828:12T45T2\r\n",
      "NS500645:59:HCL32BGXY:1:11101:16360:1056\tCGCCTNTCTCCGAGGCCCTGTATTCTGGAATCTTGTGGCTCTCTCTTGGATCCTAAGCTT\tAAAAA#EEEEEEEEEEEEEEEEEEEEEEEEEEEEEEEEEEEEEEEEEEEEEEEEHHHHHH\t0:1:0\tchr2:-:6811943:5C54\r\n",
      "NS500645:59:HCL32BGXY:1:11101:17064:1056\tCATCANTAACTGTATCCAAAAGGAGACGCTGCTTGGGGTGTACCCAGAGAAAACACCAAGCTT\tAAAAA#EEEEEEEEEEEEEEEEEEEEE<EEEAEEEEEEEEEEEEAEEEEEEEEEEEEHHHHHH\t0:1:0\tchr4:-:40244040:5A57\r\n",
      "NS500645:59:HCL32BGXY:1:11101:15358:1057\tAGAAANTTCTACAGACTCCAGAGTGAAGCTT\tAAAAA#EEEEEEEEEEEEEEEEEEEHHHHHH\t0:1\tchr2:-:89284133:5C25\r\n",
      "NS500645:59:HCL32BGXY:1:11101:15358:1057~2~\tAAGCTTAAAAGATTCACCAATTACTTGAAAATGTTTGTGCATGTGT\tHHHHHHEEEEEEEEEEEEEEEEEEEEEEEEEEEEEEEEEEEEEEEE\t1\tchr2:-:58688377:46\r\n",
      "NS500645:59:HCL32BGXY:1:11101:22546:1059\tAGCTTNATCATTTCTAGCTTTTGAGGAAAACTGGGAGACATGCGACTGCTCCTTTCACTTGAAAGCTT\tAAAAA#EEEEEEEEEEEEEEEEEEEEEEEEEEEEEEEAEEEEEEEEEEEEEEEEEEEEEEEEHHHHHH\t0:1:0\tchr14:-:54128571:5A62\r\n",
      "NS500645:59:HCL32BGXY:1:11101:6478:1064~2~\tAAGCTTCCATTTTATTGAAGTAGTGCACAAAGCTTTCCCTCTTATTGAGGGATTTCTTCA\tHHHHHHEEEEEEEEEEEEEEEEEEEEEEEEEEEEEEEEAEEEEEEEEE<EEEEEEEEEEE\t1\tchr1:-:118273696:60\r\n",
      "NS500645:59:HCL32BGXY:1:11101:25274:1064~2~\tAAGCTTTTCAAAACAAAATTAGCTCTTTCAGAATTAAGGCCTTGTTCTCTACAGAGTT\tHHHHHHEEEEEEEEAEEEEEEEEEEEEEEEEEEEEEEEAEEEEEEEEEEEEEAEEEEE\t1\tchrX:-:81223467:58\r\n",
      "NS500645:59:HCL32BGXY:1:11101:18285:1064\tCCCTGNGTTCCTCTGCCTTTCCGGGACAGGGGGGAAGATAAGATTTCATCATGAGAAAGCTT\tAAAAA#EEEAEEEEEAEEEEE<EEEEEEEEEEEEEEEEEEEEEEEEEEEEEEEEEEHHHHHH\t0:1:0\tchr16:+:23130111:5T56\r\n"
     ]
    }
   ],
   "source": [
    "!head results/HindIII/01_mapping/mapHindIII_r1/K562_HindIII_1_frag_1-end.map"
   ]
  },
  {
   "cell_type": "code",
   "execution_count": null,
   "metadata": {
    "collapsed": true
   },
   "outputs": [],
   "source": []
  }
 ],
 "metadata": {
  "kernelspec": {
   "display_name": "Python 2",
   "language": "python",
   "name": "python2"
  },
  "language_info": {
   "codemirror_mode": {
    "name": "ipython",
    "version": 2
   },
   "file_extension": ".py",
   "mimetype": "text/x-python",
   "name": "python",
   "nbconvert_exporter": "python",
   "pygments_lexer": "ipython2",
   "version": "2.7.13"
  }
 },
 "nbformat": 4,
 "nbformat_minor": 2
}
