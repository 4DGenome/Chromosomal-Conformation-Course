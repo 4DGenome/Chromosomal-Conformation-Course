{
 "cells": [
  {
   "cell_type": "code",
   "execution_count": 1,
   "metadata": {
    "collapsed": true
   },
   "outputs": [],
   "source": [
    "from pytadbit.parsers.genome_parser import parse_fasta"
   ]
  },
  {
   "cell_type": "code",
   "execution_count": 2,
   "metadata": {
    "collapsed": false
   },
   "outputs": [
    {
     "name": "stdout",
     "output_type": "stream",
     "text": [
      "Parsing chr1\n",
      "Parsing chr2\n",
      "Parsing chr3\n",
      "Parsing chr4\n",
      "Parsing chr5\n",
      "Parsing chr6\n",
      "Parsing chr7\n",
      "Parsing chr8\n",
      "Parsing chr9\n",
      "Parsing chr10\n",
      "Parsing chr11\n",
      "Parsing chr12\n",
      "Parsing chr13\n",
      "Parsing chr14\n",
      "Parsing chr15\n",
      "Parsing chr16\n",
      "Parsing chr17\n",
      "Parsing chr18\n",
      "Parsing chr19\n",
      "Parsing chr20\n",
      "Parsing chr21\n",
      "Parsing chr22\n",
      "Parsing chrX\n",
      "Parsing chrY\n",
      "Parsing chrM\n"
     ]
    }
   ],
   "source": [
    "genome_seq = parse_fasta(\n",
    "    '/media/storage/db/reference_genome/Homo_sapiens/hg38/hg38.fa')"
   ]
  },
  {
   "cell_type": "code",
   "execution_count": 3,
   "metadata": {
    "collapsed": true
   },
   "outputs": [],
   "source": [
    "maps1 = ['results/HindIII/01_mapping/mapHindIII_r1/K562_HindIII_1_frag_1-end.map',\n",
    "        'results/HindIII/01_mapping/mapHindIII_r1/K562_HindIII_1_full_1-end.map']"
   ]
  },
  {
   "cell_type": "code",
   "execution_count": 4,
   "metadata": {
    "collapsed": true
   },
   "outputs": [],
   "source": [
    "maps2 = ['results/HindIII/01_mapping/mapHindIII_r2/K562_HindIII_2_frag_1-end.map',\n",
    "        'results/HindIII/01_mapping/mapHindIII_r2/K562_HindIII_2_full_1-end.map']"
   ]
  },
  {
   "cell_type": "code",
   "execution_count": 5,
   "metadata": {
    "collapsed": true
   },
   "outputs": [],
   "source": [
    "!mkdir -p results/HindIII/02_parsing"
   ]
  },
  {
   "cell_type": "code",
   "execution_count": 6,
   "metadata": {
    "collapsed": true
   },
   "outputs": [],
   "source": [
    "from pytadbit.parsers.map_parser import parse_map"
   ]
  },
  {
   "cell_type": "code",
   "execution_count": 7,
   "metadata": {
    "collapsed": false
   },
   "outputs": [
    {
     "name": "stdout",
     "output_type": "stream",
     "text": [
      "Searching and mapping RE sites to the reference genome\n",
      "Found 860368 RE sites\n",
      "Loading read1\n",
      "loading file: results/HindIII/01_mapping/mapHindIII_r1/K562_HindIII_1_frag_1-end.map\n",
      "loading file: results/HindIII/01_mapping/mapHindIII_r1/K562_HindIII_1_full_1-end.map\n",
      "Merge sort...........\n",
      "Getting Multiple contacts\n",
      "Loading read2\n",
      "loading file: results/HindIII/01_mapping/mapHindIII_r2/K562_HindIII_2_frag_1-end.map\n",
      "loading file: results/HindIII/01_mapping/mapHindIII_r2/K562_HindIII_2_full_1-end.map\n",
      "Merge sort..........\n",
      "Getting Multiple contacts\n"
     ]
    },
    {
     "data": {
      "text/plain": [
       "({0: {1: 4605716, 2: 6047543}, 1: {1: 4357315, 2: 5940550}},\n",
       " {0: 1622735, 1: 1521698})"
      ]
     },
     "execution_count": 7,
     "metadata": {},
     "output_type": "execute_result"
    }
   ],
   "source": [
    "parse_map(maps1,\n",
    "         maps2,\n",
    "         'results/HindIII/02_parsing/reads1.tsv',\n",
    "         'results/HindIII/02_parsing/reads2.tsv',\n",
    "         genome_seq=genome_seq, re_name='HindIII',\n",
    "         verbose=True)"
   ]
  },
  {
   "cell_type": "code",
   "execution_count": 8,
   "metadata": {
    "collapsed": false
   },
   "outputs": [
    {
     "name": "stdout",
     "output_type": "stream",
     "text": [
      "# Chromosome lengths (order matters):\r\n",
      "# CRM chr1\t248956422\r\n",
      "# CRM chr2\t242193529\r\n",
      "# CRM chr3\t198295559\r\n",
      "# CRM chr4\t190214555\r\n",
      "# CRM chr5\t181538259\r\n",
      "# CRM chr6\t170805979\r\n",
      "# CRM chr7\t159345973\r\n",
      "# CRM chr8\t145138636\r\n",
      "# CRM chr9\t138394717\r\n"
     ]
    }
   ],
   "source": [
    "!head results/HindIII/02_parsing/reads1.tsv"
   ]
  },
  {
   "cell_type": "code",
   "execution_count": 9,
   "metadata": {
    "collapsed": false
   },
   "outputs": [
    {
     "name": "stdout",
     "output_type": "stream",
     "text": [
      "# Chromosome lengths (order matters):\r\n",
      "# CRM chr1\t248956422\r\n",
      "# CRM chr2\t242193529\r\n",
      "# CRM chr3\t198295559\r\n",
      "# CRM chr4\t190214555\r\n",
      "# CRM chr5\t181538259\r\n",
      "# CRM chr6\t170805979\r\n",
      "# CRM chr7\t159345973\r\n",
      "# CRM chr8\t145138636\r\n",
      "# CRM chr9\t138394717\r\n"
     ]
    }
   ],
   "source": [
    "!head results/HindIII/02_parsing/reads2.tsv"
   ]
  },
  {
   "cell_type": "code",
   "execution_count": null,
   "metadata": {
    "collapsed": true
   },
   "outputs": [],
   "source": [
    "\n",
    "\n"
   ]
  }
 ],
 "metadata": {
  "kernelspec": {
   "display_name": "Python 2",
   "language": "python",
   "name": "python2"
  },
  "language_info": {
   "codemirror_mode": {
    "name": "ipython",
    "version": 2
   },
   "file_extension": ".py",
   "mimetype": "text/x-python",
   "name": "python",
   "nbconvert_exporter": "python",
   "pygments_lexer": "ipython2",
   "version": "2.7.13"
  }
 },
 "nbformat": 4,
 "nbformat_minor": 2
}
