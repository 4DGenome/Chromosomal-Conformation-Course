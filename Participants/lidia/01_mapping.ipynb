{
 "cells": [
  {
   "cell_type": "markdown",
   "metadata": {},
   "source": [
    "# Iterative mapping"
   ]
  },
  {
   "cell_type": "code",
   "execution_count": 1,
   "metadata": {
    "collapsed": true
   },
   "outputs": [],
   "source": [
    "r_enz = 'HindIII'"
   ]
  },
  {
   "cell_type": "code",
   "execution_count": 4,
   "metadata": {
    "collapsed": false
   },
   "outputs": [],
   "source": [
    "from pytadbit.mapping.full_mapper import full_mapping"
   ]
  },
  {
   "cell_type": "code",
   "execution_count": 7,
   "metadata": {
    "collapsed": false
   },
   "outputs": [
    {
     "ename": "OSError",
     "evalue": "[Errno 2] No such file or directory: 'results/HindIII/01_mapping/mapHindIII_rl'",
     "output_type": "error",
     "traceback": [
      "\u001b[0;31m---------------------------------------------------------------------------\u001b[0m",
      "\u001b[0;31mOSError\u001b[0m                                   Traceback (most recent call last)",
      "\u001b[0;32m<ipython-input-7-1494c8b2010d>\u001b[0m in \u001b[0;36m<module>\u001b[0;34m()\u001b[0m\n\u001b[0;32m----> 1\u001b[0;31m \u001b[0mfull_mapping\u001b[0m\u001b[0;34m(\u001b[0m\u001b[0;34m'/media/storage/db/reference_genome/Homo_sapiens/hg38/hg38.gem'\u001b[0m\u001b[0;34m,\u001b[0m \u001b[0mnthreads\u001b[0m\u001b[0;34m=\u001b[0m\u001b[0;36m2\u001b[0m\u001b[0;34m,\u001b[0m \u001b[0mclean\u001b[0m\u001b[0;34m=\u001b[0m\u001b[0mTrue\u001b[0m\u001b[0;34m,\u001b[0m \u001b[0mr_enz\u001b[0m\u001b[0;34m=\u001b[0m\u001b[0mr_enz\u001b[0m\u001b[0;34m,\u001b[0m \u001b[0mfrag_map\u001b[0m\u001b[0;34m=\u001b[0m\u001b[0mFalse\u001b[0m\u001b[0;34m,\u001b[0m \u001b[0mout_map_dir\u001b[0m\u001b[0;34m=\u001b[0m\u001b[0;34m'results/{0}/01_mapping/map{0}_rl'\u001b[0m\u001b[0;34m.\u001b[0m\u001b[0mformat\u001b[0m\u001b[0;34m(\u001b[0m\u001b[0mr_enz\u001b[0m\u001b[0;34m)\u001b[0m\u001b[0;34m,\u001b[0m \u001b[0mfastq_path\u001b[0m\u001b[0;34m=\u001b[0m\u001b[0;34m'/media/storage/FASTQs/K562_{0}_1.fastq'\u001b[0m\u001b[0;34m.\u001b[0m\u001b[0mformat\u001b[0m\u001b[0;34m(\u001b[0m\u001b[0mr_enz\u001b[0m\u001b[0;34m)\u001b[0m\u001b[0;34m,\u001b[0m\u001b[0;34m)\u001b[0m\u001b[0;34m\u001b[0m\u001b[0m\n\u001b[0m",
      "\u001b[0;32m/home/student/.miniconda2/lib/python2.7/site-packages/pytadbit/mapping/full_mapper.pyc\u001b[0m in \u001b[0;36mfull_mapping\u001b[0;34m(gem_index_path, fastq_path, out_map_dir, r_enz, frag_map, min_seq_len, windows, add_site, clean, get_nread, **kwargs)\u001b[0m\n\u001b[1;32m    384\u001b[0m     \u001b[0;31m# create directories\u001b[0m\u001b[0;34m\u001b[0m\u001b[0;34m\u001b[0m\u001b[0m\n\u001b[1;32m    385\u001b[0m     \u001b[0;32mfor\u001b[0m \u001b[0mrep\u001b[0m \u001b[0;32min\u001b[0m \u001b[0;34m[\u001b[0m\u001b[0mtemp_dir\u001b[0m\u001b[0;34m,\u001b[0m \u001b[0mout_map_dir\u001b[0m\u001b[0;34m]\u001b[0m\u001b[0;34m:\u001b[0m\u001b[0;34m\u001b[0m\u001b[0m\n\u001b[0;32m--> 386\u001b[0;31m         \u001b[0mmkdir\u001b[0m\u001b[0;34m(\u001b[0m\u001b[0mrep\u001b[0m\u001b[0;34m)\u001b[0m\u001b[0;34m\u001b[0m\u001b[0m\n\u001b[0m\u001b[1;32m    387\u001b[0m     \u001b[0;31m# check space\u001b[0m\u001b[0;34m\u001b[0m\u001b[0;34m\u001b[0m\u001b[0m\n\u001b[1;32m    388\u001b[0m     \u001b[0mfspace\u001b[0m \u001b[0;34m=\u001b[0m \u001b[0mint\u001b[0m\u001b[0;34m(\u001b[0m\u001b[0mget_free_space_mb\u001b[0m\u001b[0;34m(\u001b[0m\u001b[0mtemp_dir\u001b[0m\u001b[0;34m,\u001b[0m \u001b[0mdiv\u001b[0m\u001b[0;34m=\u001b[0m\u001b[0;36m3\u001b[0m\u001b[0;34m)\u001b[0m\u001b[0;34m)\u001b[0m\u001b[0;34m\u001b[0m\u001b[0m\n",
      "\u001b[0;32m/home/student/.miniconda2/lib/python2.7/site-packages/pytadbit/utils/file_handling.pyc\u001b[0m in \u001b[0;36mmkdir\u001b[0;34m(dnam)\u001b[0m\n\u001b[1;32m    100\u001b[0m \u001b[0;32mdef\u001b[0m \u001b[0mmkdir\u001b[0m\u001b[0;34m(\u001b[0m\u001b[0mdnam\u001b[0m\u001b[0;34m)\u001b[0m\u001b[0;34m:\u001b[0m\u001b[0;34m\u001b[0m\u001b[0m\n\u001b[1;32m    101\u001b[0m     \u001b[0;32mtry\u001b[0m\u001b[0;34m:\u001b[0m\u001b[0;34m\u001b[0m\u001b[0m\n\u001b[0;32m--> 102\u001b[0;31m         \u001b[0mos\u001b[0m\u001b[0;34m.\u001b[0m\u001b[0mmkdir\u001b[0m\u001b[0;34m(\u001b[0m\u001b[0mdnam\u001b[0m\u001b[0;34m)\u001b[0m\u001b[0;34m\u001b[0m\u001b[0m\n\u001b[0m\u001b[1;32m    103\u001b[0m     \u001b[0;32mexcept\u001b[0m \u001b[0mOSError\u001b[0m \u001b[0;32mas\u001b[0m \u001b[0mexc\u001b[0m\u001b[0;34m:\u001b[0m\u001b[0;34m\u001b[0m\u001b[0m\n\u001b[1;32m    104\u001b[0m         \u001b[0;32mif\u001b[0m \u001b[0mexc\u001b[0m\u001b[0;34m.\u001b[0m\u001b[0merrno\u001b[0m \u001b[0;34m==\u001b[0m \u001b[0merrno\u001b[0m\u001b[0;34m.\u001b[0m\u001b[0mEEXIST\u001b[0m \u001b[0;32mand\u001b[0m \u001b[0mos\u001b[0m\u001b[0;34m.\u001b[0m\u001b[0mpath\u001b[0m\u001b[0;34m.\u001b[0m\u001b[0misdir\u001b[0m\u001b[0;34m(\u001b[0m\u001b[0mdnam\u001b[0m\u001b[0;34m)\u001b[0m\u001b[0;34m:\u001b[0m\u001b[0;34m\u001b[0m\u001b[0m\n",
      "\u001b[0;31mOSError\u001b[0m: [Errno 2] No such file or directory: 'results/HindIII/01_mapping/mapHindIII_rl'"
     ]
    }
   ],
   "source": [
    "full_mapping('/media/storage/db/reference_genome/Homo_sapiens/hg38/hg38.gem',\n",
    "            nthreads=2, clean=True, r_enz=r_enz,\n",
    "            frag_map=False,\n",
    "            out_map_dir='results/{0}/01_mapping/map{0}_rl'.format(r_enz),\n",
    "            fastq_path='/media/storage/FASTQs/K562_{0}_1.fastq'.format(r_enz),\n",
    "            windows=((1, 25),(1, 30), (1,40),(1,75),(10, 75)))"
   ]
  },
  {
   "cell_type": "code",
   "execution_count": null,
   "metadata": {
    "collapsed": true
   },
   "outputs": [],
   "source": [
    "full_mapping('/media/storage/db/reference_genome/Homo_sapiens/hg38/hg38.gem',\n",
    "            nthreads=2, clean=True, r_enz=r_enz,\n",
    "            frag_map=False,\n",
    "            out_map_dir='results/{0}/01_mapping/map{0}_r2'.format(r_enz),\n",
    "            fastq_path='/media/storage/FASTQs/K562_{0}_2.fastq'.format(r_enz),\n",
    "            windows=((1, 25),(1, 30), (1,40),(1,75),(10, 75)))"
   ]
  },
  {
   "cell_type": "code",
   "execution_count": null,
   "metadata": {
    "collapsed": true
   },
   "outputs": [],
   "source": [
    "full_mapping('/media/storage/db/reference_genome/Homo_sapiens/hg38/hg38.gem',\n",
    "            nthreads=2, clean=True, r_enz=r_enz,\n",
    "            frag_map=False,\n",
    "            out_map_dir='results/{0}/01_mapping/map{0}_r2'.format(r_enz),\n",
    "            fastq_path='/media/storage/FASTQs/K562_{0}_2.fastq'.format(r_enz),\n",
    "            windows=((1, 25),(1, 30), (1,40),(1,75),(10, 75)))"
   ]
  },
  {
   "cell_type": "markdown",
   "metadata": {},
   "source": [
    "# fragment based mapping"
   ]
  },
  {
   "cell_type": "code",
   "execution_count": 13,
   "metadata": {
    "collapsed": true
   },
   "outputs": [],
   "source": [
    "! mkdir -p results"
   ]
  },
  {
   "cell_type": "code",
   "execution_count": 14,
   "metadata": {
    "collapsed": true
   },
   "outputs": [],
   "source": [
    "! mkdir -p results/HindIII"
   ]
  },
  {
   "cell_type": "code",
   "execution_count": 15,
   "metadata": {
    "collapsed": true
   },
   "outputs": [],
   "source": [
    "! mkdir -p results/HindIII/01_mapping"
   ]
  },
  {
   "cell_type": "code",
   "execution_count": 16,
   "metadata": {
    "collapsed": true
   },
   "outputs": [],
   "source": [
    "! mkdir -p results/MboI"
   ]
  },
  {
   "cell_type": "code",
   "execution_count": 17,
   "metadata": {
    "collapsed": true
   },
   "outputs": [],
   "source": [
    "! mkdir -p results/MboI/01_mapping"
   ]
  },
  {
   "cell_type": "code",
   "execution_count": 18,
   "metadata": {
    "collapsed": false
   },
   "outputs": [
    {
     "name": "stdout",
     "output_type": "stream",
     "text": [
      "00_fastq_QC.ipynb  01_mapping.ipynb  learning_python.ipynb  \u001b[0m\u001b[01;34mresults\u001b[0m/\r\n"
     ]
    }
   ],
   "source": [
    "ls"
   ]
  },
  {
   "cell_type": "code",
   "execution_count": 19,
   "metadata": {
    "collapsed": false
   },
   "outputs": [
    {
     "name": "stdout",
     "output_type": "stream",
     "text": [
      "Preparing FASTQ file\n",
      "  - conversion to MAP format\n",
      "Mapping reads in window 1-end...\n",
      "TO GEM /home/student/tmp/K562_HindIII_1_HIro5d\n",
      "/usr/local/bin/gem-mapper -I /media/storage/db/reference_genome/Homo_sapiens/hg38/hg38.gem -q offset-33 -m 0.04 -s 0 --allow-incomplete-strata 0.00 --granularity 10000 --max-decoded-matches 1 --min-decoded-strata 0 --min-insert-size 0 --max-insert-size 0 --min-matched-bases 0.8 --gem-quality-threshold 26 --max-big-indel-length 15 --mismatch-alphabet ACGT -E 0.30 --max-extendable-matches 20 --max-extensions-per-match 1 -e 0.04 -T 2 -i /home/student/tmp/K562_HindIII_1_HIro5d -o /home/student/tmp/K562_HindIII_1_HIro5d_full_1-end\n",
      "Parsing result...\n",
      "   x removing GEM input /home/student/tmp/K562_HindIII_1_HIro5d\n",
      "   x removing map /home/student/tmp/K562_HindIII_1_HIro5d_full_1-end.map\n",
      "  - splitting into restriction enzyme (RE) fragments using ligation sites\n",
      "  - ligation sites are replaced by RE sites to match the reference genome\n",
      "    * enzyme: HindIII, ligation site: AAGCTAGCTT, RE site: AAGCTT\n",
      "Preparing MAP file\n",
      "   x removing pre-GEM input /home/student/tmp/K562_HindIII_1_HIro5d_filt_1-end.map\n",
      "Mapping fragments of remaining reads...\n",
      "TO GEM /home/student/tmp/K562_HindIII_1_Idc6vP\n",
      "/usr/local/bin/gem-mapper -I /media/storage/db/reference_genome/Homo_sapiens/hg38/hg38.gem -q offset-33 -m 0.04 -s 0 --allow-incomplete-strata 0.00 --granularity 10000 --max-decoded-matches 1 --min-decoded-strata 0 --min-insert-size 0 --max-insert-size 0 --min-matched-bases 0.8 --gem-quality-threshold 26 --max-big-indel-length 15 --mismatch-alphabet ACGT -E 0.30 --max-extendable-matches 20 --max-extensions-per-match 1 -e 0.04 -T 2 -i /home/student/tmp/K562_HindIII_1_Idc6vP -o /home/student/tmp/K562_HindIII_1_Idc6vP_frag_1-end\n",
      "Parsing result...\n",
      "   x removing GEM input /home/student/tmp/K562_HindIII_1_Idc6vP\n",
      "   x removing failed to map /home/student/tmp/K562_HindIII_1_HIro5d_fail.map\n",
      "   x removing tmp mapped /home/student/tmp/K562_HindIII_1_Idc6vP_frag_1-end.map\n"
     ]
    },
    {
     "data": {
      "text/plain": [
       "['results/HindIII/01_mapping/mapHindIII_r1/K562_HindIII_1_full_1-end.map',\n",
       " 'results/HindIII/01_mapping/mapHindIII_r1/K562_HindIII_1_frag_1-end.map']"
      ]
     },
     "execution_count": 19,
     "metadata": {},
     "output_type": "execute_result"
    }
   ],
   "source": [
    "full_mapping('/media/storage/db/reference_genome/Homo_sapiens/hg38/hg38.gem',\n",
    "            nthreads=2, clean=True, r_enz=r_enz,\n",
    "            frag_map=True,\n",
    "            out_map_dir='results/{0}/01_mapping/map{0}_r1'.format(r_enz),\n",
    "            fastq_path='/media/storage/FASTQs/K562_{0}_1.fastq'.format(r_enz))"
   ]
  },
  {
   "cell_type": "code",
   "execution_count": 20,
   "metadata": {
    "collapsed": false
   },
   "outputs": [
    {
     "name": "stderr",
     "output_type": "stream",
     "text": [
      "/home/student/.miniconda2/lib/python2.7/site-packages/pytadbit/mapping/full_mapper.py:390: UserWarning: WARNING: only 144 Gb left on tmp_dir: /home/student/tmp\n",
      "\n",
      "  warn('WARNING: only %d Gb left on tmp_dir: %s\\n' % (fspace, temp_dir))\n"
     ]
    },
    {
     "name": "stdout",
     "output_type": "stream",
     "text": [
      "Preparing FASTQ file\n",
      "  - conversion to MAP format\n",
      "Mapping reads in window 1-end...\n",
      "TO GEM /home/student/tmp/K562_HindIII_2_o08hfR\n",
      "/usr/local/bin/gem-mapper -I /media/storage/db/reference_genome/Homo_sapiens/hg38/hg38.gem -q offset-33 -m 0.04 -s 0 --allow-incomplete-strata 0.00 --granularity 10000 --max-decoded-matches 1 --min-decoded-strata 0 --min-insert-size 0 --max-insert-size 0 --min-matched-bases 0.8 --gem-quality-threshold 26 --max-big-indel-length 15 --mismatch-alphabet ACGT -E 0.30 --max-extendable-matches 20 --max-extensions-per-match 1 -e 0.04 -T 2 -i /home/student/tmp/K562_HindIII_2_o08hfR -o /home/student/tmp/K562_HindIII_2_o08hfR_full_1-end\n",
      "Parsing result...\n",
      "   x removing GEM input /home/student/tmp/K562_HindIII_2_o08hfR\n",
      "   x removing map /home/student/tmp/K562_HindIII_2_o08hfR_full_1-end.map\n",
      "  - splitting into restriction enzyme (RE) fragments using ligation sites\n",
      "  - ligation sites are replaced by RE sites to match the reference genome\n",
      "    * enzyme: HindIII, ligation site: AAGCTAGCTT, RE site: AAGCTT\n",
      "Preparing MAP file\n",
      "   x removing pre-GEM input /home/student/tmp/K562_HindIII_2_o08hfR_filt_1-end.map\n",
      "Mapping fragments of remaining reads...\n",
      "TO GEM /home/student/tmp/K562_HindIII_2_7Q7mLt\n",
      "/usr/local/bin/gem-mapper -I /media/storage/db/reference_genome/Homo_sapiens/hg38/hg38.gem -q offset-33 -m 0.04 -s 0 --allow-incomplete-strata 0.00 --granularity 10000 --max-decoded-matches 1 --min-decoded-strata 0 --min-insert-size 0 --max-insert-size 0 --min-matched-bases 0.8 --gem-quality-threshold 26 --max-big-indel-length 15 --mismatch-alphabet ACGT -E 0.30 --max-extendable-matches 20 --max-extensions-per-match 1 -e 0.04 -T 2 -i /home/student/tmp/K562_HindIII_2_7Q7mLt -o /home/student/tmp/K562_HindIII_2_7Q7mLt_frag_1-end\n",
      "Parsing result...\n",
      "   x removing GEM input /home/student/tmp/K562_HindIII_2_7Q7mLt\n",
      "   x removing failed to map /home/student/tmp/K562_HindIII_2_o08hfR_fail.map\n",
      "   x removing tmp mapped /home/student/tmp/K562_HindIII_2_7Q7mLt_frag_1-end.map\n"
     ]
    },
    {
     "data": {
      "text/plain": [
       "['results/HindIII/01_mapping/mapHindIII_r2/K562_HindIII_2_full_1-end.map',\n",
       " 'results/HindIII/01_mapping/mapHindIII_r2/K562_HindIII_2_frag_1-end.map']"
      ]
     },
     "execution_count": 20,
     "metadata": {},
     "output_type": "execute_result"
    }
   ],
   "source": [
    "full_mapping('/media/storage/db/reference_genome/Homo_sapiens/hg38/hg38.gem',\n",
    "            nthreads=2, clean=True, r_enz=r_enz,\n",
    "            frag_map=True,\n",
    "            out_map_dir='results/{0}/01_mapping/map{0}_r2'.format(r_enz),\n",
    "            fastq_path='/media/storage/FASTQs/K562_{0}_2.fastq'.format(r_enz))"
   ]
  },
  {
   "cell_type": "code",
   "execution_count": 21,
   "metadata": {
    "collapsed": false
   },
   "outputs": [
    {
     "ename": "SyntaxError",
     "evalue": "invalid syntax (<ipython-input-21-e4c923b1011b>, line 1)",
     "output_type": "error",
     "traceback": [
      "\u001b[0;36m  File \u001b[0;32m\"<ipython-input-21-e4c923b1011b>\"\u001b[0;36m, line \u001b[0;32m1\u001b[0m\n\u001b[0;31m    head results/HindIII/01_mapping/mapHindIII_r2/K562_HindIII_2_full_1-end.map\u001b[0m\n\u001b[0m               ^\u001b[0m\n\u001b[0;31mSyntaxError\u001b[0m\u001b[0;31m:\u001b[0m invalid syntax\n"
     ]
    }
   ],
   "source": [
    "head results/HindIII/01_mapping/mapHindIII_r2/K562_HindIII_2_full_1-end.map"
   ]
  },
  {
   "cell_type": "code",
   "execution_count": 23,
   "metadata": {
    "collapsed": false
   },
   "outputs": [
    {
     "name": "stdout",
     "output_type": "stream",
     "text": [
      "NS500645:59:HCL32BGXY:1:11101:14163:1054\tCAACCAATTGTCAAACAGAAGAATTTTAAATCTACCTATAAGCTGGAAGCCCCACCCCACTTCAAGTTGTCCCAT\tAAAAAEEE/EEEEEEEEEEEEEEEEEEEEEEEEEEEEAEE6EEEEEAAEE<EE/<EEEEEEEEEEEEEEE<A/<<\t1\tchr2:-:62077857:75\r\n",
      "NS500645:59:HCL32BGXY:1:11101:14193:1055\tCAGGCTGGTCTCGAACTCCTGGGCTCAAGCGATCCACCCACCTCAGCCTCCCAAAGTGCTGGGATTACAGGCGTG\tAAAAAEEEEEEEE<AEEEEEEEEEEEEEEEEEEEEEEEEEEEEEAEEEEEEEEEEEEEEEEEEEEEEE/EAAEEE\t1\tchr16:+:14833322:75\r\n",
      "NS500645:59:HCL32BGXY:1:11101:10953:1055\tGATTCTCAAATTATCTATAACAGATCCATCTTCAGAATCTAAGCACAGAGGGAAGCGATCGGGACATACAAGGGC\tAAAAAEEEEEEEEEEEEEEEEEEAEEEEEEEEEEEEEEEEAEEEEEEEEEEEEEEEEEEEEEEEEAEEEEEEEEE\t1\tchr10:-:2392912:75\r\n",
      "NS500645:59:HCL32BGXY:1:11101:16360:1056\tGTCACAGCCAGTTGGGAAAACTGGCTAGCCATATGCAGAAAACTGAAACTGGACCCCATCCTTACACCTTGCACA\tAAAAAEEEEEEEEEEEEEEEEEEEEEEEEEEEEEEEEE<EEEEEEEE6EEEEAEEEEAEEEEEEEAEEEEEEEEA\t0:1\tchr2:+:7141515:3G71\r\n",
      "NS500645:59:HCL32BGXY:1:11101:21852:1056\tCAGACAGACAAATACTGAAAGAATTCACAACTACCAAGCCAATACTACCAACACTGCTAAAAGGAGCTCTAAATC\tAAAAAEEEEEEEEEEEEEEEEEEEEEEE<EEEEEEE<EEAAEEEEEEEEAEEEEEEEEEEEEEEAEEEEEEEEE<\t1\tchr6:+:23863609:75\r\n",
      "NS500645:59:HCL32BGXY:1:11101:17157:1056\tCCTCATGGGGACCAAGTCTGTGTGCGAAGTAGGTAGCAACTGGTTCCAGCCCATCTACCTCGGAGCCATGTTCTC\tAAAAAEEEEEEEEEEAEEEEEEEEEEEEEEEEEEEEEEEEEEEEEEEEEEAEEEEEAEEEEEEAEEEEEEEEEEA\t0:1\tchr9:-:114790552:21A53\r\n",
      "NS500645:59:HCL32BGXY:1:11101:11342:1057\tCTGCTCCTGTGAGTCAGAGTGTGTCATTTCCTCACCTAAAACACTCCAGTGGCTCCACCTCGGTCTTGTGAAGCT\tAAAAAEEEEEEEEEEEEEEEEEEEEEEEEEEEEEEEEEEEEEEEEEEEEEEEEEEEEEEEEAEEEEEEEEEEEEE\t1\tchr6:-:29924856:75\r\n",
      "NS500645:59:HCL32BGXY:1:11101:15358:1057\tCATGTTTATGTACTCATATGTATATATGTGTATTTGTGTGTATATATACAGACACTCTGATACACATGCACAAAC\tAAAAAEEEEEEEEEEEEEEEEEEEEEEEEEEEEEEEEEEEEEEEEEEEEEEEEEEEEEEEEEEEEEEEEEEEEEE\t1\tchr2:+:58688316:75\r\n",
      "NS500645:59:HCL32BGXY:1:11101:8600:1058\tCTATTCTTTATTGTAAGATATCAGAACAGCAGAGCTCAAAGTGCACACGATTTCCCTTCTTATGTCAGGCACTGG\tAAAAAAEEEEEEEEEEEEEEEEEAEEEEEEEEEEEEEEEAEEEEEEEEEEEEEEA/EEEEEEEEEEEEEAAEEEE\t1\tchr5:-:5504049:75\r\n",
      "NS500645:59:HCL32BGXY:1:11101:23591:1059\tCTTGGCTCATCATCTCAGAGTGTTTGAATATTGAATTTCAAGTAGGAAAGCAGTAGACTGCAACAAGACTAAAAC\t//AAA/EEE//<EEEEEEEEEEEEEEEEE/EEE</<EEAE6</EEEE/EEEEE/EAEE<EEEAEEEE/A/EEEEE\t0:1\tchr18:-:37712209:29C45\r\n"
     ]
    }
   ],
   "source": [
    "! head results/HindIII/01_mapping/mapHindIII_r2/K562_HindIII_2_full_1-end.map"
   ]
  },
  {
   "cell_type": "code",
   "execution_count": 24,
   "metadata": {
    "collapsed": false
   },
   "outputs": [
    {
     "name": "stdout",
     "output_type": "stream",
     "text": [
      "NS500645:59:HCL32BGXY:1:11101:24830:1055~2~\tAAGCTTTTTTTTCCCTTTCTTTCTTTGCCTTTAGGGTTGTAGCAAAAAGGAAGATAA\tHHHHHHEEEEEEEAEEEEEEEEEEEEEEEEEEAEEEEAEEEEE/EEE6EEEEEEEEE\t1\tchr1:+:50841566:57\r\n",
      "NS500645:59:HCL32BGXY:1:11101:6039:1056\tGGCTTCTTCTCTTTAAGGCAACATAGTATAAAGCTT\tAAAAAEEEEEEEEEEEEEEEEEEE/EEAE6HHHHHH\t1\tchr7:+:128976029:36\r\n",
      "NS500645:59:HCL32BGXY:1:11101:6039:1056~2~\tAAGCTTTCGAAGGCTAGCTAGGATAGATTTGAAACCCAGCC\tHHHHHHEEEEEEEEEEEEEEEEEEEEEEEEEEE/EEEAEEE\t0:1\tchr7:-:129557448:22G18\r\n",
      "NS500645:59:HCL32BGXY:1:11101:19311:1056\tACCTACTTCATAAAAAGCCAAGGATGTAATTTTTTCAGTTTAGTGTAAGCTT\t/AAAAEEEEEEEEEEEEEEEEEEEEEEEEEEEEEEEEEEEEEEEEEHHHHHH\t1\tchr19:+:41557056:52\r\n",
      "NS500645:59:HCL32BGXY:1:11101:19311:1056~2~\tAAGCTTAGGGTTCAAGTCTAAACAC\tHHHHHHEEEEEEAEEEEEEEEEEEE\t1\tchr19:+:41066202:25\r\n",
      "NS500645:59:HCL32BGXY:1:11101:17064:1056\tCAACAATCATATATTTCCTGCAAATGGAAAGGCAAATGGTACAGAGTCCCCAATGTACAAGCTT\tAAAAAEEEEEEEEEEEEEEAEEEEEEEEEEEEEEEEEEEEEEEEEEEEEEAEEEEEEAHHHHHH\t0:1\tchr4:+:33593268:40C23\r\n",
      "NS500645:59:HCL32BGXY:1:11101:26187:1057\tCCCACTTACCACTGAAGTTAAAGCTT\tAAAAAEEEA<<AEEEEEEEEHHHHHH\t1\tchr10:+:63502264:26\r\n",
      "NS500645:59:HCL32BGXY:1:11101:26187:1057~2~\tAAGCTTCTAAGTGAAGTCTCAAAGCCACAGAATTAAGAAAGGCTGTTTGTT\tHHHHHHAEA6EEAAEEE<E/<EA/6/A6A</EA<A/A/AA//<</AA<//E\t1\tchr10:-:63481487:51\r\n",
      "NS500645:59:HCL32BGXY:1:11101:8250:1059\tAGCCCGCTCAAGGTCTAAACTCGGCTCGTCCCTGGGCCTTCCACCTACAAGAAGCTT\tAAAAAE666EEEEEEEEEAAAEAEEEA/EEEEEAEEE6EEEE/EEEE6EAEHHHHHH\t0:1\tchr13:+:29695513:3A53\r\n",
      "NS500645:59:HCL32BGXY:1:11101:17211:1059\tAGTCATAGCAACAACAGATACTTAAGCTT\tAAAAAEEEEEEEEEEEEEEEEEEHHHHHH\t1\tchr2:+:25493831:29\r\n"
     ]
    }
   ],
   "source": [
    "! head results/HindIII/01_mapping/mapHindIII_r2/K562_HindIII_2_frag_1-end.map"
   ]
  },
  {
   "cell_type": "code",
   "execution_count": 25,
   "metadata": {
    "collapsed": false
   },
   "outputs": [
    {
     "name": "stdout",
     "output_type": "stream",
     "text": [
      "NS500645:59:HCL32BGXY:1:11101:24830:1055~2~\tAAGCTTTTTTTTCCCTTTCTTTCTTTGCCTTTAGGGTTGTAGCAAAAAGGAAGATAA\tHHHHHHEEEEEEEAEEEEEEEEEEEEEEEEEEAEEEEAEEEEE/EEE6EEEEEEEEE\t1\tchr1:+:50841566:57\r\n",
      "NS500645:59:HCL32BGXY:1:11101:6039:1056\tGGCTTCTTCTCTTTAAGGCAACATAGTATAAAGCTT\tAAAAAEEEEEEEEEEEEEEEEEEE/EEAE6HHHHHH\t1\tchr7:+:128976029:36\r\n",
      "NS500645:59:HCL32BGXY:1:11101:6039:1056~2~\tAAGCTTTCGAAGGCTAGCTAGGATAGATTTGAAACCCAGCC\tHHHHHHEEEEEEEEEEEEEEEEEEEEEEEEEEE/EEEAEEE\t0:1\tchr7:-:129557448:22G18\r\n",
      "NS500645:59:HCL32BGXY:1:11101:19311:1056\tACCTACTTCATAAAAAGCCAAGGATGTAATTTTTTCAGTTTAGTGTAAGCTT\t/AAAAEEEEEEEEEEEEEEEEEEEEEEEEEEEEEEEEEEEEEEEEEHHHHHH\t1\tchr19:+:41557056:52\r\n",
      "NS500645:59:HCL32BGXY:1:11101:19311:1056~2~\tAAGCTTAGGGTTCAAGTCTAAACAC\tHHHHHHEEEEEEAEEEEEEEEEEEE\t1\tchr19:+:41066202:25\r\n",
      "NS500645:59:HCL32BGXY:1:11101:17064:1056\tCAACAATCATATATTTCCTGCAAATGGAAAGGCAAATGGTACAGAGTCCCCAATGTACAAGCTT\tAAAAAEEEEEEEEEEEEEEAEEEEEEEEEEEEEEEEEEEEEEEEEEEEEEAEEEEEEAHHHHHH\t0:1\tchr4:+:33593268:40C23\r\n",
      "NS500645:59:HCL32BGXY:1:11101:26187:1057\tCCCACTTACCACTGAAGTTAAAGCTT\tAAAAAEEEA<<AEEEEEEEEHHHHHH\t1\tchr10:+:63502264:26\r\n",
      "NS500645:59:HCL32BGXY:1:11101:26187:1057~2~\tAAGCTTCTAAGTGAAGTCTCAAAGCCACAGAATTAAGAAAGGCTGTTTGTT\tHHHHHHAEA6EEAAEEE<E/<EA/6/A6A</EA<A/A/AA//<</AA<//E\t1\tchr10:-:63481487:51\r\n",
      "NS500645:59:HCL32BGXY:1:11101:8250:1059\tAGCCCGCTCAAGGTCTAAACTCGGCTCGTCCCTGGGCCTTCCACCTACAAGAAGCTT\tAAAAAE666EEEEEEEEEAAAEAEEEA/EEEEEAEEE6EEEE/EEEE6EAEHHHHHH\t0:1\tchr13:+:29695513:3A53\r\n",
      "NS500645:59:HCL32BGXY:1:11101:17211:1059\tAGTCATAGCAACAACAGATACTTAAGCTT\tAAAAAEEEEEEEEEEEEEEEEEEHHHHHH\t1\tchr2:+:25493831:29\r\n"
     ]
    }
   ],
   "source": [
    "! head results/HindIII/01_mapping/mapHindIII_r2/K562_HindIII_2_frag_1-end.map"
   ]
  },
  {
   "cell_type": "code",
   "execution_count": null,
   "metadata": {
    "collapsed": true
   },
   "outputs": [],
   "source": []
  }
 ],
 "metadata": {
  "kernelspec": {
   "display_name": "Python 2",
   "language": "python",
   "name": "python2"
  },
  "language_info": {
   "codemirror_mode": {
    "name": "ipython",
    "version": 2
   },
   "file_extension": ".py",
   "mimetype": "text/x-python",
   "name": "python",
   "nbconvert_exporter": "python",
   "pygments_lexer": "ipython2",
   "version": "2.7.13"
  }
 },
 "nbformat": 4,
 "nbformat_minor": 2
}
