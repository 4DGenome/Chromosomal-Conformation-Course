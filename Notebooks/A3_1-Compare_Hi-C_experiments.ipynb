{
 "cells": [
  {
   "cell_type": "markdown",
   "metadata": {
    "deletable": true,
    "editable": true
   },
   "source": [
    "# Table of Contents\n",
    "* [Comparison of Hi-C experiments](#Comparison-of-Hi-C-experiments)\n",
    "\t* [Between conditions](#Between-conditions)\n",
    "\t\t* [HindIII](#HindIII)\n",
    "\t\t* [NcoI](#NcoI)\n",
    "\t* [Between replicates with different restriction enzymes](#Between-replicates-with-different-restriction-enzymes)\n",
    "\t\t* [T0](#T0)\n",
    "\t\t* [T60](#T60)\n",
    "* [Merge Hi-C experiments](#Merge-Hi-C-experiments)\n",
    "\t* [Normalizing merged data](#Normalizing-merged-data)\n"
   ]
  },
  {
   "cell_type": "markdown",
   "metadata": {
    "deletable": true,
    "editable": true
   },
   "source": [
    "# Comparison of Hi-C experiments\n",
    "\n",
    "## Some settings"
   ]
  },
  {
   "cell_type": "code",
   "execution_count": 1,
   "metadata": {
    "collapsed": false,
    "deletable": true,
    "editable": true
   },
   "outputs": [],
   "source": [
    "from pytadbit.mapping.analyze import eig_correlate_matrices, correlate_matrices\n",
    "from pytadbit import load_hic_data_from_reads\n",
    "from cPickle import load\n",
    "from matplotlib import pyplot as plt"
   ]
  },
  {
   "cell_type": "code",
   "execution_count": 2,
   "metadata": {
    "collapsed": true,
    "deletable": true,
    "editable": true
   },
   "outputs": [],
   "source": [
    "reso = 1000000\n",
    "base_path = 'results/{0}/03_filtering/valid_reads12_{0}.tsv'\n",
    "bias_ice_path = 'results/{1}/04_normalizing/biases_{0}_{1}.pick'\n",
    "bias_dry_path = 'results/{1}/04_normalizing/biases_dryhic_{0}_{1}.tsv'\n",
    "bads_path = 'results/{1}/04_normalizing/bad_columns_{0}_{1}.pick'"
   ]
  },
  {
   "cell_type": "markdown",
   "metadata": {
    "deletable": true,
    "editable": true
   },
   "source": [
    "Write a little function to load HiCData obeject"
   ]
  },
  {
   "cell_type": "code",
   "execution_count": 3,
   "metadata": {
    "collapsed": true,
    "deletable": true,
    "editable": true
   },
   "outputs": [],
   "source": [
    "def my_load_hic_data(renz, reso, which='ice'):\n",
    "    hic_data = load_hic_data_from_reads(base_path.format(renz), resolution=reso)\n",
    "    if which=='ice':\n",
    "        hic_data.bias = load(open(bias_ice_path.format(reso, renz)))\n",
    "    else:\n",
    "        hic_data.bias = dict([(int(l.split()[0]), float(l.split()[1])) \n",
    "                              for l in open(bias_dry_path.format(reso, renz))])\n",
    "    hic_data.bads = load(open(bads_path.format(reso, renz)))\n",
    "    return hic_data"
   ]
  },
  {
   "cell_type": "code",
   "execution_count": 4,
   "metadata": {
    "collapsed": true,
    "deletable": true,
    "editable": true
   },
   "outputs": [],
   "source": [
    "renz1 = 'HindIII'\n",
    "renz2 = 'MboI'"
   ]
  },
  {
   "cell_type": "markdown",
   "metadata": {
    "deletable": true,
    "editable": true
   },
   "source": [
    "## Load data"
   ]
  },
  {
   "cell_type": "markdown",
   "metadata": {
    "deletable": true,
    "editable": true
   },
   "source": [
    "### ICE normalized"
   ]
  },
  {
   "cell_type": "code",
   "execution_count": 5,
   "metadata": {
    "collapsed": true,
    "deletable": true,
    "editable": true
   },
   "outputs": [],
   "source": [
    "hic_data1_ice = my_load_hic_data(renz1, reso, which='ice')\n",
    "hic_data2_ice = my_load_hic_data(renz2, reso, which='ice')"
   ]
  },
  {
   "cell_type": "markdown",
   "metadata": {
    "deletable": true,
    "editable": true
   },
   "source": [
    "### DRY normalized"
   ]
  },
  {
   "cell_type": "code",
   "execution_count": 6,
   "metadata": {
    "collapsed": false,
    "deletable": true,
    "editable": true
   },
   "outputs": [],
   "source": [
    "hic_data1_dry = my_load_hic_data(renz1, reso, which='dry')\n",
    "hic_data2_dry = my_load_hic_data(renz2, reso, which='dry')"
   ]
  },
  {
   "cell_type": "code",
   "execution_count": null,
   "metadata": {
    "collapsed": true,
    "deletable": true,
    "editable": true
   },
   "outputs": [],
   "source": [
    "%matplotlib inline"
   ]
  },
  {
   "cell_type": "markdown",
   "metadata": {
    "deletable": true,
    "editable": true
   },
   "source": [
    "## Plot correlations\n",
    "\n",
    "### ICE"
   ]
  },
  {
   "cell_type": "code",
   "execution_count": null,
   "metadata": {
    "collapsed": false,
    "deletable": true,
    "editable": true,
    "scrolled": false
   },
   "outputs": [],
   "source": [
    "## this part is to \"tune\" the plot ##\n",
    "plt.figure(figsize=(9, 6))\n",
    "axe = plt.subplot()\n",
    "axe.grid()\n",
    "axe.set_xticks(range(0, 55, 5))\n",
    "axe.set_xticklabels(['%d Mb' % int(i * 0.2) if i else '' for i in range(0, 55, 5)], rotation=-45)\n",
    "#####################################\n",
    "\n",
    "_ = correlate_matrices(hic_data1_ice, hic_data2_ice, max_dist=50, show=False, axe=axe, normalized=True)"
   ]
  },
  {
   "cell_type": "markdown",
   "metadata": {
    "deletable": true,
    "editable": true
   },
   "source": [
    "### DRY"
   ]
  },
  {
   "cell_type": "code",
   "execution_count": null,
   "metadata": {
    "collapsed": false,
    "deletable": true,
    "editable": true,
    "scrolled": false
   },
   "outputs": [],
   "source": [
    "## this part is to \"tune\" the plot ##\n",
    "plt.figure(figsize=(9, 6))\n",
    "axe = plt.subplot()\n",
    "axe.grid()\n",
    "axe.set_xticks(range(0, 55, 5))\n",
    "axe.set_xticklabels(['%d Mb' % int(i * 0.2) if i else '' for i in range(0, 55, 5)], rotation=-45)\n",
    "#####################################\n",
    "\n",
    "_ = correlate_matrices(hic_data1_dry, hic_data2_dry, max_dist=50, show=False, axe=axe, normalized=True)"
   ]
  },
  {
   "cell_type": "markdown",
   "metadata": {
    "collapsed": true,
    "deletable": true,
    "editable": true
   },
   "source": [
    "## Repeat at 1 Mb resolution\n"
   ]
  },
  {
   "cell_type": "code",
   "execution_count": null,
   "metadata": {
    "collapsed": false,
    "deletable": true,
    "editable": true
   },
   "outputs": [],
   "source": [
    "reso = 1000000\n",
    "hic_data1_ice = my_load_hic_data(renz1, reso, which='ice')\n",
    "hic_data2_ice = my_load_hic_data(renz2, reso, which='ice')\n",
    "hic_data1_dry = my_load_hic_data(renz1, reso, which='dry')\n",
    "hic_data2_dry = my_load_hic_data(renz2, reso, which='dry')"
   ]
  },
  {
   "cell_type": "markdown",
   "metadata": {
    "deletable": true,
    "editable": true
   },
   "source": [
    "### ICE"
   ]
  },
  {
   "cell_type": "code",
   "execution_count": null,
   "metadata": {
    "collapsed": false,
    "deletable": true,
    "editable": true
   },
   "outputs": [],
   "source": [
    "## this part is to \"tune\" the plot ##\n",
    "plt.figure(figsize=(9, 6))\n",
    "axe = plt.subplot()\n",
    "axe.grid()\n",
    "axe.set_xticks(range(0, 55, 5))\n",
    "axe.set_xticklabels(['%d Mb' % int(i * 0.2) if i else '' for i in range(0, 55, 5)], rotation=-45)\n",
    "#####################################\n",
    "\n",
    "_ = correlate_matrices(hic_data1_ice, hic_data2_ice, max_dist=50, show=False, axe=axe, normalized=True)"
   ]
  },
  {
   "cell_type": "markdown",
   "metadata": {
    "deletable": true,
    "editable": true
   },
   "source": [
    "### DRY"
   ]
  },
  {
   "cell_type": "code",
   "execution_count": null,
   "metadata": {
    "collapsed": false,
    "deletable": true,
    "editable": true
   },
   "outputs": [],
   "source": [
    "## this part is to \"tune\" the plot ##\n",
    "plt.figure(figsize=(9, 6))\n",
    "axe = plt.subplot()\n",
    "axe.grid()\n",
    "axe.set_xticks(range(0, 55, 5))\n",
    "axe.set_xticklabels(['%d Mb' % int(i * 0.2) if i else '' for i in range(0, 55, 5)], rotation=-45)\n",
    "#####################################\n",
    "\n",
    "_ = correlate_matrices(hic_data1_dry, hic_data2_dry, max_dist=50, show=False, axe=axe, normalized=True)"
   ]
  },
  {
   "cell_type": "markdown",
   "metadata": {
    "deletable": true,
    "editable": true
   },
   "source": [
    "## Compare eigenvectors\n",
    "\n",
    "### ICE"
   ]
  },
  {
   "cell_type": "code",
   "execution_count": null,
   "metadata": {
    "collapsed": false,
    "deletable": true,
    "editable": true
   },
   "outputs": [],
   "source": [
    "corrs = eig_correlate_matrices(hic_data1_ice, hic_data2_ice, show=True, aspect='auto', normalized=True)\n",
    "\n",
    "for cor in corrs:\n",
    "    print ' '.join(['%5.3f' % (c) for c in cor]) + '\\n'"
   ]
  },
  {
   "cell_type": "markdown",
   "metadata": {
    "deletable": true,
    "editable": true
   },
   "source": [
    "### DRY"
   ]
  },
  {
   "cell_type": "code",
   "execution_count": null,
   "metadata": {
    "collapsed": false,
    "deletable": true,
    "editable": true
   },
   "outputs": [],
   "source": [
    "hic_data1_dry.bias = [for b in hic_data1_dry.bias]"
   ]
  },
  {
   "cell_type": "code",
   "execution_count": null,
   "metadata": {
    "collapsed": false,
    "deletable": true,
    "editable": true
   },
   "outputs": [],
   "source": [
    "corrs = eig_correlate_matrices(hic_data1_dry, hic_data2_dry, show=True, aspect='auto', normalized=True)\n",
    "\n",
    "for cor in corrs:\n",
    "    print ' '.join(['%5.3f' % (c) for c in cor]) + '\\n'"
   ]
  },
  {
   "cell_type": "markdown",
   "metadata": {
    "deletable": true,
    "editable": true
   },
   "source": [
    "# Merge Hi-C experiments"
   ]
  },
  {
   "cell_type": "markdown",
   "metadata": {
    "deletable": true,
    "editable": true
   },
   "source": [
    "Once agreed that experiments are similar, they can be merged.\n",
    "\n",
    "Here is a simple way to merge valid pairs. Arguably we may want to merge unfiltered data but the difference would be minimal specially with non-replicates."
   ]
  },
  {
   "cell_type": "code",
   "execution_count": null,
   "metadata": {
    "collapsed": false,
    "deletable": true,
    "editable": true
   },
   "outputs": [],
   "source": [
    "from pytadbit.mapping import merge_2d_beds"
   ]
  },
  {
   "cell_type": "code",
   "execution_count": null,
   "metadata": {
    "collapsed": true,
    "deletable": true,
    "editable": true
   },
   "outputs": [],
   "source": [
    "! mkdir -p results/fragment/both_T0/\n",
    "! mkdir -p results/fragment/both_T60/\n",
    "! mkdir -p results/fragment/both_T0/03_filtering/\n",
    "! mkdir -p results/fragment/both_T60/03_filtering/"
   ]
  },
  {
   "cell_type": "code",
   "execution_count": null,
   "metadata": {
    "collapsed": false,
    "deletable": true,
    "editable": true
   },
   "outputs": [],
   "source": [
    "renz1 = 'HindIII'\n",
    "renz2 = 'NcoI'\n",
    "rep   = 'T60'\n",
    "\n",
    "hic_data1 = 'results/fragment/{0}_{1}/03_filtering/valid_reads12_{0}_{1}.tsv'.format(renz1, rep)\n",
    "hic_data2 = 'results/fragment/{0}_{1}/03_filtering/valid_reads12_{0}_{1}.tsv'.format(renz2, rep)\n",
    "hic_data  = 'results/fragment/both_{0}/03_filtering/valid_reads12_{0}.tsv'.format(rep)\n",
    "\n",
    "merge_2d_beds(hic_data1, hic_data2, hic_data)"
   ]
  },
  {
   "cell_type": "code",
   "execution_count": null,
   "metadata": {
    "collapsed": false,
    "deletable": true,
    "editable": true
   },
   "outputs": [],
   "source": [
    "renz1 = 'HindIII'\n",
    "renz2 = 'NcoI'\n",
    "rep   = 'T0'\n",
    "\n",
    "hic_data1 = 'results/fragment/{0}_{1}/03_filtering/valid_reads12_{0}_{1}.tsv'.format(renz1, rep)\n",
    "hic_data2 = 'results/fragment/{0}_{1}/03_filtering/valid_reads12_{0}_{1}.tsv'.format(renz2, rep)\n",
    "hic_data  = 'results/fragment/both_{0}/03_filtering/valid_reads12_{0}.tsv'.format(rep)\n",
    "\n",
    "merge_2d_beds(hic_data1, hic_data2, hic_data)"
   ]
  },
  {
   "cell_type": "markdown",
   "metadata": {
    "deletable": true,
    "editable": true
   },
   "source": [
    "## Normalizing merged data"
   ]
  },
  {
   "cell_type": "code",
   "execution_count": null,
   "metadata": {
    "collapsed": true,
    "deletable": true,
    "editable": true
   },
   "outputs": [],
   "source": [
    "from pytadbit.mapping.analyze import hic_map\n",
    "from cPickle import dump"
   ]
  },
  {
   "cell_type": "code",
   "execution_count": null,
   "metadata": {
    "collapsed": true,
    "deletable": true,
    "editable": true
   },
   "outputs": [],
   "source": [
    "! mkdir -p results/fragment/both_T0/04_normalizing\n",
    "! mkdir -p results/fragment/both_T60/04_normalizing"
   ]
  },
  {
   "cell_type": "markdown",
   "metadata": {
    "deletable": true,
    "editable": true
   },
   "source": [
    "All in one loop to:\n",
    " - filter\n",
    " - normalize\n",
    " - generate intra-chromosome and genomic matrices\n",
    "\n",
    "all at diferent resolutions, and for both time points"
   ]
  },
  {
   "cell_type": "code",
   "execution_count": null,
   "metadata": {
    "collapsed": false,
    "deletable": true,
    "editable": true
   },
   "outputs": [],
   "source": [
    "for rep in ['T0', 'T60']:\n",
    "    print ' -', rep\n",
    "    for reso in [1000000, 300000, 100000]:\n",
    "        print '   *', reso\n",
    "        # load hic_data\n",
    "        hic_data = load_hic_data_from_reads(\n",
    "            'results/fragment/both_{0}/03_filtering/valid_reads12_{0}.tsv'.format(rep),\n",
    "            reso)\n",
    "        # filter columns\n",
    "        hic_data.filter_columns(draw_hist=False, min_count=10, by_mean=True)\n",
    "        # normalize\n",
    "        hic_data.normalize_hic(iterations=0)\n",
    "        # save biases to reconstruct normalization\n",
    "        out = open('results/fragment/both_{1}/04_normalizing/biases_{0}_{1}.pick'.format(reso, rep), 'w')\n",
    "        dump(hic_data.bias, out)\n",
    "        out.close()\n",
    "        # save filtered out columns\n",
    "        out = open('results/fragment/both_{1}/04_normalizing/bad_columns_{0}_{1}.pick'.format(reso, rep), 'w')\n",
    "        dump(hic_data.bads, out)\n",
    "        out.close()\n",
    "        # save data as raw matrix per chromsome\n",
    "        hic_map(hic_data, by_chrom='intra', normalized=False,\n",
    "                savedata='results/fragment/both_{1}/04_normalizing/{0}_raw'.format(reso, rep))\n",
    "        # save data as normalized matrix per chromosome\n",
    "        hic_map(hic_data, by_chrom='intra', normalized=True,\n",
    "                savedata='results/fragment/both_{1}/04_normalizing/{0}_norm'.format(reso, rep))\n",
    "        # if the resolution is low save the full genomic matrix\n",
    "        if reso > 500000:\n",
    "            hic_map(hic_data, by_chrom=False, normalized=False, \n",
    "                    savefig ='results/fragment/both_{1}/04_normalizing/{0}_raw.png'.format(reso, rep),\n",
    "                    savedata='results/fragment/both_{1}/04_normalizing/{0}_raw.mat'.format(reso, rep))\n",
    "\n",
    "            hic_map(hic_data, by_chrom=False, normalized=True,\n",
    "                    savefig ='results/fragment/both_{1}/04_normalizing/{0}_norm.png'.format(reso, rep) ,\n",
    "                    savedata='results/fragment/both_{1}/04_normalizing/{0}_norm.mat'.format(reso, rep))"
   ]
  },
  {
   "cell_type": "code",
   "execution_count": null,
   "metadata": {
    "collapsed": true,
    "deletable": true,
    "editable": true
   },
   "outputs": [],
   "source": []
  }
 ],
 "metadata": {
  "kernelspec": {
   "display_name": "Python 2",
   "language": "python",
   "name": "python2"
  },
  "language_info": {
   "codemirror_mode": {
    "name": "ipython",
    "version": 2
   },
   "file_extension": ".py",
   "mimetype": "text/x-python",
   "name": "python",
   "nbconvert_exporter": "python",
   "pygments_lexer": "ipython2",
   "version": "2.7.13"
  }
 },
 "nbformat": 4,
 "nbformat_minor": 0
}
