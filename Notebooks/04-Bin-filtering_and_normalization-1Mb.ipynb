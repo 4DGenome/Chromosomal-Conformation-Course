{
 "cells": [
  {
   "cell_type": "markdown",
   "metadata": {
    "deletable": true,
    "editable": true
   },
   "source": [
    "# Table of Contents\n",
    "* [The HiC_data object](#The-HiC_data-object)\n",
    "* [Filter columns with too few interaction count](#Filter-columns-with-too-few-interaction-count)\n",
    "* [Normalization](#Normalization)\n",
    "\t* [Other normalizations](#Other-normalizations)\n",
    "* [Save raw and normalized matrices](#Save-raw-and-normalized-matrices)\n",
    "\t* [Save biases and bin filtering](#Save-biases-and-bin-filtering)\n",
    "\t* [Save normalized chromosome matrices](#Save-normalized-chromosome-matrices)\n"
   ]
  },
  {
   "cell_type": "markdown",
   "metadata": {
    "deletable": true,
    "editable": true
   },
   "source": [
    "# The HiC_data object"
   ]
  },
  {
   "cell_type": "code",
   "execution_count": 1,
   "metadata": {
    "collapsed": false,
    "deletable": true,
    "editable": true
   },
   "outputs": [],
   "source": [
    "from pytadbit.parsers.hic_parser import load_hic_data_from_reads"
   ]
  },
  {
   "cell_type": "code",
   "execution_count": 2,
   "metadata": {
    "collapsed": true,
    "deletable": true,
    "editable": true
   },
   "outputs": [],
   "source": [
    "r_enz_1 = 'HindIII'\n",
    "r_enz_2 = 'MboI'\n",
    "reso = 1000000"
   ]
  },
  {
   "cell_type": "code",
   "execution_count": null,
   "metadata": {
    "collapsed": false,
    "deletable": true,
    "editable": true
   },
   "outputs": [],
   "source": [
    "hic_data_1 = load_hic_data_from_reads(\n",
    "    'results/{0}/03_filtering/valid_reads12_{0}.tsv'.format(r_enz_1),\n",
    "    reso)\n",
    "hic_data_2 = load_hic_data_from_reads(\n",
    "    'results/{0}/03_filtering/valid_reads12_{0}.tsv'.format(r_enz_2),\n",
    "    reso)"
   ]
  },
  {
   "cell_type": "markdown",
   "metadata": {
    "deletable": true,
    "editable": true
   },
   "source": [
    "# Filter columns with too few interaction count"
   ]
  },
  {
   "cell_type": "markdown",
   "metadata": {
    "deletable": true,
    "editable": true
   },
   "source": [
    "For this, very sparse, example dataset we are going to ask for very few interactions per bin.\n",
    "\n",
    "This can be done either by setting `min_perc` asking for each bin to contain a minimum percentage of cells with interaction data. Or but setting `min_count` asking that the number of cells with interaction data of each bin is above the defined cutoff."
   ]
  },
  {
   "cell_type": "code",
   "execution_count": null,
   "metadata": {
    "collapsed": false,
    "deletable": true,
    "editable": true,
    "scrolled": false
   },
   "outputs": [],
   "source": [
    "hic_data_1.filter_columns(draw_hist=True, min_count=10, by_mean=True)\n",
    "hic_data_2.filter_columns(draw_hist=True, min_count=10, by_mean=True)"
   ]
  },
  {
   "cell_type": "code",
   "execution_count": null,
   "metadata": {
    "collapsed": false,
    "deletable": true,
    "editable": true
   },
   "outputs": [],
   "source": [
    "print len(hic_data_1)\n",
    "print len(hic_data_1.bads)\n",
    "print len(hic_data_2)\n",
    "print len(hic_data_2.bads)"
   ]
  },
  {
   "cell_type": "markdown",
   "metadata": {
    "deletable": true,
    "editable": true
   },
   "source": [
    "# Normalization"
   ]
  },
  {
   "cell_type": "markdown",
   "metadata": {
    "deletable": true,
    "editable": true
   },
   "source": [
    "As normalization we use either the ICE normalization <a name=\"ref-1\"/>[(Imakaev et al., 2012)](#cite-Imakaev2012a) with a \"full\" normalization until the sum of all columns of the matrix are equal, or something more similar to the _vanilla_ normalization used in <a name=\"ref-2\"/>[(Rao et al., 2014)](#cite-Rao2014) which is exactly like running the ICE normalization without iterations.\n",
    "\n",
    "_Note: if columns with a lot of zeroes are present the ICE normalization will last very long to converge, and these low-coverage columns will present, at the end of the normalization, few cells with very high values of interaction_"
   ]
  },
  {
   "cell_type": "code",
   "execution_count": null,
   "metadata": {
    "collapsed": false,
    "deletable": true,
    "editable": true
   },
   "outputs": [],
   "source": [
    "hic_data_1.normalize_hic(iterations=10, max_dev=0.1)\n",
    "hic_data_2.normalize_hic(iterations=10, max_dev=0.1)"
   ]
  },
  {
   "cell_type": "markdown",
   "metadata": {
    "deletable": true,
    "editable": true
   },
   "source": [
    "At 100 kb itmakes no sense to view the full matrix (your matrix will have more cells than your screen have pixels).\n",
    "\n",
    "Try plotting a region of the genome only, with the `focus` parameter."
   ]
  },
  {
   "cell_type": "code",
   "execution_count": null,
   "metadata": {
    "collapsed": false,
    "deletable": true,
    "editable": true
   },
   "outputs": [],
   "source": [
    "from pytadbit.mapping.analyze import hic_map\n",
    "\n",
    "hic_map(hic_data_1, normalized=True, focus='chr18', show=True)\n",
    "hic_map(hic_data_2, normalized=True, focus='chr18', show=True)"
   ]
  },
  {
   "cell_type": "markdown",
   "metadata": {
    "deletable": true,
    "editable": true
   },
   "source": [
    "## Other normalizations"
   ]
  },
  {
   "cell_type": "markdown",
   "metadata": {
    "deletable": true,
    "editable": true
   },
   "source": [
    "ICE normalization is widely used however other, more convaluted, normalizations <a name=\"ref-1\"/>[(Hu et al., 2012)](#cite-hu2012hicnorm) <a name=\"ref-2\"/>[(Yaffe and Tanay, 2011)](#cite-Yaffe2011) can be used outside TADbit and then added as normalized matrices."
   ]
  },
  {
   "cell_type": "markdown",
   "metadata": {
    "deletable": true,
    "editable": true
   },
   "source": [
    "# Save raw and normalized matrices"
   ]
  },
  {
   "cell_type": "markdown",
   "metadata": {
    "deletable": true,
    "editable": true
   },
   "source": [
    "## Save biases and bin filtering"
   ]
  },
  {
   "cell_type": "code",
   "execution_count": null,
   "metadata": {
    "collapsed": true,
    "deletable": true,
    "editable": true
   },
   "outputs": [],
   "source": [
    "from cPickle import dump"
   ]
  },
  {
   "cell_type": "code",
   "execution_count": null,
   "metadata": {
    "collapsed": true,
    "deletable": true,
    "editable": true
   },
   "outputs": [],
   "source": [
    "! mkdir -p results/$r_enz_1/04_normalizing\n",
    "! mkdir -p results/$r_enz_2/04_normalizing"
   ]
  },
  {
   "cell_type": "markdown",
   "metadata": {
    "deletable": true,
    "editable": true
   },
   "source": [
    "Save biases to separate file."
   ]
  },
  {
   "cell_type": "code",
   "execution_count": null,
   "metadata": {
    "collapsed": false,
    "deletable": true,
    "editable": true
   },
   "outputs": [],
   "source": [
    "out = open('results/{1}/04_normalizing/biases_{0}_{1}.pick'.format(reso, r_enz_1), 'w')\n",
    "dump(hic_data_1.bias, out)\n",
    "out.close()\n",
    "out = open('results/{1}/04_normalizing/biases_{0}_{1}.pick'.format(reso, r_enz_2), 'w')\n",
    "dump(hic_data_2.bias, out)\n",
    "out.close()"
   ]
  },
  {
   "cell_type": "markdown",
   "metadata": {
    "deletable": true,
    "editable": true
   },
   "source": [
    "Save \"bad\" columns to an other file"
   ]
  },
  {
   "cell_type": "code",
   "execution_count": null,
   "metadata": {
    "collapsed": true,
    "deletable": true,
    "editable": true
   },
   "outputs": [],
   "source": [
    "out = open('results/{1}/04_normalizing/bad_columns_{0}_{1}.pick'.format(reso, r_enz_1), 'w')\n",
    "dump(hic_data_1.bads, out)\n",
    "out.close()\n",
    "out = open('results/{1}/04_normalizing/bad_columns_{0}_{1}.pick'.format(reso, r_enz_2), 'w')\n",
    "dump(hic_data_2.bads, out)\n",
    "out.close()"
   ]
  },
  {
   "cell_type": "markdown",
   "metadata": {
    "deletable": true,
    "editable": true
   },
   "source": [
    "## Dryhic normalization\n",
    "\n",
    "We can launch the external script to use dryhic normalization"
   ]
  },
  {
   "cell_type": "code",
   "execution_count": null,
   "metadata": {
    "collapsed": false,
    "deletable": true,
    "editable": true
   },
   "outputs": [],
   "source": [
    "! dryhic3.r results/HindIII/03_filtering/valid_reads12_HindIII.tsv \\\n",
    "       results/HindIII/04_normalizing/bad_columns_1000000_HindIII.pick \\\n",
    "       HindIII hg38 1000000 results/HindIII/04_normalizing/biases_dryhic_1000000_HindIII.pick"
   ]
  },
  {
   "cell_type": "code",
   "execution_count": null,
   "metadata": {
    "collapsed": false,
    "deletable": true,
    "editable": true
   },
   "outputs": [],
   "source": [
    "! dryhic3.r results/MboI/03_filtering/valid_reads12_MboI.tsv \\\n",
    "       results/MboI/04_normalizing/bad_columns_1000000_MboI.pick \\\n",
    "       MboI hg38 1000000 results/MboI/04_normalizing/biases_dryhic_1000000_MboI.pick"
   ]
  },
  {
   "cell_type": "code",
   "execution_count": null,
   "metadata": {
    "collapsed": false,
    "deletable": true,
    "editable": true
   },
   "outputs": [],
   "source": [
    "bias_dry_path = 'results/{1}/04_normalizing/biases_dryhic_{0}_{1}.tsv'\n",
    "\n",
    "hic_data_1.bias = dict([(int(l.split()[0]), float(l.split()[1])) for l in open(bias_dry_path.format(reso, 'HindIII'))])\n",
    "hic_data_2.bias = dict([(int(l.split()[0]), float(l.split()[1])) for l in open(bias_dry_path.format(reso, 'MboI'))])"
   ]
  },
  {
   "cell_type": "code",
   "execution_count": null,
   "metadata": {
    "collapsed": false,
    "deletable": true,
    "editable": true
   },
   "outputs": [],
   "source": [
    "hic_map(hic_data_1, normalized=True, focus='chr18', show=True)\n",
    "hic_map(hic_data_2, normalized=True, focus='chr18', show=True)"
   ]
  },
  {
   "cell_type": "markdown",
   "metadata": {
    "deletable": true,
    "editable": true
   },
   "source": [
    "## Save normalized chromosome/genome matrices\n",
    "\n",
    "This time we do not need to save appart the normalization biases and the list of columns with poor signal."
   ]
  },
  {
   "cell_type": "code",
   "execution_count": null,
   "metadata": {
    "collapsed": true,
    "deletable": true,
    "editable": true
   },
   "outputs": [],
   "source": [
    "hic_map(hic_data_1, by_chrom='intra', normalized=False,\n",
    "       savedata='results/{1}/04_normalizing/{0}_raw'.format(reso, r_enz_1))\n",
    "hic_map(hic_data_2, by_chrom='intra', normalized=False,\n",
    "       savedata='results/{1}/04_normalizing/{0}_raw'.format(reso, r_enz_2))"
   ]
  },
  {
   "cell_type": "code",
   "execution_count": null,
   "metadata": {
    "collapsed": true,
    "deletable": true,
    "editable": true
   },
   "outputs": [],
   "source": [
    "hic_map(hic_data_1, by_chrom='intra', normalized=True,\n",
    "       savedata='results/{1}/04_normalizing/{0}_norm'.format(reso, r_enz_1))\n",
    "hic_map(hic_data_2, by_chrom='intra', normalized=True,\n",
    "       savedata='results/{1}/04_normalizing/{0}_norm'.format(reso, r_enz_2))"
   ]
  },
  {
   "cell_type": "markdown",
   "metadata": {
    "deletable": true,
    "editable": true
   },
   "source": [
    "If the resolution is not to low, we could also save genomic matrices:"
   ]
  },
  {
   "cell_type": "code",
   "execution_count": null,
   "metadata": {
    "collapsed": false,
    "deletable": true,
    "editable": true
   },
   "outputs": [],
   "source": [
    "if reso >= 300000:\n",
    "    hic_map(hic_data_1, by_chrom=False, normalized=False,\n",
    "            savedata='results/{1}/04_normalizing/{0}_raw.mat'.format(reso, r_enz_1))\n",
    "\n",
    "    hic_map(hic_data_1, by_chrom=False, normalized=True,\n",
    "            savedata='results/{1}/04_normalizing/{0}_norm.mat'.format(reso, r_enz_1))\n",
    "    hic_map(hic_data_2, by_chrom=False, normalized=False,\n",
    "            savedata='results/{1}/04_normalizing/{0}_raw.mat'.format(reso, r_enz_2))\n",
    "\n",
    "    hic_map(hic_data_2, by_chrom=False, normalized=True,\n",
    "            savedata='results/{1}/04_normalizing/{0}_norm.mat'.format(reso, r_enz_2))    "
   ]
  },
  {
   "cell_type": "markdown",
   "metadata": {
    "deletable": true,
    "editable": true
   },
   "source": [
    "<!--bibtex\n",
    "@article{hu2012hicnorm,\n",
    "  title={HiCNorm: removing biases in Hi-C data via Poisson regression},\n",
    "  author={Hu, Ming and Deng, Ke and Selvaraj, Siddarth and Qin, Zhaohui and Ren, Bing and Liu, Jun S},\n",
    "  journal={Bioinformatics},\n",
    "  volume={28},\n",
    "  number={23},\n",
    "  pages={3131--3133},\n",
    "  year={2012},\n",
    "  publisher={Oxford Univ Press}\n",
    "}\n",
    "@article{Yaffe2011,\n",
    "abstract = {Hi-C experiments measure the probability of physical proximity between pairs of chromosomal loci on a genomic scale. We report on several systematic biases that substantially affect the Hi-C experimental procedure, including the distance between restriction sites, the GC content of trimmed ligation junctions and sequence uniqueness. To address these biases, we introduce an integrated probabilistic background model and develop algorithms to estimate its parameters and renormalize Hi-C data. Analysis of corrected human lymphoblast contact maps provides genome-wide evidence for interchromosomal aggregation of active chromatin marks, including DNase-hypersensitive sites and transcriptionally active foci. We observe extensive long-range (up to 400 kb) cis interactions at active promoters and derive asymmetric contact profiles next to transcription start sites and CTCF binding sites. Clusters of interacting chromosomal domains suggest physical separation of centromere-proximal and centromere-distal regions. These results provide a computational basis for the inference of chromosomal architectures from Hi-C experiments.},\n",
    "author = {Yaffe, Eitan and Tanay, Amos},\n",
    "doi = {10.1038/ng.947},\n",
    "file = {:home/fransua/.local/share/data/Mendeley Ltd./Mendeley Desktop/Downloaded/Yaffe, Tanay - 2011 - Probabilistic modeling of Hi-C contact maps eliminates systematic biases to characterize global chromosomal archit.pdf:pdf},\n",
    "issn = {1546-1718},\n",
    "journal = {Nature genetics},\n",
    "keywords = {Binding Sites,Chromosomes,Cluster Analysis,Epigenesis,Genetic,Human,Humans,Lymphocytes,Lymphocytes: ultrastructure,Models,Probability},\n",
    "mendeley-groups = {Research articles},\n",
    "month = {nov},\n",
    "number = {11},\n",
    "pages = {1059--65},\n",
    "pmid = {22001755},\n",
    "title = {{Probabilistic modeling of Hi-C contact maps eliminates systematic biases to characterize global chromosomal architecture.}},\n",
    "url = {http://www.ncbi.nlm.nih.gov/pubmed/22001755},\n",
    "volume = {43},\n",
    "year = {2011}\n",
    "}\n",
    "@article{Imakaev2012a,\n",
    "abstract = {Extracting biologically meaningful information from chromosomal interactions obtained with genome-wide chromosome conformation capture (3C) analyses requires the elimination of systematic biases. We present a computational pipeline that integrates a strategy to map sequencing reads with a data-driven method for iterative correction of biases, yielding genome-wide maps of relative contact probabilities. We validate this ICE (iterative correction and eigenvector decomposition) technique on published data obtained by the high-throughput 3C method Hi-C, and we demonstrate that eigenvector decomposition of the obtained maps provides insights into local chromatin states, global patterns of chromosomal interactions, and the conserved organization of human and mouse chromosomes.},\n",
    "author = {Imakaev, Maxim V and Fudenberg, Geoffrey and McCord, Rachel Patton and Naumova, Natalia and Goloborodko, Anton and Lajoie, Bryan R and Dekker, Job and Mirny, Leonid A},\n",
    "doi = {10.1038/nmeth.2148},\n",
    "file = {:home/fransua/.local/share/data/Mendeley Ltd./Mendeley Desktop/Downloaded/Imakaev et al. - 2012 - Iterative correction of Hi-C data reveals hallmarks of chromosome organization.pdf:pdf},\n",
    "issn = {1548-7105},\n",
    "journal = {Nature methods},\n",
    "keywords = {Hi-C},\n",
    "mendeley-groups = {stats/Hi-C,Research articles},\n",
    "mendeley-tags = {Hi-C},\n",
    "month = {oct},\n",
    "number = {10},\n",
    "pages = {999--1003},\n",
    "pmid = {22941365},\n",
    "title = {{Iterative correction of Hi-C data reveals hallmarks of chromosome organization.}},\n",
    "url = {http://www.ncbi.nlm.nih.gov/pubmed/22941365},\n",
    "volume = {9},\n",
    "year = {2012}\n",
    "}\n",
    "@article{Rao2014,\n",
    "author = {Rao, Suhas S P and Huntley, Miriam H and Durand, Neva C and Stamenova, Elena K and Bochkov, Ivan D. and {James T. Robinson} and Sanborn, Adrian L. and Machol, Ido and Omer, Arina D. and Lander, Eric S. and Lieberman-Aiden, Erez},\n",
    "doi = {10.1016/j.cell.2014.11.021},\n",
    "file = {:home/fransua/.local/share/data/Mendeley Ltd./Mendeley Desktop/Downloaded/Rao et al. - 2014 - A 3D Map of the Human Genome at Kilobase Resolution Reveals Principles of Chromatin Looping.pdf:pdf},\n",
    "issn = {0092-8674},\n",
    "journal = {Cell},\n",
    "keywords = {Hi-C},\n",
    "mendeley-groups = {Research articles,projects/GEVO/CTCF},\n",
    "mendeley-tags = {Hi-C},\n",
    "number = {7},\n",
    "pages = {1665--1680},\n",
    "pmid = {25497547},\n",
    "publisher = {Elsevier Inc.},\n",
    "title = {{A 3D Map of the Human Genome at Kilobase Resolution Reveals Principles of Chromatin Looping}},\n",
    "url = {http://dx.doi.org/10.1016/j.cell.2014.11.021},\n",
    "volume = {159},\n",
    "year = {2014}\n",
    "}\n",
    "\n",
    "-->"
   ]
  },
  {
   "cell_type": "markdown",
   "metadata": {
    "deletable": true,
    "editable": true
   },
   "source": [
    "# References\n",
    "\n",
    "<a name=\"cite-Imakaev2012a\"/><sup>[^](#ref-1) </sup>Imakaev, Maxim V and Fudenberg, Geoffrey and McCord, Rachel Patton and Naumova, Natalia and Goloborodko, Anton and Lajoie, Bryan R and Dekker, Job and Mirny, Leonid A. 2012. _Iterative correction of Hi-C data reveals hallmarks of chromosome organization._. [URL](http://www.ncbi.nlm.nih.gov/pubmed/22941365)\n",
    "\n",
    "<a name=\"cite-Rao2014\"/><sup>[^](#ref-2) </sup>Rao, Suhas S P and Huntley, Miriam H and Durand, Neva C and Stamenova, Elena K and Bochkov, Ivan D. and James T. Robinson and Sanborn, Adrian L. and Machol, Ido and Omer, Arina D. and Lander, Eric S. and Lieberman-Aiden, Erez. 2014. _A 3D Map of the Human Genome at Kilobase Resolution Reveals Principles of Chromatin Looping_. [URL](http://dx.doi.org/10.1016/j.cell.2014.11.021)\n",
    "\n",
    "<a name=\"cite-hu2012hicnorm\"/><sup>[^](#ref-3) </sup>Hu, Ming and Deng, Ke and Selvaraj, Siddarth and Qin, Zhaohui and Ren, Bing and Liu, Jun S. 2012. _HiCNorm: removing biases in Hi-C data via Poisson regression_.\n",
    "\n",
    "<a name=\"cite-Yaffe2011\"/><sup>[^](#ref-4) </sup>Yaffe, Eitan and Tanay, Amos. 2011. _Probabilistic modeling of Hi-C contact maps eliminates systematic biases to characterize global chromosomal architecture._. [URL](http://www.ncbi.nlm.nih.gov/pubmed/22001755)\n",
    "\n"
   ]
  }
 ],
 "metadata": {
  "kernelspec": {
   "display_name": "Python 2",
   "language": "python",
   "name": "python2"
  },
  "language_info": {
   "codemirror_mode": {
    "name": "ipython",
    "version": 2
   },
   "file_extension": ".py",
   "mimetype": "text/x-python",
   "name": "python",
   "nbconvert_exporter": "python",
   "pygments_lexer": "ipython2",
   "version": "2.7.13"
  }
 },
 "nbformat": 4,
 "nbformat_minor": 0
}
