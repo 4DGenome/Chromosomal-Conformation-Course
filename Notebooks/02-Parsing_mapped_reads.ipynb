{
 "cells": [
  {
   "cell_type": "markdown",
   "metadata": {
    "deletable": true,
    "editable": true
   },
   "source": [
    "# Table of Contents\n",
    "* [Load mapped reads and generate a matrix](#Load-mapped-reads-and-generate-a-matrix)\n",
    "\t* [Map restriction fragments](#Map-restriction-fragments)\n",
    "\t* [Extract uniquely mapped reads](#Extract-uniquely-mapped-reads)\n",
    "\t\t* [Iterative mapping](#Iterative-mapping)\n",
    "\t\t* [Fragment-based mapping](#Fragment-based-mapping)\n",
    "\t* [Keep only pair of reads where both are mapped uniquely](#Keep-only-pair-of-reads-where-both-are-mapped-uniquely)\n",
    "* [Quality check of the Hi-C experiment](#Quality-check-of-the-Hi-C-experiment)\n",
    "\t* [Number of interactions versus genomic distance](#Number-of-interactions-versus-genomic-distance)\n",
    "\t* [Genomic coverage](#Genomic-coverage)\n",
    "\t* [First Hi-C map](#First-Hi-C-map)\n",
    "\t* [Insert size](#Insert-size)\n"
   ]
  },
  {
   "cell_type": "markdown",
   "metadata": {
    "deletable": true,
    "editable": true
   },
   "source": [
    "# Load mapped reads and generate a matrix"
   ]
  },
  {
   "cell_type": "markdown",
   "metadata": {
    "deletable": true,
    "editable": true
   },
   "source": [
    "We read now each read in the map files. We want reads that are uniquely mapped and from each of them we store:\n",
    "  - the strand\n",
    "  - the position, or cut-site (real position + read length, in case it's reverse strand)\n",
    "  - the chromosome\n",
    "  - the sequence\n",
    "  - the **restriction enzyme fragment** on which it stands\n",
    "  \n",
    "This information will be used to filter the reads and, finally, to construct the interaction matrices."
   ]
  },
  {
   "cell_type": "markdown",
   "metadata": {
    "deletable": true,
    "editable": true
   },
   "source": [
    "## Map restriction fragments"
   ]
  },
  {
   "cell_type": "markdown",
   "metadata": {
    "deletable": true,
    "editable": true
   },
   "source": [
    "First we need to load the _Homo sapiens_ genomic sequence:"
   ]
  },
  {
   "cell_type": "code",
   "execution_count": 8,
   "metadata": {
    "collapsed": false,
    "deletable": true,
    "editable": true
   },
   "outputs": [],
   "source": [
    "from pytadbit.parsers.genome_parser import parse_fasta\n",
    "from matplotlib import pyplot as plt\n",
    "import numpy as np"
   ]
  },
  {
   "cell_type": "code",
   "execution_count": 2,
   "metadata": {
    "collapsed": false,
    "deletable": true,
    "editable": true
   },
   "outputs": [
    {
     "name": "stdout",
     "output_type": "stream",
     "text": [
      "Parsing chr1\n",
      "Parsing chr2\n",
      "Parsing chr3\n",
      "Parsing chr4\n",
      "Parsing chr5\n",
      "Parsing chr6\n",
      "Parsing chr7\n",
      "Parsing chr8\n",
      "Parsing chr9\n",
      "Parsing chr10\n",
      "Parsing chr11\n",
      "Parsing chr12\n",
      "Parsing chr13\n",
      "Parsing chr14\n",
      "Parsing chr15\n",
      "Parsing chr16\n",
      "Parsing chr17\n",
      "Parsing chr18\n",
      "Parsing chr19\n",
      "Parsing chr20\n",
      "Parsing chr21\n",
      "Parsing chr22\n",
      "Parsing chrX\n",
      "Parsing chrY\n"
     ]
    }
   ],
   "source": [
    "chr_names = ['chr' + str(c) for c in range(1, 23) + ['X', 'Y']]\n",
    "\n",
    "genome_seq = parse_fasta('/media/storage/db/reference_genome/Homo_sapiens/hg38/hg38.fa', \n",
    "                         chr_filter=chr_names)"
   ]
  },
  {
   "cell_type": "markdown",
   "metadata": {
    "deletable": true,
    "editable": true
   },
   "source": [
    "We have loaded the full human genome:"
   ]
  },
  {
   "cell_type": "code",
   "execution_count": 3,
   "metadata": {
    "collapsed": false,
    "deletable": true,
    "editable": true
   },
   "outputs": [],
   "source": [
    "plt.bar(range(len(genome_seq)), [len(genome_seq[c]) for c in genome_seq], \n",
    "        color='k', alpha=0.7)\n",
    "_ = plt.xticks([v + 0.5 for v in range(len(genome_seq))], genome_seq.keys(), rotation=90)\n",
    "plt.grid()"
   ]
  },
  {
   "cell_type": "markdown",
   "metadata": {
    "collapsed": true,
    "deletable": true,
    "editable": true
   },
   "source": [
    "Then, we search for restriction enzyme sites in this sequence."
   ]
  },
  {
   "cell_type": "code",
   "execution_count": 4,
   "metadata": {
    "collapsed": false,
    "deletable": true,
    "editable": true
   },
   "outputs": [
    {
     "name": "stdout",
     "output_type": "stream",
     "text": [
      "Found 860365 RE sites\n",
      "Found 7199434 RE sites\n"
     ]
    }
   ],
   "source": [
    "from pytadbit.mapping.restriction_enzymes import map_re_sites\n",
    "\n",
    "frags_HindIII = map_re_sites('HindIII', genome_seq, verbose=True)\n",
    "frags_MboI    = map_re_sites('MboI'   , genome_seq, verbose=True)"
   ]
  },
  {
   "cell_type": "code",
   "execution_count": 5,
   "metadata": {
    "collapsed": false,
    "deletable": true,
    "editable": true
   },
   "outputs": [],
   "source": [
    "c0 = frags_HindIII.keys()[0]\n",
    "v0 = 0\n",
    "dists_HindIII = []\n",
    "for c1, v1 in [(c, v) for c in frags_HindIII for p in frags_HindIII[c] \n",
    "               for v in frags_HindIII[c][p]]:\n",
    "    if c1 == c0:\n",
    "        diff = abs(v1 - v0)\n",
    "        if diff < 30000:  # larger fragments are probably poorly assembled regions\n",
    "            dists_HindIII.append(diff)\n",
    "    v0 = v1\n",
    "c0 = frags_MboI.keys()[0]\n",
    "v0 = 0\n",
    "dists_MboI = []\n",
    "for c1, v1 in [(c, v) for c in frags_MboI for p in frags_MboI[c] \n",
    "               for v in frags_MboI[c][p]]:\n",
    "    if c1 == c0:\n",
    "        diff = abs(v1 - v0)\n",
    "        if diff < 30000:  # larger fragments are probably poorly assembled regions\n",
    "            dists_MboI.append(diff)\n",
    "    v0 = v1"
   ]
  },
  {
   "cell_type": "code",
   "execution_count": 12,
   "metadata": {
    "collapsed": false,
    "deletable": true,
    "editable": true
   },
   "outputs": [
    {
     "data": {
      "image/png": "[encoded data removed]",
      "text/plain": [
       "<matplotlib.figure.Figure at 0x7fd45beeee50>"
      ]
     },
     "metadata": {},
     "output_type": "display_data"
    }
   ],
   "source": [
    "plt.figure(figsize=(12, 6))\n",
    "_ = plt.hist([dists_HindIII, dists_MboI], bins=50, color=['red', 'green'], \n",
    "             alpha=0.5, label=['HindIII', 'MboI'], normed=True, range=(0, 10000))\n",
    "y0, y1 = plt.ylim()\n",
    "plt.vlines(np.median(dists_HindIII), y0, y1 * 0.7, color='red', linestyle='--',\n",
    "          label='median HindIII')\n",
    "plt.vlines(np.median(dists_MboI)   , y0, y1 * 0.75, color='green', linestyle='--',\n",
    "          label='median MboI')\n",
    "plt.text(np.median(dists_HindIII), y1 * 0.7, '%.0f' % np.median(dists_HindIII), va='bottom', \n",
    "         ha='left')\n",
    "plt.text(np.median(dists_MboI)   , y1 * 0.75,'%.0f' % np.median(dists_MboI)   , va='bottom', \n",
    "         ha='left')\n",
    "plt.title('Restriction fragment size distribution')\n",
    "plt.legend()\n",
    "plt.xlim(0, 10000)\n",
    "plt.grid()"
   ]
  },
  {
   "cell_type": "markdown",
   "metadata": {
    "deletable": true,
    "editable": true
   },
   "source": [
    "## Extract uniquely mapped reads"
   ]
  },
  {
   "cell_type": "code",
   "execution_count": 30,
   "metadata": {
    "collapsed": true,
    "deletable": true,
    "editable": true
   },
   "outputs": [],
   "source": [
    "# replicate and enzyme useds\n",
    "r_enz = 'MboI'"
   ]
  },
  {
   "cell_type": "markdown",
   "metadata": {
    "deletable": true,
    "editable": true
   },
   "source": [
    "### Iterative mapping"
   ]
  },
  {
   "cell_type": "markdown",
   "metadata": {
    "deletable": true,
    "editable": true
   },
   "source": [
    "In case we haven't stored the location of each of the reads we could load them like this:"
   ]
  },
  {
   "cell_type": "code",
   "execution_count": 31,
   "metadata": {
    "collapsed": true,
    "deletable": true,
    "editable": true
   },
   "outputs": [],
   "source": [
    "maps1 = [('results/iterativ/{0}/01_mapping/mapped_{0}_r1/'\n",
    "          'K562_{0}_1_full_1-{1}.map').format(r_enz, i) \n",
    "         for i in range(25, 80, 5)]\n",
    "\n",
    "maps2 = [('results/iterativ/{0}/01_mapping/mapped_{0}_r2/'\n",
    "          'K562_{0}_2_full_1-{1}.map').format(r_enz, i) \n",
    "         for i in range(25, 80, 5)]"
   ]
  },
  {
   "cell_type": "markdown",
   "metadata": {
    "deletable": true,
    "editable": true
   },
   "source": [
    "Load all reads, check if they are uniquely mapped. Result is stored in two separate file tab-separated files that will contain the essential information of each read"
   ]
  },
  {
   "cell_type": "code",
   "execution_count": 32,
   "metadata": {
    "collapsed": true,
    "deletable": true,
    "editable": true
   },
   "outputs": [],
   "source": [
    "from pytadbit.parsers.map_parser import parse_map"
   ]
  },
  {
   "cell_type": "code",
   "execution_count": 33,
   "metadata": {
    "collapsed": true,
    "deletable": true,
    "editable": true
   },
   "outputs": [],
   "source": [
    "! mkdir -p results/iterativ/$r_enz/02_parsing"
   ]
  },
  {
   "cell_type": "code",
   "execution_count": null,
   "metadata": {
    "collapsed": false,
    "deletable": true,
    "editable": true
   },
   "outputs": [
    {
     "name": "stdout",
     "output_type": "stream",
     "text": [
      "Searching and mapping RE sites to the reference genome\n",
      "Found 860365 RE sites\n",
      "Loading read1\n",
      "loading file: results/iterativ/MboI/01_mapping/mapped_MboI_r1/K562_MboI_1_full_1-25.map\n",
      "loading file: results/iterativ/MboI/01_mapping/mapped_MboI_r1/K562_MboI_1_full_1-30.map\n",
      "loading file: results/iterativ/MboI/01_mapping/mapped_MboI_r1/K562_MboI_1_full_1-35.map\n",
      "loading file: results/iterativ/MboI/01_mapping/mapped_MboI_r1/K562_MboI_1_full_1-40.map\n",
      "loading file: results/iterativ/MboI/01_mapping/mapped_MboI_r1/K562_MboI_1_full_1-45.map\n",
      "loading file: results/iterativ/MboI/01_mapping/mapped_MboI_r1/K562_MboI_1_full_1-50.map\n",
      "loading file: results/iterativ/MboI/01_mapping/mapped_MboI_r1/K562_MboI_1_full_1-55.map\n",
      "loading file: results/iterativ/MboI/01_mapping/mapped_MboI_r1/K562_MboI_1_full_1-60.map\n",
      "loading file: results/iterativ/MboI/01_mapping/mapped_MboI_r1/K562_MboI_1_full_1-65.map\n",
      "loading file: results/iterativ/MboI/01_mapping/mapped_MboI_r1/K562_MboI_1_full_1-70.map\n",
      "loading file: results/iterativ/MboI/01_mapping/mapped_MboI_r1/K562_MboI_1_full_1-75.map\n",
      "Merge sort................\n",
      "Getting Multiple contacts\n",
      "Loading read2\n",
      "loading file: results/iterativ/MboI/01_mapping/mapped_MboI_r2/K562_MboI_2_full_1-25.map\n",
      "loading file: results/iterativ/MboI/01_mapping/mapped_MboI_r2/K562_MboI_2_full_1-30.map\n",
      "loading file: results/iterativ/MboI/01_mapping/mapped_MboI_r2/K562_MboI_2_full_1-35.map\n",
      "loading file: results/iterativ/MboI/01_mapping/mapped_MboI_r2/K562_MboI_2_full_1-40.map\n",
      "loading file: results/iterativ/MboI/01_mapping/mapped_MboI_r2/K562_MboI_2_full_1-45.map\n",
      "loading file: results/iterativ/MboI/01_mapping/mapped_MboI_r2/K562_MboI_2_full_1-50.map\n",
      "loading file: results/iterativ/MboI/01_mapping/mapped_MboI_r2/K562_MboI_2_full_1-55.map\n",
      "loading file: results/iterativ/MboI/01_mapping/mapped_MboI_r2/K562_MboI_2_full_1-60.map\n",
      "loading file: results/iterativ/MboI/01_mapping/mapped_MboI_r2/K562_MboI_2_full_1-65.map\n",
      "loading file: results/iterativ/MboI/01_mapping/mapped_MboI_r2/K562_MboI_2_full_1-70.map\n",
      "loading file: results/iterativ/MboI/01_mapping/mapped_MboI_r2/K562_MboI_2_full_1-75.map\n",
      "Merge sort................"
     ]
    }
   ],
   "source": [
    "parse_map(maps1, maps2,\n",
    "          'results/iterativ/{0}/02_parsing/reads1_{0}.tsv'.format(r_enz),\n",
    "          'results/iterativ/{0}/02_parsing/reads2_{0}.tsv'.format(r_enz),\n",
    "          genome_seq=genome_seq, re_name='HindIII', verbose=True)"
   ]
  },
  {
   "cell_type": "code",
   "execution_count": null,
   "metadata": {
    "collapsed": true,
    "deletable": true,
    "editable": true
   },
   "outputs": [],
   "source": [
    "from pytadbit.mapping.analyze import plot_iterative_mapping"
   ]
  },
  {
   "cell_type": "code",
   "execution_count": null,
   "metadata": {
    "collapsed": false,
    "deletable": true,
    "editable": true
   },
   "outputs": [],
   "source": [
    "total_reads = 25000000\n",
    "\n",
    "lengths = plot_iterative_mapping(\n",
    "    'results/iterativ/{0}/02_parsing/reads1_{0}.tsv'.format(r_enz), \n",
    "    'results/iterativ/{0}/02_parsing/reads2_{0}.tsv'.format(r_enz), \n",
    "    total_reads)"
   ]
  },
  {
   "cell_type": "markdown",
   "metadata": {
    "deletable": true,
    "editable": true
   },
   "source": [
    "### Fragment-based mapping"
   ]
  },
  {
   "cell_type": "code",
   "execution_count": null,
   "metadata": {
    "collapsed": true,
    "deletable": true,
    "editable": true
   },
   "outputs": [],
   "source": [
    "! mkdir -p results/fragment/$r_enz/02_parsing"
   ]
  },
  {
   "cell_type": "code",
   "execution_count": null,
   "metadata": {
    "collapsed": false,
    "deletable": true,
    "editable": true
   },
   "outputs": [],
   "source": [
    "maps1 = [('results/fragment/{0}/01_mapping/mapped_{0}_r1/'\n",
    "          'K562_{0}_1_full_1-end.map').format(r_enz),\n",
    "         ('results/fragment/{0}/01_mapping/mapped_{0}_r1/'\n",
    "          'K562_{0}_1_frag_1-end.map').format(r_enz)]\n",
    "\n",
    "maps2 = [('results/fragment/{0}/01_mapping/mapped_{0}_r2/'\n",
    "          'K562_{0}_2_full_1-end.map').format(r_enz),\n",
    "         ('results/fragment/{0}/01_mapping/mapped_{0}_r2/'\n",
    "          'K562_{0}_2_frag_1-end.map').format(r_enz)]"
   ]
  },
  {
   "cell_type": "code",
   "execution_count": null,
   "metadata": {
    "collapsed": false,
    "deletable": true,
    "editable": true
   },
   "outputs": [],
   "source": [
    "maps1"
   ]
  },
  {
   "cell_type": "code",
   "execution_count": null,
   "metadata": {
    "collapsed": false,
    "deletable": true,
    "editable": true
   },
   "outputs": [],
   "source": [
    "parse_map(maps1, maps2,\n",
    "          'results/fragment/{0}/02_parsing/reads1_{0}.tsv'.format(r_enz), \n",
    "          'results/fragment/{0}/02_parsing/reads2_{0}.tsv'.format(r_enz), \n",
    "          genome_seq=genome_seq, re_name='HindIII', verbose=True)"
   ]
  },
  {
   "cell_type": "code",
   "execution_count": null,
   "metadata": {
    "collapsed": true,
    "deletable": true,
    "editable": true
   },
   "outputs": [],
   "source": [
    "reads1 = 'results/fragment/{0}/02_parsing/reads1_{0}.tsv'.format(r_enz)\n",
    "reads2 = 'results/fragment/{0}/02_parsing/reads2_{0}.tsv'.format(r_enz)"
   ]
  },
  {
   "cell_type": "code",
   "execution_count": null,
   "metadata": {
    "collapsed": false,
    "deletable": true,
    "editable": true
   },
   "outputs": [],
   "source": [
    "total_reads = 25000000\n",
    "\n",
    "lengths = plot_iterative_mapping(reads1, reads2, total_reads)"
   ]
  },
  {
   "cell_type": "markdown",
   "metadata": {
    "deletable": true,
    "editable": true
   },
   "source": [
    "_From now on we are going to focus only on the results of the fragment based mapping_"
   ]
  },
  {
   "cell_type": "markdown",
   "metadata": {
    "deletable": true,
    "editable": true
   },
   "source": [
    "## Keep only pair of reads where both are mapped uniquely"
   ]
  },
  {
   "cell_type": "code",
   "execution_count": null,
   "metadata": {
    "collapsed": true,
    "deletable": true,
    "editable": true
   },
   "outputs": [],
   "source": [
    "from pytadbit.mapping import get_intersection"
   ]
  },
  {
   "cell_type": "code",
   "execution_count": null,
   "metadata": {
    "collapsed": true,
    "deletable": true,
    "editable": true
   },
   "outputs": [],
   "source": [
    "! mkdir -p results/fragment/$r_enz/03_filtering"
   ]
  },
  {
   "cell_type": "code",
   "execution_count": null,
   "metadata": {
    "collapsed": true,
    "deletable": true,
    "editable": true
   },
   "outputs": [],
   "source": [
    "reads = 'results/fragment/{0}/03_filtering/reads12_{0}.tsv'.format(r_enz)"
   ]
  },
  {
   "cell_type": "code",
   "execution_count": null,
   "metadata": {
    "collapsed": false,
    "deletable": true,
    "editable": true
   },
   "outputs": [],
   "source": [
    "get_intersection(reads1, reads2, reads, verbose=True)"
   ]
  },
  {
   "cell_type": "markdown",
   "metadata": {
    "deletable": true,
    "editable": true
   },
   "source": [
    "# Quality check of the Hi-C experiment"
   ]
  },
  {
   "cell_type": "markdown",
   "metadata": {
    "deletable": true,
    "editable": true
   },
   "source": [
    "## Number of interactions versus genomic distance"
   ]
  },
  {
   "cell_type": "code",
   "execution_count": null,
   "metadata": {
    "collapsed": false,
    "deletable": true,
    "editable": true
   },
   "outputs": [],
   "source": [
    "from pytadbit.mapping.analyze import plot_distance_vs_interactions\n",
    "\n",
    "plot_distance_vs_interactions(reads, resolution=100000, max_diff=1000, show=True)"
   ]
  },
  {
   "cell_type": "markdown",
   "metadata": {
    "deletable": true,
    "editable": true
   },
   "source": [
    "According to the fractal globule model <a name=\"ref-1\"/>[(Mirny, 2011)](#cite-Mirny2011) the slope between 700 kb and 10 Mb should be around -1 in log scale"
   ]
  },
  {
   "cell_type": "markdown",
   "metadata": {
    "deletable": true,
    "editable": true
   },
   "source": [
    "## Genomic coverage"
   ]
  },
  {
   "cell_type": "code",
   "execution_count": null,
   "metadata": {
    "collapsed": false,
    "deletable": true,
    "editable": true
   },
   "outputs": [],
   "source": [
    "from pytadbit.mapping.analyze import plot_genomic_distribution"
   ]
  },
  {
   "cell_type": "code",
   "execution_count": null,
   "metadata": {
    "collapsed": false,
    "deletable": true,
    "editable": true,
    "scrolled": false
   },
   "outputs": [],
   "source": [
    "plot_genomic_distribution(reads, resolution=500000, ylim=(0, 10000), show=True)"
   ]
  },
  {
   "cell_type": "markdown",
   "metadata": {
    "deletable": true,
    "editable": true
   },
   "source": [
    "We are working with a cell line with a very aberrant karyotype (https://commons.wikimedia.org/wiki/File:Karyotype_of_the_T47D_breast_cancer_cell_line.svg)."
   ]
  },
  {
   "cell_type": "markdown",
   "metadata": {
    "deletable": true,
    "editable": true
   },
   "source": [
    "## First Hi-C map"
   ]
  },
  {
   "cell_type": "code",
   "execution_count": null,
   "metadata": {
    "collapsed": true,
    "deletable": true,
    "editable": true
   },
   "outputs": [],
   "source": [
    "from pytadbit.mapping.analyze import hic_map"
   ]
  },
  {
   "cell_type": "code",
   "execution_count": null,
   "metadata": {
    "collapsed": false,
    "deletable": true,
    "editable": true
   },
   "outputs": [],
   "source": [
    "hic_map(reads, resolution=1000000, show=True)"
   ]
  },
  {
   "cell_type": "markdown",
   "metadata": {
    "deletable": true,
    "editable": true
   },
   "source": [
    "## Insert size"
   ]
  },
  {
   "cell_type": "markdown",
   "metadata": {
    "deletable": true,
    "editable": true
   },
   "source": [
    "From the reads that are mapped in a single fragment we can infer the average insert size:"
   ]
  },
  {
   "cell_type": "code",
   "execution_count": null,
   "metadata": {
    "collapsed": false,
    "deletable": true,
    "editable": true
   },
   "outputs": [],
   "source": [
    "from pytadbit.mapping.analyze import insert_sizes"
   ]
  },
  {
   "cell_type": "code",
   "execution_count": null,
   "metadata": {
    "collapsed": false,
    "deletable": true,
    "editable": true
   },
   "outputs": [],
   "source": [
    "insert_sizes(reads, show=True, nreads=1000000)"
   ]
  },
  {
   "cell_type": "markdown",
   "metadata": {
    "deletable": true,
    "editable": true
   },
   "source": [
    "The median size of the sequenced DNA fragments is thus 172 nt."
   ]
  },
  {
   "cell_type": "markdown",
   "metadata": {
    "deletable": true,
    "editable": true
   },
   "source": [
    "<!--bibtex\n",
    "@article{Mirny2011,\n",
    "abstract = {The fractal globule is a compact polymer state that emerges during polymer condensation as a result of topological constraints which prevent one region of the chain from passing across another one. This long-lived intermediate state was introduced in 1988 (Grosberg et al. 1988) and has not been observed in experiments or simulations until recently (Lieberman-Aiden et al. 2009). Recent characterization of human chromatin using a novel chromosome conformational capture technique brought the fractal globule into the spotlight as a structural model of human chromosome on the scale of up to 10 Mb (Lieberman-Aiden et al. 2009). Here, we present the concept of the fractal globule, comparing it to other states of a polymer and focusing on its properties relevant for the biophysics of chromatin. We then discuss properties of the fractal globule that make it an attractive model for chromatin organization inside a cell. Next, we connect the fractal globule to recent studies that emphasize topological constraints as a primary factor driving formation of chromosomal territories. We discuss how theoretical predictions, made on the basis of the fractal globule model, can be tested experimentally. Finally, we discuss whether fractal globule architecture can be relevant for chromatin packing in other organisms such as yeast and bacteria.},\n",
    "author = {Mirny, Leonid a},\n",
    "doi = {10.1007/s10577-010-9177-0},\n",
    "file = {:home/fransua/.local/share/data/Mendeley Ltd./Mendeley Desktop/Downloaded/Mirny - 2011 - The fractal globule as a model of chromatin architecture in the cell.pdf:pdf},\n",
    "issn = {1573-6849},\n",
    "journal = {Chromosome research : an international journal on the molecular, supramolecular and evolutionary aspects of chromosome biology},\n",
    "keywords = {Biophysics,Chromatin,Chromatin: ultrastructure,Chromosomes, Human,Fractals,Humans,Models, Molecular,Protein Conformation,Protein Folding},\n",
    "mendeley-groups = {Research articles,projects/FEBS{\\_}review/modeling{\\_}perspectives},\n",
    "month = {jan},\n",
    "number = {1},\n",
    "pages = {37--51},\n",
    "pmid = {21274616},\n",
    "title = {{The fractal globule as a model of chromatin architecture in the cell.}},\n",
    "url = {http://www.pubmedcentral.nih.gov/articlerender.fcgi?artid=3040307{\\&}tool=pmcentrez{\\&}rendertype=abstract},\n",
    "volume = {19},\n",
    "year = {2011}\n",
    "}\n",
    "-->"
   ]
  },
  {
   "cell_type": "markdown",
   "metadata": {
    "deletable": true,
    "editable": true
   },
   "source": [
    "# References\n",
    "\n",
    "<a name=\"cite-Mirny2011\"/><sup>[^](#ref-1) </sup>Mirny, Leonid a. 2011. _The fractal globule as a model of chromatin architecture in the cell._. [URL](http://www.pubmedcentral.nih.gov/articlerender.fcgi?artid=3040307{\\&}tool=pmcentrez{\\&}rendertype=abstract)\n",
    "\n"
   ]
  }
 ],
 "metadata": {
  "kernelspec": {
   "display_name": "Python 2",
   "language": "python",
   "name": "python2"
  },
  "language_info": {
   "codemirror_mode": {
    "name": "ipython",
    "version": 2
   },
   "file_extension": ".py",
   "mimetype": "text/x-python",
   "name": "python",
   "nbconvert_exporter": "python",
   "pygments_lexer": "ipython2",
   "version": "2.7.13"
  }
 },
 "nbformat": 4,
 "nbformat_minor": 0
}
